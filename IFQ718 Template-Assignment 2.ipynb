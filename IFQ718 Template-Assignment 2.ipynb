{
 "cells": [
  {
   "cell_type": "markdown",
   "id": "a8426093-a897-4e69-80dd-ec8f0e2651f6",
   "metadata": {},
   "source": [
    "# IFQ718 Assignment 2"
   ]
  },
  {
   "cell_type": "markdown",
   "id": "abaaa7be-4e99-4755-a57b-cd26f78336d9",
   "metadata": {},
   "source": [
    "---\n",
    "\n",
    "## Questions\n",
    "\n",
    "Select any three"
   ]
  },
  {
   "cell_type": "markdown",
   "id": "30e95bed-04ac-4ba6-b5a7-8c13060abe9a",
   "metadata": {},
   "source": [
    "1. What is the profit of each business per year?\n",
    "\n",
    "2. Which product generated the most profit for each business per year?\n",
    "\n",
    "3. What was the most popular product for each business in each year?\n",
    "\n",
    "4. Are there periods of the year where some businesses are more profitable?\n",
    "\n",
    "5. What were the most utilised promotions for each business?\n",
    "\n",
    "6. Which customers were most loyal for each business?\n",
    "\n",
    "7. What is the total expenditure of loyal customers compared to one-off customers?\n",
    "\n",
    "8. What is the employee turnover rate of each business?\n",
    "\n",
    "9. How much has inflation impacted the profit margin of each business?\n",
    "\n",
    "10. What is the impact of seasonal fluctuations on each business?"
   ]
  },
  {
   "cell_type": "markdown",
   "id": "330e2d0b-4ab5-4764-a2a1-b5019c052257",
   "metadata": {},
   "source": [
    "---\n",
    "\n",
    "## Getting started\n",
    "\n",
    "We have provided some code below to get you started"
   ]
  },
  {
   "metadata": {
    "ExecuteTime": {
     "end_time": "2025-07-05T17:02:54.201504Z",
     "start_time": "2025-07-05T17:02:53.085129Z"
    }
   },
   "cell_type": "code",
   "source": [
    "!pip install duckdb\n",
    "!pip install plotly"
   ],
   "id": "24f3bb39f2234cf1",
   "outputs": [
    {
     "name": "stdout",
     "output_type": "stream",
     "text": [
      "Looking in indexes: https://pypi.org/simple, https://****@pypi.fury.io/jackptoke/lewagon_jackptoke_gcp_vm/\r\n",
      "Requirement already satisfied: duckdb in /opt/homebrew/anaconda3/lib/python3.11/site-packages (1.3.1)\r\n",
      "Looking in indexes: https://pypi.org/simple, https://****@pypi.fury.io/jackptoke/lewagon_jackptoke_gcp_vm/\r\n",
      "Requirement already satisfied: plotly in /opt/homebrew/anaconda3/lib/python3.11/site-packages (5.9.0)\r\n",
      "Requirement already satisfied: tenacity>=6.2.0 in /opt/homebrew/anaconda3/lib/python3.11/site-packages (from plotly) (8.2.2)\r\n"
     ]
    }
   ],
   "execution_count": 7
  },
  {
   "metadata": {
    "ExecuteTime": {
     "end_time": "2025-07-05T17:03:55.081910Z",
     "start_time": "2025-07-05T17:03:54.647512Z"
    }
   },
   "cell_type": "code",
   "source": [
    "# Run this cell to begin working with this Notebook\n",
    "# Please make any modifications to suit your needs\n",
    "\n",
    "import os\n",
    "import csv\n",
    "import json\n",
    "\n",
    "import pandas as pd\n",
    "import duckdb"
   ],
   "id": "3adbff0c-bbd5-484a-86f6-c29fced396cb",
   "outputs": [],
   "execution_count": 9
  },
  {
   "cell_type": "markdown",
   "id": "15e7d37e-35f2-4661-b093-a2fdca52efe1",
   "metadata": {},
   "source": [
    "---\n",
    "\n",
    "# Preparations"
   ]
  },
  {
   "cell_type": "markdown",
   "id": "f9ad4502-9ac0-409c-a13e-421ec48628ac",
   "metadata": {},
   "source": "## All the data transformation are happening in dbt, which you can see in the `./dbt/airbnb/models` folder"
  },
  {
   "cell_type": "code",
   "id": "a61bcc85-1559-4b64-8d97-64e5d3a56ebe",
   "metadata": {
    "ExecuteTime": {
     "end_time": "2025-07-05T17:12:36.999232Z",
     "start_time": "2025-07-05T17:12:36.963983Z"
    }
   },
   "source": [
    "# All the data tranformation are happ\n",
    "DUCKDB_FILE = './dbt/airbnb/receipts.duckdb'\n",
    "with duckdb.connect(DUCKDB_FILE) as conn:\n",
    "    receipts_df = conn.sql(\"SELECT * FROM receipts.main.receipts\").df()\n",
    "    receipt_businesses_df = conn.sql(\"SELECT * FROM receipts.main.receipt_businesses\").df()\n",
    "    receipt_cashiers_df = conn.sql(\"SELECT * FROM receipts.main.receipt_cashiers\").df()\n",
    "    receipt_customers_df = conn.sql(\"SELECT * FROM receipts.main.receipt_customers\").df()\n",
    "    receipt_payments_df = conn.sql(\"SELECT * FROM receipts.main.receipt_payments\").df()\n",
    "    receipt_products_df = conn.sql(\"SELECT * FROM receipts.main.receipt_products\").df()\n",
    "    receipt_promotions_df = conn.sql(\"SELECT * FROM receipts.main.receipt_promotions\").df()\n"
   ],
   "outputs": [],
   "execution_count": 14
  },
  {
   "metadata": {},
   "cell_type": "markdown",
   "source": "#### All receipts that we have",
   "id": "bc54a6e00f63e836"
  },
  {
   "cell_type": "code",
   "id": "a5a7f095-ddb1-4fc2-ba39-c60e955b3664",
   "metadata": {
    "ExecuteTime": {
     "end_time": "2025-07-05T17:13:49.656135Z",
     "start_time": "2025-07-05T17:13:49.649004Z"
    }
   },
   "source": [
    "##### All the receipts\n",
    "receipts_df"
   ],
   "outputs": [
    {
     "data": {
      "text/plain": [
       "                receipt_ref  sequence_num receipt_date    gst  terminal_num  \\\n",
       "0      9626510:290218:03933          3933   2029/02/18   8.44             4   \n",
       "1      5593822:260423:01227          1227   2026/04/23   3.98             5   \n",
       "2      2209696:290126:03734          3734   2029/01/26   0.93             4   \n",
       "3      3795898:250425:01050          1050   2025/04/25   9.86             4   \n",
       "4      2209696:240130:00749           749   2024/01/30   1.80             1   \n",
       "...                     ...           ...          ...    ...           ...   \n",
       "13475  5593822:280425:01948          1948   2028/04/25   4.67             3   \n",
       "13476  5593822:270506:01591          1591   2027/05/06   4.58             3   \n",
       "13477  5593822:230727:00320           320   2023/07/27  11.07             4   \n",
       "13478  9626510:231230:00706           706   2023/12/30   3.69             3   \n",
       "13479  2209696:260106:01801          1801   2026/01/06   1.86             1   \n",
       "\n",
       "       receipt_total  \n",
       "0              92.82  \n",
       "1              43.80  \n",
       "2              10.20  \n",
       "3             108.48  \n",
       "4              19.80  \n",
       "...              ...  \n",
       "13475          51.32  \n",
       "13476          50.40  \n",
       "13477         121.80  \n",
       "13478          40.56  \n",
       "13479          20.46  \n",
       "\n",
       "[13480 rows x 6 columns]"
      ],
      "text/html": [
       "<div>\n",
       "<style scoped>\n",
       "    .dataframe tbody tr th:only-of-type {\n",
       "        vertical-align: middle;\n",
       "    }\n",
       "\n",
       "    .dataframe tbody tr th {\n",
       "        vertical-align: top;\n",
       "    }\n",
       "\n",
       "    .dataframe thead th {\n",
       "        text-align: right;\n",
       "    }\n",
       "</style>\n",
       "<table border=\"1\" class=\"dataframe\">\n",
       "  <thead>\n",
       "    <tr style=\"text-align: right;\">\n",
       "      <th></th>\n",
       "      <th>receipt_ref</th>\n",
       "      <th>sequence_num</th>\n",
       "      <th>receipt_date</th>\n",
       "      <th>gst</th>\n",
       "      <th>terminal_num</th>\n",
       "      <th>receipt_total</th>\n",
       "    </tr>\n",
       "  </thead>\n",
       "  <tbody>\n",
       "    <tr>\n",
       "      <th>0</th>\n",
       "      <td>9626510:290218:03933</td>\n",
       "      <td>3933</td>\n",
       "      <td>2029/02/18</td>\n",
       "      <td>8.44</td>\n",
       "      <td>4</td>\n",
       "      <td>92.82</td>\n",
       "    </tr>\n",
       "    <tr>\n",
       "      <th>1</th>\n",
       "      <td>5593822:260423:01227</td>\n",
       "      <td>1227</td>\n",
       "      <td>2026/04/23</td>\n",
       "      <td>3.98</td>\n",
       "      <td>5</td>\n",
       "      <td>43.80</td>\n",
       "    </tr>\n",
       "    <tr>\n",
       "      <th>2</th>\n",
       "      <td>2209696:290126:03734</td>\n",
       "      <td>3734</td>\n",
       "      <td>2029/01/26</td>\n",
       "      <td>0.93</td>\n",
       "      <td>4</td>\n",
       "      <td>10.20</td>\n",
       "    </tr>\n",
       "    <tr>\n",
       "      <th>3</th>\n",
       "      <td>3795898:250425:01050</td>\n",
       "      <td>1050</td>\n",
       "      <td>2025/04/25</td>\n",
       "      <td>9.86</td>\n",
       "      <td>4</td>\n",
       "      <td>108.48</td>\n",
       "    </tr>\n",
       "    <tr>\n",
       "      <th>4</th>\n",
       "      <td>2209696:240130:00749</td>\n",
       "      <td>749</td>\n",
       "      <td>2024/01/30</td>\n",
       "      <td>1.80</td>\n",
       "      <td>1</td>\n",
       "      <td>19.80</td>\n",
       "    </tr>\n",
       "    <tr>\n",
       "      <th>...</th>\n",
       "      <td>...</td>\n",
       "      <td>...</td>\n",
       "      <td>...</td>\n",
       "      <td>...</td>\n",
       "      <td>...</td>\n",
       "      <td>...</td>\n",
       "    </tr>\n",
       "    <tr>\n",
       "      <th>13475</th>\n",
       "      <td>5593822:280425:01948</td>\n",
       "      <td>1948</td>\n",
       "      <td>2028/04/25</td>\n",
       "      <td>4.67</td>\n",
       "      <td>3</td>\n",
       "      <td>51.32</td>\n",
       "    </tr>\n",
       "    <tr>\n",
       "      <th>13476</th>\n",
       "      <td>5593822:270506:01591</td>\n",
       "      <td>1591</td>\n",
       "      <td>2027/05/06</td>\n",
       "      <td>4.58</td>\n",
       "      <td>3</td>\n",
       "      <td>50.40</td>\n",
       "    </tr>\n",
       "    <tr>\n",
       "      <th>13477</th>\n",
       "      <td>5593822:230727:00320</td>\n",
       "      <td>320</td>\n",
       "      <td>2023/07/27</td>\n",
       "      <td>11.07</td>\n",
       "      <td>4</td>\n",
       "      <td>121.80</td>\n",
       "    </tr>\n",
       "    <tr>\n",
       "      <th>13478</th>\n",
       "      <td>9626510:231230:00706</td>\n",
       "      <td>706</td>\n",
       "      <td>2023/12/30</td>\n",
       "      <td>3.69</td>\n",
       "      <td>3</td>\n",
       "      <td>40.56</td>\n",
       "    </tr>\n",
       "    <tr>\n",
       "      <th>13479</th>\n",
       "      <td>2209696:260106:01801</td>\n",
       "      <td>1801</td>\n",
       "      <td>2026/01/06</td>\n",
       "      <td>1.86</td>\n",
       "      <td>1</td>\n",
       "      <td>20.46</td>\n",
       "    </tr>\n",
       "  </tbody>\n",
       "</table>\n",
       "<p>13480 rows × 6 columns</p>\n",
       "</div>"
      ]
     },
     "execution_count": 16,
     "metadata": {},
     "output_type": "execute_result"
    }
   ],
   "execution_count": 16
  },
  {
   "metadata": {},
   "cell_type": "markdown",
   "source": "#### This table contains data of which receipts belongs to which businesses",
   "id": "89d28451438dc7da"
  },
  {
   "cell_type": "code",
   "id": "63c1e0d6-5078-4427-8ff8-397ee75cda62",
   "metadata": {
    "ExecuteTime": {
     "end_time": "2025-07-05T17:14:58.826695Z",
     "start_time": "2025-07-05T17:14:58.820862Z"
    }
   },
   "source": [
    "# Normalised table containing all the \n",
    "receipt_businesses_df"
   ],
   "outputs": [
    {
     "data": {
      "text/plain": [
       "                receipt_ref business_abn              business_name\n",
       "0      9626510:290218:03933    962 65 10  Please Bring Pizza Pronto\n",
       "1      5593822:260423:01227    559 38 22        Penguin Swim School\n",
       "2      2209696:290126:03734    220 96 96        Wake Up with Coffee\n",
       "3      3795898:250425:01050    379 58 98       Ed's Barber Supplies\n",
       "4      2209696:240130:00749    220 96 96        Wake Up with Coffee\n",
       "...                     ...          ...                        ...\n",
       "13475  5593822:280425:01948    559 38 22        Penguin Swim School\n",
       "13476  5593822:270506:01591    559 38 22        Penguin Swim School\n",
       "13477  5593822:230727:00320    559 38 22        Penguin Swim School\n",
       "13478  9626510:231230:00706    962 65 10  Please Bring Pizza Pronto\n",
       "13479  2209696:260106:01801    220 96 96        Wake Up with Coffee\n",
       "\n",
       "[13480 rows x 3 columns]"
      ],
      "text/html": [
       "<div>\n",
       "<style scoped>\n",
       "    .dataframe tbody tr th:only-of-type {\n",
       "        vertical-align: middle;\n",
       "    }\n",
       "\n",
       "    .dataframe tbody tr th {\n",
       "        vertical-align: top;\n",
       "    }\n",
       "\n",
       "    .dataframe thead th {\n",
       "        text-align: right;\n",
       "    }\n",
       "</style>\n",
       "<table border=\"1\" class=\"dataframe\">\n",
       "  <thead>\n",
       "    <tr style=\"text-align: right;\">\n",
       "      <th></th>\n",
       "      <th>receipt_ref</th>\n",
       "      <th>business_abn</th>\n",
       "      <th>business_name</th>\n",
       "    </tr>\n",
       "  </thead>\n",
       "  <tbody>\n",
       "    <tr>\n",
       "      <th>0</th>\n",
       "      <td>9626510:290218:03933</td>\n",
       "      <td>962 65 10</td>\n",
       "      <td>Please Bring Pizza Pronto</td>\n",
       "    </tr>\n",
       "    <tr>\n",
       "      <th>1</th>\n",
       "      <td>5593822:260423:01227</td>\n",
       "      <td>559 38 22</td>\n",
       "      <td>Penguin Swim School</td>\n",
       "    </tr>\n",
       "    <tr>\n",
       "      <th>2</th>\n",
       "      <td>2209696:290126:03734</td>\n",
       "      <td>220 96 96</td>\n",
       "      <td>Wake Up with Coffee</td>\n",
       "    </tr>\n",
       "    <tr>\n",
       "      <th>3</th>\n",
       "      <td>3795898:250425:01050</td>\n",
       "      <td>379 58 98</td>\n",
       "      <td>Ed's Barber Supplies</td>\n",
       "    </tr>\n",
       "    <tr>\n",
       "      <th>4</th>\n",
       "      <td>2209696:240130:00749</td>\n",
       "      <td>220 96 96</td>\n",
       "      <td>Wake Up with Coffee</td>\n",
       "    </tr>\n",
       "    <tr>\n",
       "      <th>...</th>\n",
       "      <td>...</td>\n",
       "      <td>...</td>\n",
       "      <td>...</td>\n",
       "    </tr>\n",
       "    <tr>\n",
       "      <th>13475</th>\n",
       "      <td>5593822:280425:01948</td>\n",
       "      <td>559 38 22</td>\n",
       "      <td>Penguin Swim School</td>\n",
       "    </tr>\n",
       "    <tr>\n",
       "      <th>13476</th>\n",
       "      <td>5593822:270506:01591</td>\n",
       "      <td>559 38 22</td>\n",
       "      <td>Penguin Swim School</td>\n",
       "    </tr>\n",
       "    <tr>\n",
       "      <th>13477</th>\n",
       "      <td>5593822:230727:00320</td>\n",
       "      <td>559 38 22</td>\n",
       "      <td>Penguin Swim School</td>\n",
       "    </tr>\n",
       "    <tr>\n",
       "      <th>13478</th>\n",
       "      <td>9626510:231230:00706</td>\n",
       "      <td>962 65 10</td>\n",
       "      <td>Please Bring Pizza Pronto</td>\n",
       "    </tr>\n",
       "    <tr>\n",
       "      <th>13479</th>\n",
       "      <td>2209696:260106:01801</td>\n",
       "      <td>220 96 96</td>\n",
       "      <td>Wake Up with Coffee</td>\n",
       "    </tr>\n",
       "  </tbody>\n",
       "</table>\n",
       "<p>13480 rows × 3 columns</p>\n",
       "</div>"
      ]
     },
     "execution_count": 17,
     "metadata": {},
     "output_type": "execute_result"
    }
   ],
   "execution_count": 17
  },
  {
   "metadata": {},
   "cell_type": "markdown",
   "source": "#### This table contains data of which receipts was produced by which Cashiers",
   "id": "18611334ba02add3"
  },
  {
   "metadata": {
    "ExecuteTime": {
     "end_time": "2025-07-05T17:16:03.088383Z",
     "start_time": "2025-07-05T17:16:03.084822Z"
    }
   },
   "cell_type": "code",
   "source": "receipt_cashiers_df",
   "id": "2427bf95e970fd37",
   "outputs": [
    {
     "data": {
      "text/plain": [
       "                receipt_ref cashier_name\n",
       "0      9626510:290218:03933     Jennifer\n",
       "1      5593822:260423:01227        Donna\n",
       "2      2209696:290126:03734       Lauren\n",
       "3      3795898:250425:01050     Jonathon\n",
       "4      2209696:240130:00749        Scott\n",
       "...                     ...          ...\n",
       "13475  5593822:280425:01948        Donna\n",
       "13476  5593822:270506:01591        Kevin\n",
       "13477  5593822:230727:00320        Kevin\n",
       "13478  9626510:231230:00706         Tara\n",
       "13479  2209696:260106:01801       Leslie\n",
       "\n",
       "[13480 rows x 2 columns]"
      ],
      "text/html": [
       "<div>\n",
       "<style scoped>\n",
       "    .dataframe tbody tr th:only-of-type {\n",
       "        vertical-align: middle;\n",
       "    }\n",
       "\n",
       "    .dataframe tbody tr th {\n",
       "        vertical-align: top;\n",
       "    }\n",
       "\n",
       "    .dataframe thead th {\n",
       "        text-align: right;\n",
       "    }\n",
       "</style>\n",
       "<table border=\"1\" class=\"dataframe\">\n",
       "  <thead>\n",
       "    <tr style=\"text-align: right;\">\n",
       "      <th></th>\n",
       "      <th>receipt_ref</th>\n",
       "      <th>cashier_name</th>\n",
       "    </tr>\n",
       "  </thead>\n",
       "  <tbody>\n",
       "    <tr>\n",
       "      <th>0</th>\n",
       "      <td>9626510:290218:03933</td>\n",
       "      <td>Jennifer</td>\n",
       "    </tr>\n",
       "    <tr>\n",
       "      <th>1</th>\n",
       "      <td>5593822:260423:01227</td>\n",
       "      <td>Donna</td>\n",
       "    </tr>\n",
       "    <tr>\n",
       "      <th>2</th>\n",
       "      <td>2209696:290126:03734</td>\n",
       "      <td>Lauren</td>\n",
       "    </tr>\n",
       "    <tr>\n",
       "      <th>3</th>\n",
       "      <td>3795898:250425:01050</td>\n",
       "      <td>Jonathon</td>\n",
       "    </tr>\n",
       "    <tr>\n",
       "      <th>4</th>\n",
       "      <td>2209696:240130:00749</td>\n",
       "      <td>Scott</td>\n",
       "    </tr>\n",
       "    <tr>\n",
       "      <th>...</th>\n",
       "      <td>...</td>\n",
       "      <td>...</td>\n",
       "    </tr>\n",
       "    <tr>\n",
       "      <th>13475</th>\n",
       "      <td>5593822:280425:01948</td>\n",
       "      <td>Donna</td>\n",
       "    </tr>\n",
       "    <tr>\n",
       "      <th>13476</th>\n",
       "      <td>5593822:270506:01591</td>\n",
       "      <td>Kevin</td>\n",
       "    </tr>\n",
       "    <tr>\n",
       "      <th>13477</th>\n",
       "      <td>5593822:230727:00320</td>\n",
       "      <td>Kevin</td>\n",
       "    </tr>\n",
       "    <tr>\n",
       "      <th>13478</th>\n",
       "      <td>9626510:231230:00706</td>\n",
       "      <td>Tara</td>\n",
       "    </tr>\n",
       "    <tr>\n",
       "      <th>13479</th>\n",
       "      <td>2209696:260106:01801</td>\n",
       "      <td>Leslie</td>\n",
       "    </tr>\n",
       "  </tbody>\n",
       "</table>\n",
       "<p>13480 rows × 2 columns</p>\n",
       "</div>"
      ]
     },
     "execution_count": 18,
     "metadata": {},
     "output_type": "execute_result"
    }
   ],
   "execution_count": 18
  },
  {
   "metadata": {},
   "cell_type": "markdown",
   "source": "#### This table contains data of which receipts belong to which customers",
   "id": "52d459ee7c7ef549"
  },
  {
   "metadata": {
    "ExecuteTime": {
     "end_time": "2025-07-05T17:17:12.694508Z",
     "start_time": "2025-07-05T17:17:12.690803Z"
    }
   },
   "cell_type": "code",
   "source": "receipt_customers_df",
   "id": "438c28700a75e5fd",
   "outputs": [
    {
     "data": {
      "text/plain": [
       "                receipt_ref customer_name  customer_points\n",
       "0      9626510:290218:03933         Scott             9281\n",
       "1      5593822:260423:01227         Scott             3310\n",
       "2      2209696:290126:03734         Isaac             1020\n",
       "3      3795898:250425:01050         Scott            10848\n",
       "4      2209696:240130:00749          None             <NA>\n",
       "...                     ...           ...              ...\n",
       "13475  5593822:280425:01948         Derek             5132\n",
       "13476  5593822:270506:01591          None             <NA>\n",
       "13477  5593822:230727:00320         Derek            12180\n",
       "13478  9626510:231230:00706          Mary             4055\n",
       "13479  2209696:260106:01801          None             <NA>\n",
       "\n",
       "[13480 rows x 3 columns]"
      ],
      "text/html": [
       "<div>\n",
       "<style scoped>\n",
       "    .dataframe tbody tr th:only-of-type {\n",
       "        vertical-align: middle;\n",
       "    }\n",
       "\n",
       "    .dataframe tbody tr th {\n",
       "        vertical-align: top;\n",
       "    }\n",
       "\n",
       "    .dataframe thead th {\n",
       "        text-align: right;\n",
       "    }\n",
       "</style>\n",
       "<table border=\"1\" class=\"dataframe\">\n",
       "  <thead>\n",
       "    <tr style=\"text-align: right;\">\n",
       "      <th></th>\n",
       "      <th>receipt_ref</th>\n",
       "      <th>customer_name</th>\n",
       "      <th>customer_points</th>\n",
       "    </tr>\n",
       "  </thead>\n",
       "  <tbody>\n",
       "    <tr>\n",
       "      <th>0</th>\n",
       "      <td>9626510:290218:03933</td>\n",
       "      <td>Scott</td>\n",
       "      <td>9281</td>\n",
       "    </tr>\n",
       "    <tr>\n",
       "      <th>1</th>\n",
       "      <td>5593822:260423:01227</td>\n",
       "      <td>Scott</td>\n",
       "      <td>3310</td>\n",
       "    </tr>\n",
       "    <tr>\n",
       "      <th>2</th>\n",
       "      <td>2209696:290126:03734</td>\n",
       "      <td>Isaac</td>\n",
       "      <td>1020</td>\n",
       "    </tr>\n",
       "    <tr>\n",
       "      <th>3</th>\n",
       "      <td>3795898:250425:01050</td>\n",
       "      <td>Scott</td>\n",
       "      <td>10848</td>\n",
       "    </tr>\n",
       "    <tr>\n",
       "      <th>4</th>\n",
       "      <td>2209696:240130:00749</td>\n",
       "      <td>None</td>\n",
       "      <td>&lt;NA&gt;</td>\n",
       "    </tr>\n",
       "    <tr>\n",
       "      <th>...</th>\n",
       "      <td>...</td>\n",
       "      <td>...</td>\n",
       "      <td>...</td>\n",
       "    </tr>\n",
       "    <tr>\n",
       "      <th>13475</th>\n",
       "      <td>5593822:280425:01948</td>\n",
       "      <td>Derek</td>\n",
       "      <td>5132</td>\n",
       "    </tr>\n",
       "    <tr>\n",
       "      <th>13476</th>\n",
       "      <td>5593822:270506:01591</td>\n",
       "      <td>None</td>\n",
       "      <td>&lt;NA&gt;</td>\n",
       "    </tr>\n",
       "    <tr>\n",
       "      <th>13477</th>\n",
       "      <td>5593822:230727:00320</td>\n",
       "      <td>Derek</td>\n",
       "      <td>12180</td>\n",
       "    </tr>\n",
       "    <tr>\n",
       "      <th>13478</th>\n",
       "      <td>9626510:231230:00706</td>\n",
       "      <td>Mary</td>\n",
       "      <td>4055</td>\n",
       "    </tr>\n",
       "    <tr>\n",
       "      <th>13479</th>\n",
       "      <td>2209696:260106:01801</td>\n",
       "      <td>None</td>\n",
       "      <td>&lt;NA&gt;</td>\n",
       "    </tr>\n",
       "  </tbody>\n",
       "</table>\n",
       "<p>13480 rows × 3 columns</p>\n",
       "</div>"
      ]
     },
     "execution_count": 19,
     "metadata": {},
     "output_type": "execute_result"
    }
   ],
   "execution_count": 19
  },
  {
   "metadata": {},
   "cell_type": "markdown",
   "source": "#### This table contains data of which payments belong to which receipts",
   "id": "a35fadc644062544"
  },
  {
   "metadata": {
    "ExecuteTime": {
     "end_time": "2025-07-05T17:18:18.326642Z",
     "start_time": "2025-07-05T17:18:18.321397Z"
    }
   },
   "cell_type": "code",
   "source": "receipt_payments_df",
   "id": "db308373e22b9d9e",
   "outputs": [
    {
     "data": {
      "text/plain": [
       "                receipt_ref  payment_method  payment_amount\n",
       "0      9626510:290218:03933          EFTPOS           92.82\n",
       "1      5593822:260423:01227  Loyalty Points           10.70\n",
       "2      5593822:260423:01227       Gift Card           33.10\n",
       "3      2209696:290126:03734     Credit Card            1.02\n",
       "4      2209696:290126:03734      Debit Card            9.18\n",
       "...                     ...             ...             ...\n",
       "19702  5593822:230727:00320     Credit Card          121.80\n",
       "19703  9626510:231230:00706            Cash            3.85\n",
       "19704  9626510:231230:00706          EFTPOS           36.71\n",
       "19705  2209696:260106:01801            Cash           19.35\n",
       "19706  2209696:260106:01801     Credit Card            1.11\n",
       "\n",
       "[19707 rows x 3 columns]"
      ],
      "text/html": [
       "<div>\n",
       "<style scoped>\n",
       "    .dataframe tbody tr th:only-of-type {\n",
       "        vertical-align: middle;\n",
       "    }\n",
       "\n",
       "    .dataframe tbody tr th {\n",
       "        vertical-align: top;\n",
       "    }\n",
       "\n",
       "    .dataframe thead th {\n",
       "        text-align: right;\n",
       "    }\n",
       "</style>\n",
       "<table border=\"1\" class=\"dataframe\">\n",
       "  <thead>\n",
       "    <tr style=\"text-align: right;\">\n",
       "      <th></th>\n",
       "      <th>receipt_ref</th>\n",
       "      <th>payment_method</th>\n",
       "      <th>payment_amount</th>\n",
       "    </tr>\n",
       "  </thead>\n",
       "  <tbody>\n",
       "    <tr>\n",
       "      <th>0</th>\n",
       "      <td>9626510:290218:03933</td>\n",
       "      <td>EFTPOS</td>\n",
       "      <td>92.82</td>\n",
       "    </tr>\n",
       "    <tr>\n",
       "      <th>1</th>\n",
       "      <td>5593822:260423:01227</td>\n",
       "      <td>Loyalty Points</td>\n",
       "      <td>10.70</td>\n",
       "    </tr>\n",
       "    <tr>\n",
       "      <th>2</th>\n",
       "      <td>5593822:260423:01227</td>\n",
       "      <td>Gift Card</td>\n",
       "      <td>33.10</td>\n",
       "    </tr>\n",
       "    <tr>\n",
       "      <th>3</th>\n",
       "      <td>2209696:290126:03734</td>\n",
       "      <td>Credit Card</td>\n",
       "      <td>1.02</td>\n",
       "    </tr>\n",
       "    <tr>\n",
       "      <th>4</th>\n",
       "      <td>2209696:290126:03734</td>\n",
       "      <td>Debit Card</td>\n",
       "      <td>9.18</td>\n",
       "    </tr>\n",
       "    <tr>\n",
       "      <th>...</th>\n",
       "      <td>...</td>\n",
       "      <td>...</td>\n",
       "      <td>...</td>\n",
       "    </tr>\n",
       "    <tr>\n",
       "      <th>19702</th>\n",
       "      <td>5593822:230727:00320</td>\n",
       "      <td>Credit Card</td>\n",
       "      <td>121.80</td>\n",
       "    </tr>\n",
       "    <tr>\n",
       "      <th>19703</th>\n",
       "      <td>9626510:231230:00706</td>\n",
       "      <td>Cash</td>\n",
       "      <td>3.85</td>\n",
       "    </tr>\n",
       "    <tr>\n",
       "      <th>19704</th>\n",
       "      <td>9626510:231230:00706</td>\n",
       "      <td>EFTPOS</td>\n",
       "      <td>36.71</td>\n",
       "    </tr>\n",
       "    <tr>\n",
       "      <th>19705</th>\n",
       "      <td>2209696:260106:01801</td>\n",
       "      <td>Cash</td>\n",
       "      <td>19.35</td>\n",
       "    </tr>\n",
       "    <tr>\n",
       "      <th>19706</th>\n",
       "      <td>2209696:260106:01801</td>\n",
       "      <td>Credit Card</td>\n",
       "      <td>1.11</td>\n",
       "    </tr>\n",
       "  </tbody>\n",
       "</table>\n",
       "<p>19707 rows × 3 columns</p>\n",
       "</div>"
      ]
     },
     "execution_count": 20,
     "metadata": {},
     "output_type": "execute_result"
    }
   ],
   "execution_count": 20
  },
  {
   "metadata": {
    "ExecuteTime": {
     "end_time": "2025-07-05T17:18:58.255004Z",
     "start_time": "2025-07-05T17:18:58.253432Z"
    }
   },
   "cell_type": "code",
   "source": "#### This table contains data of which products belong to which receipt",
   "id": "b0b12e0c6cd8f457",
   "outputs": [],
   "execution_count": 21
  },
  {
   "metadata": {
    "ExecuteTime": {
     "end_time": "2025-07-05T17:19:06.155853Z",
     "start_time": "2025-07-05T17:19:06.150300Z"
    }
   },
   "cell_type": "code",
   "source": "receipt_products_df",
   "id": "696c8fcde14a55fd",
   "outputs": [
    {
     "data": {
      "text/plain": [
       "                receipt_ref   product_name  product_cost  product_price  \\\n",
       "0      9626510:290218:03933  Spicy chicken           5.8           18.2   \n",
       "1      9626510:290218:03933      Pepperoni           7.6           18.2   \n",
       "2      5593822:260423:01227    Aquaerobics           7.8           14.6   \n",
       "3      2209696:290126:03734          Mocha           3.4            5.1   \n",
       "4      3795898:250425:01050          Broom          14.2           44.8   \n",
       "...                     ...            ...           ...            ...   \n",
       "33771  9626510:231230:00706          Chips           3.2            6.3   \n",
       "33772  9626510:231230:00706  Soft drink 1L           1.5            3.7   \n",
       "33773  2209696:260106:01801     Flat white           3.6            5.5   \n",
       "33774  2209696:260106:01801          Mocha           2.9            4.4   \n",
       "33775  2209696:260106:01801          Mocha           2.9            4.4   \n",
       "\n",
       "       product_quantity  \n",
       "0                     3  \n",
       "1                     3  \n",
       "2                     3  \n",
       "3                     2  \n",
       "4                     1  \n",
       "...                 ...  \n",
       "33771                 2  \n",
       "33772                 1  \n",
       "33773                 1  \n",
       "33774                 1  \n",
       "33775                 3  \n",
       "\n",
       "[33776 rows x 5 columns]"
      ],
      "text/html": [
       "<div>\n",
       "<style scoped>\n",
       "    .dataframe tbody tr th:only-of-type {\n",
       "        vertical-align: middle;\n",
       "    }\n",
       "\n",
       "    .dataframe tbody tr th {\n",
       "        vertical-align: top;\n",
       "    }\n",
       "\n",
       "    .dataframe thead th {\n",
       "        text-align: right;\n",
       "    }\n",
       "</style>\n",
       "<table border=\"1\" class=\"dataframe\">\n",
       "  <thead>\n",
       "    <tr style=\"text-align: right;\">\n",
       "      <th></th>\n",
       "      <th>receipt_ref</th>\n",
       "      <th>product_name</th>\n",
       "      <th>product_cost</th>\n",
       "      <th>product_price</th>\n",
       "      <th>product_quantity</th>\n",
       "    </tr>\n",
       "  </thead>\n",
       "  <tbody>\n",
       "    <tr>\n",
       "      <th>0</th>\n",
       "      <td>9626510:290218:03933</td>\n",
       "      <td>Spicy chicken</td>\n",
       "      <td>5.8</td>\n",
       "      <td>18.2</td>\n",
       "      <td>3</td>\n",
       "    </tr>\n",
       "    <tr>\n",
       "      <th>1</th>\n",
       "      <td>9626510:290218:03933</td>\n",
       "      <td>Pepperoni</td>\n",
       "      <td>7.6</td>\n",
       "      <td>18.2</td>\n",
       "      <td>3</td>\n",
       "    </tr>\n",
       "    <tr>\n",
       "      <th>2</th>\n",
       "      <td>5593822:260423:01227</td>\n",
       "      <td>Aquaerobics</td>\n",
       "      <td>7.8</td>\n",
       "      <td>14.6</td>\n",
       "      <td>3</td>\n",
       "    </tr>\n",
       "    <tr>\n",
       "      <th>3</th>\n",
       "      <td>2209696:290126:03734</td>\n",
       "      <td>Mocha</td>\n",
       "      <td>3.4</td>\n",
       "      <td>5.1</td>\n",
       "      <td>2</td>\n",
       "    </tr>\n",
       "    <tr>\n",
       "      <th>4</th>\n",
       "      <td>3795898:250425:01050</td>\n",
       "      <td>Broom</td>\n",
       "      <td>14.2</td>\n",
       "      <td>44.8</td>\n",
       "      <td>1</td>\n",
       "    </tr>\n",
       "    <tr>\n",
       "      <th>...</th>\n",
       "      <td>...</td>\n",
       "      <td>...</td>\n",
       "      <td>...</td>\n",
       "      <td>...</td>\n",
       "      <td>...</td>\n",
       "    </tr>\n",
       "    <tr>\n",
       "      <th>33771</th>\n",
       "      <td>9626510:231230:00706</td>\n",
       "      <td>Chips</td>\n",
       "      <td>3.2</td>\n",
       "      <td>6.3</td>\n",
       "      <td>2</td>\n",
       "    </tr>\n",
       "    <tr>\n",
       "      <th>33772</th>\n",
       "      <td>9626510:231230:00706</td>\n",
       "      <td>Soft drink 1L</td>\n",
       "      <td>1.5</td>\n",
       "      <td>3.7</td>\n",
       "      <td>1</td>\n",
       "    </tr>\n",
       "    <tr>\n",
       "      <th>33773</th>\n",
       "      <td>2209696:260106:01801</td>\n",
       "      <td>Flat white</td>\n",
       "      <td>3.6</td>\n",
       "      <td>5.5</td>\n",
       "      <td>1</td>\n",
       "    </tr>\n",
       "    <tr>\n",
       "      <th>33774</th>\n",
       "      <td>2209696:260106:01801</td>\n",
       "      <td>Mocha</td>\n",
       "      <td>2.9</td>\n",
       "      <td>4.4</td>\n",
       "      <td>1</td>\n",
       "    </tr>\n",
       "    <tr>\n",
       "      <th>33775</th>\n",
       "      <td>2209696:260106:01801</td>\n",
       "      <td>Mocha</td>\n",
       "      <td>2.9</td>\n",
       "      <td>4.4</td>\n",
       "      <td>3</td>\n",
       "    </tr>\n",
       "  </tbody>\n",
       "</table>\n",
       "<p>33776 rows × 5 columns</p>\n",
       "</div>"
      ]
     },
     "execution_count": 22,
     "metadata": {},
     "output_type": "execute_result"
    }
   ],
   "execution_count": 22
  },
  {
   "metadata": {},
   "cell_type": "markdown",
   "source": "#### This table contains data of which promotions belong to which receipts",
   "id": "e28352e71024a582"
  },
  {
   "metadata": {
    "ExecuteTime": {
     "end_time": "2025-07-05T17:20:05.404839Z",
     "start_time": "2025-07-05T17:20:05.398642Z"
    }
   },
   "cell_type": "code",
   "source": "receipt_promotions_df",
   "id": "d58086d078b8ceb5",
   "outputs": [
    {
     "data": {
      "text/plain": [
       "               receipt_ref   product_name  discount  per_quantity\n",
       "0     9626510:290218:03933      Pepperoni      0.25             1\n",
       "1     9626510:290218:03933  Spicy chicken      0.05             3\n",
       "2     3795898:250425:01050       Scissors      0.20             2\n",
       "3     3795898:230810:00400      Cape grey      0.15             2\n",
       "4     3795898:230810:00400     Soap 500mL      0.10             2\n",
       "...                    ...            ...       ...           ...\n",
       "7151  2209696:280728:03391     Long Black      0.30             1\n",
       "7152  3795898:260213:01378     Cape white      0.25             1\n",
       "7153  5593822:280425:01948    Aquaerobics      0.20             3\n",
       "7154  9626510:231230:00706          Chips      0.05             3\n",
       "7155  2209696:260106:01801          Mocha      0.15             1\n",
       "\n",
       "[7156 rows x 4 columns]"
      ],
      "text/html": [
       "<div>\n",
       "<style scoped>\n",
       "    .dataframe tbody tr th:only-of-type {\n",
       "        vertical-align: middle;\n",
       "    }\n",
       "\n",
       "    .dataframe tbody tr th {\n",
       "        vertical-align: top;\n",
       "    }\n",
       "\n",
       "    .dataframe thead th {\n",
       "        text-align: right;\n",
       "    }\n",
       "</style>\n",
       "<table border=\"1\" class=\"dataframe\">\n",
       "  <thead>\n",
       "    <tr style=\"text-align: right;\">\n",
       "      <th></th>\n",
       "      <th>receipt_ref</th>\n",
       "      <th>product_name</th>\n",
       "      <th>discount</th>\n",
       "      <th>per_quantity</th>\n",
       "    </tr>\n",
       "  </thead>\n",
       "  <tbody>\n",
       "    <tr>\n",
       "      <th>0</th>\n",
       "      <td>9626510:290218:03933</td>\n",
       "      <td>Pepperoni</td>\n",
       "      <td>0.25</td>\n",
       "      <td>1</td>\n",
       "    </tr>\n",
       "    <tr>\n",
       "      <th>1</th>\n",
       "      <td>9626510:290218:03933</td>\n",
       "      <td>Spicy chicken</td>\n",
       "      <td>0.05</td>\n",
       "      <td>3</td>\n",
       "    </tr>\n",
       "    <tr>\n",
       "      <th>2</th>\n",
       "      <td>3795898:250425:01050</td>\n",
       "      <td>Scissors</td>\n",
       "      <td>0.20</td>\n",
       "      <td>2</td>\n",
       "    </tr>\n",
       "    <tr>\n",
       "      <th>3</th>\n",
       "      <td>3795898:230810:00400</td>\n",
       "      <td>Cape grey</td>\n",
       "      <td>0.15</td>\n",
       "      <td>2</td>\n",
       "    </tr>\n",
       "    <tr>\n",
       "      <th>4</th>\n",
       "      <td>3795898:230810:00400</td>\n",
       "      <td>Soap 500mL</td>\n",
       "      <td>0.10</td>\n",
       "      <td>2</td>\n",
       "    </tr>\n",
       "    <tr>\n",
       "      <th>...</th>\n",
       "      <td>...</td>\n",
       "      <td>...</td>\n",
       "      <td>...</td>\n",
       "      <td>...</td>\n",
       "    </tr>\n",
       "    <tr>\n",
       "      <th>7151</th>\n",
       "      <td>2209696:280728:03391</td>\n",
       "      <td>Long Black</td>\n",
       "      <td>0.30</td>\n",
       "      <td>1</td>\n",
       "    </tr>\n",
       "    <tr>\n",
       "      <th>7152</th>\n",
       "      <td>3795898:260213:01378</td>\n",
       "      <td>Cape white</td>\n",
       "      <td>0.25</td>\n",
       "      <td>1</td>\n",
       "    </tr>\n",
       "    <tr>\n",
       "      <th>7153</th>\n",
       "      <td>5593822:280425:01948</td>\n",
       "      <td>Aquaerobics</td>\n",
       "      <td>0.20</td>\n",
       "      <td>3</td>\n",
       "    </tr>\n",
       "    <tr>\n",
       "      <th>7154</th>\n",
       "      <td>9626510:231230:00706</td>\n",
       "      <td>Chips</td>\n",
       "      <td>0.05</td>\n",
       "      <td>3</td>\n",
       "    </tr>\n",
       "    <tr>\n",
       "      <th>7155</th>\n",
       "      <td>2209696:260106:01801</td>\n",
       "      <td>Mocha</td>\n",
       "      <td>0.15</td>\n",
       "      <td>1</td>\n",
       "    </tr>\n",
       "  </tbody>\n",
       "</table>\n",
       "<p>7156 rows × 4 columns</p>\n",
       "</div>"
      ]
     },
     "execution_count": 24,
     "metadata": {},
     "output_type": "execute_result"
    }
   ],
   "execution_count": 24
  },
  {
   "cell_type": "markdown",
   "id": "0b4d608b-6f9c-49b5-976b-00e26654a94c",
   "metadata": {},
   "source": [
    "---\n",
    "\n",
    "## Exploration One\n",
    "### Are there periods of the year where some businesses are more profitable?"
   ]
  },
  {
   "cell_type": "markdown",
   "id": "3701463e-2235-4731-9d12-b74eb07c6d80",
   "metadata": {},
   "source": [
    "### Introduction"
   ]
  },
  {
   "cell_type": "markdown",
   "id": "07932bd2-7927-4b2e-b70e-5d87beddb9ec",
   "metadata": {},
   "source": [
    "To answer the above questions, we need to:\n",
    "1. First, figure out how much sales does each business made.\n",
    "2. Second, calculate how much profit do they make on each sales after deducting all the discounts, if there are any.\n",
    "3. Third, we aggregate the profits by the month, the transactions occurred.\n",
    "4. Finally, we will see if we can see any pattern and then answer the above questions."
   ]
  },
  {
   "cell_type": "markdown",
   "id": "d4164605-a352-4a3c-b91b-a82308fc5100",
   "metadata": {},
   "source": [
    "### Methods"
   ]
  },
  {
   "cell_type": "code",
   "id": "8ac97873-9c05-41c3-8d7f-ff6260893c5f",
   "metadata": {
    "ExecuteTime": {
     "end_time": "2025-07-05T17:24:32.917794Z",
     "start_time": "2025-07-05T17:24:32.897376Z"
    }
   },
   "source": [
    "# Type your method in this cell\n",
    "with duckdb.connect(DUCKDB_FILE) as conn:\n",
    "    business_sales_df = conn.sql(\"SELECT * FROM receipts.main.business_sales\").df()\n",
    "    sale_profits_df = conn.sql(\"SELECT * FROM receipts.main.sale_profits\").df()\n",
    "    business_sales_profits_df = conn.sql(\"SELECT * FROM receipts.main.business_sales_profits\").df()"
   ],
   "outputs": [],
   "execution_count": 25
  },
  {
   "metadata": {},
   "cell_type": "markdown",
   "source": [
    "### 1. Sales by Businesses - All sales made by the businesses\n",
    "Since we have normalised the tables, first we need to see which receipts belong to which businesses."
   ],
   "id": "c1373fb191a8a5d2"
  },
  {
   "metadata": {
    "ExecuteTime": {
     "end_time": "2025-07-05T17:28:48.033691Z",
     "start_time": "2025-07-05T17:28:48.027215Z"
    }
   },
   "cell_type": "code",
   "source": "business_sales_df",
   "id": "4154d44bc767fc9",
   "outputs": [
    {
     "data": {
      "text/plain": [
       "      business_abn              business_name           receipt_ref  \\\n",
       "0        220 96 96        Wake Up with Coffee  2209696:220701:00002   \n",
       "1        220 96 96        Wake Up with Coffee  2209696:220701:00003   \n",
       "2        220 96 96        Wake Up with Coffee  2209696:220701:00001   \n",
       "3        220 96 96        Wake Up with Coffee  2209696:220702:00006   \n",
       "4        220 96 96        Wake Up with Coffee  2209696:220702:00007   \n",
       "...            ...                        ...                   ...   \n",
       "13475    962 65 10  Please Bring Pizza Pronto  9626510:290628:04185   \n",
       "13476    962 65 10  Please Bring Pizza Pronto  9626510:290628:04186   \n",
       "13477    962 65 10  Please Bring Pizza Pronto  9626510:290629:04188   \n",
       "13478    962 65 10  Please Bring Pizza Pronto  9626510:290629:04187   \n",
       "13479    962 65 10  Please Bring Pizza Pronto  9626510:290629:04189   \n",
       "\n",
       "      receipt_date  receipt_total    gst  year  month month_name  \n",
       "0       2022/07/01          60.50   5.50  2022      7       July  \n",
       "1       2022/07/01          88.50   8.05  2022      7       July  \n",
       "2       2022/07/01          36.00   3.27  2022      7       July  \n",
       "3       2022/07/02         112.00  10.18  2022      7       July  \n",
       "4       2022/07/02          33.00   3.00  2022      7       July  \n",
       "...            ...            ...    ...   ...    ...        ...  \n",
       "13475   2029/06/28          92.85   8.44  2029      6       June  \n",
       "13476   2029/06/28         151.47  13.77  2029      6       June  \n",
       "13477   2029/06/29          90.20   8.20  2029      6       June  \n",
       "13478   2029/06/29          33.20   3.02  2029      6       June  \n",
       "13479   2029/06/29          66.00   6.00  2029      6       June  \n",
       "\n",
       "[13480 rows x 9 columns]"
      ],
      "text/html": [
       "<div>\n",
       "<style scoped>\n",
       "    .dataframe tbody tr th:only-of-type {\n",
       "        vertical-align: middle;\n",
       "    }\n",
       "\n",
       "    .dataframe tbody tr th {\n",
       "        vertical-align: top;\n",
       "    }\n",
       "\n",
       "    .dataframe thead th {\n",
       "        text-align: right;\n",
       "    }\n",
       "</style>\n",
       "<table border=\"1\" class=\"dataframe\">\n",
       "  <thead>\n",
       "    <tr style=\"text-align: right;\">\n",
       "      <th></th>\n",
       "      <th>business_abn</th>\n",
       "      <th>business_name</th>\n",
       "      <th>receipt_ref</th>\n",
       "      <th>receipt_date</th>\n",
       "      <th>receipt_total</th>\n",
       "      <th>gst</th>\n",
       "      <th>year</th>\n",
       "      <th>month</th>\n",
       "      <th>month_name</th>\n",
       "    </tr>\n",
       "  </thead>\n",
       "  <tbody>\n",
       "    <tr>\n",
       "      <th>0</th>\n",
       "      <td>220 96 96</td>\n",
       "      <td>Wake Up with Coffee</td>\n",
       "      <td>2209696:220701:00002</td>\n",
       "      <td>2022/07/01</td>\n",
       "      <td>60.50</td>\n",
       "      <td>5.50</td>\n",
       "      <td>2022</td>\n",
       "      <td>7</td>\n",
       "      <td>July</td>\n",
       "    </tr>\n",
       "    <tr>\n",
       "      <th>1</th>\n",
       "      <td>220 96 96</td>\n",
       "      <td>Wake Up with Coffee</td>\n",
       "      <td>2209696:220701:00003</td>\n",
       "      <td>2022/07/01</td>\n",
       "      <td>88.50</td>\n",
       "      <td>8.05</td>\n",
       "      <td>2022</td>\n",
       "      <td>7</td>\n",
       "      <td>July</td>\n",
       "    </tr>\n",
       "    <tr>\n",
       "      <th>2</th>\n",
       "      <td>220 96 96</td>\n",
       "      <td>Wake Up with Coffee</td>\n",
       "      <td>2209696:220701:00001</td>\n",
       "      <td>2022/07/01</td>\n",
       "      <td>36.00</td>\n",
       "      <td>3.27</td>\n",
       "      <td>2022</td>\n",
       "      <td>7</td>\n",
       "      <td>July</td>\n",
       "    </tr>\n",
       "    <tr>\n",
       "      <th>3</th>\n",
       "      <td>220 96 96</td>\n",
       "      <td>Wake Up with Coffee</td>\n",
       "      <td>2209696:220702:00006</td>\n",
       "      <td>2022/07/02</td>\n",
       "      <td>112.00</td>\n",
       "      <td>10.18</td>\n",
       "      <td>2022</td>\n",
       "      <td>7</td>\n",
       "      <td>July</td>\n",
       "    </tr>\n",
       "    <tr>\n",
       "      <th>4</th>\n",
       "      <td>220 96 96</td>\n",
       "      <td>Wake Up with Coffee</td>\n",
       "      <td>2209696:220702:00007</td>\n",
       "      <td>2022/07/02</td>\n",
       "      <td>33.00</td>\n",
       "      <td>3.00</td>\n",
       "      <td>2022</td>\n",
       "      <td>7</td>\n",
       "      <td>July</td>\n",
       "    </tr>\n",
       "    <tr>\n",
       "      <th>...</th>\n",
       "      <td>...</td>\n",
       "      <td>...</td>\n",
       "      <td>...</td>\n",
       "      <td>...</td>\n",
       "      <td>...</td>\n",
       "      <td>...</td>\n",
       "      <td>...</td>\n",
       "      <td>...</td>\n",
       "      <td>...</td>\n",
       "    </tr>\n",
       "    <tr>\n",
       "      <th>13475</th>\n",
       "      <td>962 65 10</td>\n",
       "      <td>Please Bring Pizza Pronto</td>\n",
       "      <td>9626510:290628:04185</td>\n",
       "      <td>2029/06/28</td>\n",
       "      <td>92.85</td>\n",
       "      <td>8.44</td>\n",
       "      <td>2029</td>\n",
       "      <td>6</td>\n",
       "      <td>June</td>\n",
       "    </tr>\n",
       "    <tr>\n",
       "      <th>13476</th>\n",
       "      <td>962 65 10</td>\n",
       "      <td>Please Bring Pizza Pronto</td>\n",
       "      <td>9626510:290628:04186</td>\n",
       "      <td>2029/06/28</td>\n",
       "      <td>151.47</td>\n",
       "      <td>13.77</td>\n",
       "      <td>2029</td>\n",
       "      <td>6</td>\n",
       "      <td>June</td>\n",
       "    </tr>\n",
       "    <tr>\n",
       "      <th>13477</th>\n",
       "      <td>962 65 10</td>\n",
       "      <td>Please Bring Pizza Pronto</td>\n",
       "      <td>9626510:290629:04188</td>\n",
       "      <td>2029/06/29</td>\n",
       "      <td>90.20</td>\n",
       "      <td>8.20</td>\n",
       "      <td>2029</td>\n",
       "      <td>6</td>\n",
       "      <td>June</td>\n",
       "    </tr>\n",
       "    <tr>\n",
       "      <th>13478</th>\n",
       "      <td>962 65 10</td>\n",
       "      <td>Please Bring Pizza Pronto</td>\n",
       "      <td>9626510:290629:04187</td>\n",
       "      <td>2029/06/29</td>\n",
       "      <td>33.20</td>\n",
       "      <td>3.02</td>\n",
       "      <td>2029</td>\n",
       "      <td>6</td>\n",
       "      <td>June</td>\n",
       "    </tr>\n",
       "    <tr>\n",
       "      <th>13479</th>\n",
       "      <td>962 65 10</td>\n",
       "      <td>Please Bring Pizza Pronto</td>\n",
       "      <td>9626510:290629:04189</td>\n",
       "      <td>2029/06/29</td>\n",
       "      <td>66.00</td>\n",
       "      <td>6.00</td>\n",
       "      <td>2029</td>\n",
       "      <td>6</td>\n",
       "      <td>June</td>\n",
       "    </tr>\n",
       "  </tbody>\n",
       "</table>\n",
       "<p>13480 rows × 9 columns</p>\n",
       "</div>"
      ]
     },
     "execution_count": 28,
     "metadata": {},
     "output_type": "execute_result"
    }
   ],
   "execution_count": 28
  },
  {
   "metadata": {},
   "cell_type": "markdown",
   "source": [
    "### 2. Sale Profits - Profit made from each sale\n",
    "Second we have to calculate how much profits are made by each receipts."
   ],
   "id": "c4b1bbcaa3c82cb4"
  },
  {
   "metadata": {
    "ExecuteTime": {
     "end_time": "2025-07-05T17:29:07.676189Z",
     "start_time": "2025-07-05T17:29:07.668511Z"
    }
   },
   "cell_type": "code",
   "source": "sale_profits_df",
   "id": "66ce8bfcd38563ad",
   "outputs": [
    {
     "data": {
      "text/plain": [
       "                receipt_ref  total_cost  total_price  \\\n",
       "0      3795898:230810:00400        70.2        161.1   \n",
       "1      2209696:261008:02242        17.9         32.3   \n",
       "2      3795898:251110:01261        64.2        153.0   \n",
       "3      9626510:261028:02325        40.6         90.0   \n",
       "4      3795898:260311:01405        84.0        192.0   \n",
       "...                     ...         ...          ...   \n",
       "13475  2209696:241203:01191        20.0         34.2   \n",
       "13476  3795898:290411:02764        18.6         33.2   \n",
       "13477  5593822:260202:01146         9.4         18.6   \n",
       "13478  2209696:260227:01890        13.6         25.6   \n",
       "13479  2209696:270427:02588        16.8         28.4   \n",
       "\n",
       "       total_price_after_discount  total_profit  \n",
       "0                          144.99         74.79  \n",
       "1                           31.64         13.74  \n",
       "2                          107.10         42.90  \n",
       "3                           89.27         48.67  \n",
       "4                          174.30         90.30  \n",
       "...                           ...           ...  \n",
       "13475                       34.20         14.20  \n",
       "13476                       33.20         14.60  \n",
       "13477                       18.60          9.20  \n",
       "13478                       25.60         12.00  \n",
       "13479                       28.40         11.60  \n",
       "\n",
       "[13480 rows x 5 columns]"
      ],
      "text/html": [
       "<div>\n",
       "<style scoped>\n",
       "    .dataframe tbody tr th:only-of-type {\n",
       "        vertical-align: middle;\n",
       "    }\n",
       "\n",
       "    .dataframe tbody tr th {\n",
       "        vertical-align: top;\n",
       "    }\n",
       "\n",
       "    .dataframe thead th {\n",
       "        text-align: right;\n",
       "    }\n",
       "</style>\n",
       "<table border=\"1\" class=\"dataframe\">\n",
       "  <thead>\n",
       "    <tr style=\"text-align: right;\">\n",
       "      <th></th>\n",
       "      <th>receipt_ref</th>\n",
       "      <th>total_cost</th>\n",
       "      <th>total_price</th>\n",
       "      <th>total_price_after_discount</th>\n",
       "      <th>total_profit</th>\n",
       "    </tr>\n",
       "  </thead>\n",
       "  <tbody>\n",
       "    <tr>\n",
       "      <th>0</th>\n",
       "      <td>3795898:230810:00400</td>\n",
       "      <td>70.2</td>\n",
       "      <td>161.1</td>\n",
       "      <td>144.99</td>\n",
       "      <td>74.79</td>\n",
       "    </tr>\n",
       "    <tr>\n",
       "      <th>1</th>\n",
       "      <td>2209696:261008:02242</td>\n",
       "      <td>17.9</td>\n",
       "      <td>32.3</td>\n",
       "      <td>31.64</td>\n",
       "      <td>13.74</td>\n",
       "    </tr>\n",
       "    <tr>\n",
       "      <th>2</th>\n",
       "      <td>3795898:251110:01261</td>\n",
       "      <td>64.2</td>\n",
       "      <td>153.0</td>\n",
       "      <td>107.10</td>\n",
       "      <td>42.90</td>\n",
       "    </tr>\n",
       "    <tr>\n",
       "      <th>3</th>\n",
       "      <td>9626510:261028:02325</td>\n",
       "      <td>40.6</td>\n",
       "      <td>90.0</td>\n",
       "      <td>89.27</td>\n",
       "      <td>48.67</td>\n",
       "    </tr>\n",
       "    <tr>\n",
       "      <th>4</th>\n",
       "      <td>3795898:260311:01405</td>\n",
       "      <td>84.0</td>\n",
       "      <td>192.0</td>\n",
       "      <td>174.30</td>\n",
       "      <td>90.30</td>\n",
       "    </tr>\n",
       "    <tr>\n",
       "      <th>...</th>\n",
       "      <td>...</td>\n",
       "      <td>...</td>\n",
       "      <td>...</td>\n",
       "      <td>...</td>\n",
       "      <td>...</td>\n",
       "    </tr>\n",
       "    <tr>\n",
       "      <th>13475</th>\n",
       "      <td>2209696:241203:01191</td>\n",
       "      <td>20.0</td>\n",
       "      <td>34.2</td>\n",
       "      <td>34.20</td>\n",
       "      <td>14.20</td>\n",
       "    </tr>\n",
       "    <tr>\n",
       "      <th>13476</th>\n",
       "      <td>3795898:290411:02764</td>\n",
       "      <td>18.6</td>\n",
       "      <td>33.2</td>\n",
       "      <td>33.20</td>\n",
       "      <td>14.60</td>\n",
       "    </tr>\n",
       "    <tr>\n",
       "      <th>13477</th>\n",
       "      <td>5593822:260202:01146</td>\n",
       "      <td>9.4</td>\n",
       "      <td>18.6</td>\n",
       "      <td>18.60</td>\n",
       "      <td>9.20</td>\n",
       "    </tr>\n",
       "    <tr>\n",
       "      <th>13478</th>\n",
       "      <td>2209696:260227:01890</td>\n",
       "      <td>13.6</td>\n",
       "      <td>25.6</td>\n",
       "      <td>25.60</td>\n",
       "      <td>12.00</td>\n",
       "    </tr>\n",
       "    <tr>\n",
       "      <th>13479</th>\n",
       "      <td>2209696:270427:02588</td>\n",
       "      <td>16.8</td>\n",
       "      <td>28.4</td>\n",
       "      <td>28.40</td>\n",
       "      <td>11.60</td>\n",
       "    </tr>\n",
       "  </tbody>\n",
       "</table>\n",
       "<p>13480 rows × 5 columns</p>\n",
       "</div>"
      ]
     },
     "execution_count": 29,
     "metadata": {},
     "output_type": "execute_result"
    }
   ],
   "execution_count": 29
  },
  {
   "metadata": {},
   "cell_type": "markdown",
   "source": [
    "### Business Sales Profits - Joining all the the sales and their profits\n",
    "Here we connecting the two previous tables to get an understanding of all the profits that made by the businesses"
   ],
   "id": "d4a8b4e86b45a8a7"
  },
  {
   "metadata": {
    "ExecuteTime": {
     "end_time": "2025-07-05T17:30:25.738464Z",
     "start_time": "2025-07-05T17:30:25.732783Z"
    }
   },
   "cell_type": "code",
   "source": "business_sales_profits_df",
   "id": "fecf738851be881d",
   "outputs": [
    {
     "data": {
      "text/plain": [
       "      business_abn              business_name receipt_date  year  month  \\\n",
       "0        220 96 96        Wake Up with Coffee   2022/07/01  2022      7   \n",
       "1        220 96 96        Wake Up with Coffee   2022/07/27  2022      7   \n",
       "2        220 96 96        Wake Up with Coffee   2022/07/27  2022      7   \n",
       "3        220 96 96        Wake Up with Coffee   2022/07/28  2022      7   \n",
       "4        220 96 96        Wake Up with Coffee   2022/07/28  2022      7   \n",
       "...            ...                        ...          ...   ...    ...   \n",
       "13475    962 65 10  Please Bring Pizza Pronto   2029/06/13  2029      6   \n",
       "13476    962 65 10  Please Bring Pizza Pronto   2029/06/14  2029      6   \n",
       "13477    962 65 10  Please Bring Pizza Pronto   2029/06/14  2029      6   \n",
       "13478    962 65 10  Please Bring Pizza Pronto   2029/06/14  2029      6   \n",
       "13479    962 65 10  Please Bring Pizza Pronto   2029/06/29  2029      6   \n",
       "\n",
       "      month_name           receipt_ref  receipt_total   gst  total_cost  \\\n",
       "0           July  2209696:220701:00002          60.50  5.50        36.3   \n",
       "1           July  2209696:220727:00033          57.50  5.23        34.5   \n",
       "2           July  2209696:220727:00034          64.00  5.82        38.4   \n",
       "3           July  2209696:220728:00035          91.50  8.32        51.3   \n",
       "4           July  2209696:220728:00036          40.00  3.64        24.0   \n",
       "...          ...                   ...            ...   ...         ...   \n",
       "13475       June  9626510:290613:04149          66.45  6.04        32.6   \n",
       "13476       June  9626510:290614:04155          68.00  6.18        33.1   \n",
       "13477       June  9626510:290614:04156          90.75  8.25        39.6   \n",
       "13478       June  9626510:290614:04154         104.50  9.50        55.2   \n",
       "13479       June  9626510:290629:04189          66.00  6.00        43.2   \n",
       "\n",
       "       total_price  total_price_after_discount  total_profit  \n",
       "0             60.5                       60.50         24.20  \n",
       "1             57.5                       57.50         23.00  \n",
       "2             64.0                       64.00         25.60  \n",
       "3             91.5                       91.50         40.20  \n",
       "4             40.0                       40.00         16.00  \n",
       "...            ...                         ...           ...  \n",
       "13475         71.0                       66.45         33.85  \n",
       "13476         68.0                       68.00         34.90  \n",
       "13477        104.4                       90.75         51.15  \n",
       "13478        113.6                      104.50         49.30  \n",
       "13479         66.0                       66.00         22.80  \n",
       "\n",
       "[13480 rows x 13 columns]"
      ],
      "text/html": [
       "<div>\n",
       "<style scoped>\n",
       "    .dataframe tbody tr th:only-of-type {\n",
       "        vertical-align: middle;\n",
       "    }\n",
       "\n",
       "    .dataframe tbody tr th {\n",
       "        vertical-align: top;\n",
       "    }\n",
       "\n",
       "    .dataframe thead th {\n",
       "        text-align: right;\n",
       "    }\n",
       "</style>\n",
       "<table border=\"1\" class=\"dataframe\">\n",
       "  <thead>\n",
       "    <tr style=\"text-align: right;\">\n",
       "      <th></th>\n",
       "      <th>business_abn</th>\n",
       "      <th>business_name</th>\n",
       "      <th>receipt_date</th>\n",
       "      <th>year</th>\n",
       "      <th>month</th>\n",
       "      <th>month_name</th>\n",
       "      <th>receipt_ref</th>\n",
       "      <th>receipt_total</th>\n",
       "      <th>gst</th>\n",
       "      <th>total_cost</th>\n",
       "      <th>total_price</th>\n",
       "      <th>total_price_after_discount</th>\n",
       "      <th>total_profit</th>\n",
       "    </tr>\n",
       "  </thead>\n",
       "  <tbody>\n",
       "    <tr>\n",
       "      <th>0</th>\n",
       "      <td>220 96 96</td>\n",
       "      <td>Wake Up with Coffee</td>\n",
       "      <td>2022/07/01</td>\n",
       "      <td>2022</td>\n",
       "      <td>7</td>\n",
       "      <td>July</td>\n",
       "      <td>2209696:220701:00002</td>\n",
       "      <td>60.50</td>\n",
       "      <td>5.50</td>\n",
       "      <td>36.3</td>\n",
       "      <td>60.5</td>\n",
       "      <td>60.50</td>\n",
       "      <td>24.20</td>\n",
       "    </tr>\n",
       "    <tr>\n",
       "      <th>1</th>\n",
       "      <td>220 96 96</td>\n",
       "      <td>Wake Up with Coffee</td>\n",
       "      <td>2022/07/27</td>\n",
       "      <td>2022</td>\n",
       "      <td>7</td>\n",
       "      <td>July</td>\n",
       "      <td>2209696:220727:00033</td>\n",
       "      <td>57.50</td>\n",
       "      <td>5.23</td>\n",
       "      <td>34.5</td>\n",
       "      <td>57.5</td>\n",
       "      <td>57.50</td>\n",
       "      <td>23.00</td>\n",
       "    </tr>\n",
       "    <tr>\n",
       "      <th>2</th>\n",
       "      <td>220 96 96</td>\n",
       "      <td>Wake Up with Coffee</td>\n",
       "      <td>2022/07/27</td>\n",
       "      <td>2022</td>\n",
       "      <td>7</td>\n",
       "      <td>July</td>\n",
       "      <td>2209696:220727:00034</td>\n",
       "      <td>64.00</td>\n",
       "      <td>5.82</td>\n",
       "      <td>38.4</td>\n",
       "      <td>64.0</td>\n",
       "      <td>64.00</td>\n",
       "      <td>25.60</td>\n",
       "    </tr>\n",
       "    <tr>\n",
       "      <th>3</th>\n",
       "      <td>220 96 96</td>\n",
       "      <td>Wake Up with Coffee</td>\n",
       "      <td>2022/07/28</td>\n",
       "      <td>2022</td>\n",
       "      <td>7</td>\n",
       "      <td>July</td>\n",
       "      <td>2209696:220728:00035</td>\n",
       "      <td>91.50</td>\n",
       "      <td>8.32</td>\n",
       "      <td>51.3</td>\n",
       "      <td>91.5</td>\n",
       "      <td>91.50</td>\n",
       "      <td>40.20</td>\n",
       "    </tr>\n",
       "    <tr>\n",
       "      <th>4</th>\n",
       "      <td>220 96 96</td>\n",
       "      <td>Wake Up with Coffee</td>\n",
       "      <td>2022/07/28</td>\n",
       "      <td>2022</td>\n",
       "      <td>7</td>\n",
       "      <td>July</td>\n",
       "      <td>2209696:220728:00036</td>\n",
       "      <td>40.00</td>\n",
       "      <td>3.64</td>\n",
       "      <td>24.0</td>\n",
       "      <td>40.0</td>\n",
       "      <td>40.00</td>\n",
       "      <td>16.00</td>\n",
       "    </tr>\n",
       "    <tr>\n",
       "      <th>...</th>\n",
       "      <td>...</td>\n",
       "      <td>...</td>\n",
       "      <td>...</td>\n",
       "      <td>...</td>\n",
       "      <td>...</td>\n",
       "      <td>...</td>\n",
       "      <td>...</td>\n",
       "      <td>...</td>\n",
       "      <td>...</td>\n",
       "      <td>...</td>\n",
       "      <td>...</td>\n",
       "      <td>...</td>\n",
       "      <td>...</td>\n",
       "    </tr>\n",
       "    <tr>\n",
       "      <th>13475</th>\n",
       "      <td>962 65 10</td>\n",
       "      <td>Please Bring Pizza Pronto</td>\n",
       "      <td>2029/06/13</td>\n",
       "      <td>2029</td>\n",
       "      <td>6</td>\n",
       "      <td>June</td>\n",
       "      <td>9626510:290613:04149</td>\n",
       "      <td>66.45</td>\n",
       "      <td>6.04</td>\n",
       "      <td>32.6</td>\n",
       "      <td>71.0</td>\n",
       "      <td>66.45</td>\n",
       "      <td>33.85</td>\n",
       "    </tr>\n",
       "    <tr>\n",
       "      <th>13476</th>\n",
       "      <td>962 65 10</td>\n",
       "      <td>Please Bring Pizza Pronto</td>\n",
       "      <td>2029/06/14</td>\n",
       "      <td>2029</td>\n",
       "      <td>6</td>\n",
       "      <td>June</td>\n",
       "      <td>9626510:290614:04155</td>\n",
       "      <td>68.00</td>\n",
       "      <td>6.18</td>\n",
       "      <td>33.1</td>\n",
       "      <td>68.0</td>\n",
       "      <td>68.00</td>\n",
       "      <td>34.90</td>\n",
       "    </tr>\n",
       "    <tr>\n",
       "      <th>13477</th>\n",
       "      <td>962 65 10</td>\n",
       "      <td>Please Bring Pizza Pronto</td>\n",
       "      <td>2029/06/14</td>\n",
       "      <td>2029</td>\n",
       "      <td>6</td>\n",
       "      <td>June</td>\n",
       "      <td>9626510:290614:04156</td>\n",
       "      <td>90.75</td>\n",
       "      <td>8.25</td>\n",
       "      <td>39.6</td>\n",
       "      <td>104.4</td>\n",
       "      <td>90.75</td>\n",
       "      <td>51.15</td>\n",
       "    </tr>\n",
       "    <tr>\n",
       "      <th>13478</th>\n",
       "      <td>962 65 10</td>\n",
       "      <td>Please Bring Pizza Pronto</td>\n",
       "      <td>2029/06/14</td>\n",
       "      <td>2029</td>\n",
       "      <td>6</td>\n",
       "      <td>June</td>\n",
       "      <td>9626510:290614:04154</td>\n",
       "      <td>104.50</td>\n",
       "      <td>9.50</td>\n",
       "      <td>55.2</td>\n",
       "      <td>113.6</td>\n",
       "      <td>104.50</td>\n",
       "      <td>49.30</td>\n",
       "    </tr>\n",
       "    <tr>\n",
       "      <th>13479</th>\n",
       "      <td>962 65 10</td>\n",
       "      <td>Please Bring Pizza Pronto</td>\n",
       "      <td>2029/06/29</td>\n",
       "      <td>2029</td>\n",
       "      <td>6</td>\n",
       "      <td>June</td>\n",
       "      <td>9626510:290629:04189</td>\n",
       "      <td>66.00</td>\n",
       "      <td>6.00</td>\n",
       "      <td>43.2</td>\n",
       "      <td>66.0</td>\n",
       "      <td>66.00</td>\n",
       "      <td>22.80</td>\n",
       "    </tr>\n",
       "  </tbody>\n",
       "</table>\n",
       "<p>13480 rows × 13 columns</p>\n",
       "</div>"
      ]
     },
     "execution_count": 30,
     "metadata": {},
     "output_type": "execute_result"
    }
   ],
   "execution_count": 30
  },
  {
   "metadata": {
    "ExecuteTime": {
     "end_time": "2025-07-05T17:31:42.589730Z",
     "start_time": "2025-07-05T17:31:42.579171Z"
    }
   },
   "cell_type": "code",
   "source": [
    "with duckdb.connect(DUCKDB_FILE) as conn:\n",
    "    business_monthly_profits_df = conn.sql(\"SELECT * FROM receipts.main.business_monthly_profits\").df()\n"
   ],
   "id": "b837b7a267549dcd",
   "outputs": [],
   "execution_count": 31
  },
  {
   "metadata": {},
   "cell_type": "markdown",
   "source": [
    "### Business Monthly Profit\n",
    "Now that we know how much businesses are made by businesses, we cal aggregate how much profit do they make in each month."
   ],
   "id": "1aedc90aa6313447"
  },
  {
   "metadata": {
    "ExecuteTime": {
     "end_time": "2025-07-05T17:34:34.932587Z",
     "start_time": "2025-07-05T17:34:34.926292Z"
    }
   },
   "cell_type": "code",
   "source": [
    "business_monthly_profits_df[\"month-year\"] = business_monthly_profits_df[\"month\"].astype(str) + \"-\" + business_monthly_profits_df[\"year\"].astype(str)\n",
    "business_monthly_profits_df"
   ],
   "id": "9316f0877e777b5b",
   "outputs": [
    {
     "data": {
      "text/plain": [
       "    business_abn         business_name  year  month month_name  \\\n",
       "0      379 58 98  Ed's Barber Supplies  2022      7       July   \n",
       "1      379 58 98  Ed's Barber Supplies  2022      8     August   \n",
       "2      379 58 98  Ed's Barber Supplies  2022      9  September   \n",
       "3      379 58 98  Ed's Barber Supplies  2022     10    October   \n",
       "4      379 58 98  Ed's Barber Supplies  2022     11   November   \n",
       "..           ...                   ...   ...    ...        ...   \n",
       "331    220 96 96   Wake Up with Coffee  2029      2   February   \n",
       "332    220 96 96   Wake Up with Coffee  2029      3      March   \n",
       "333    220 96 96   Wake Up with Coffee  2029      4      April   \n",
       "334    220 96 96   Wake Up with Coffee  2029      5        May   \n",
       "335    220 96 96   Wake Up with Coffee  2029      6       June   \n",
       "\n",
       "     total_monthly_profit  num_of_sales month-year  \n",
       "0                 1496.60            29     7-2022  \n",
       "1                 1666.40            29     8-2022  \n",
       "2                 1491.80            29     9-2022  \n",
       "3                 1211.40            30    10-2022  \n",
       "4                 1387.80            29    11-2022  \n",
       "..                    ...           ...        ...  \n",
       "331                815.69            58     2-2029  \n",
       "332                782.62            57     3-2029  \n",
       "333                762.94            55     4-2029  \n",
       "334                778.57            55     5-2029  \n",
       "335               1081.01            56     6-2029  \n",
       "\n",
       "[336 rows x 8 columns]"
      ],
      "text/html": [
       "<div>\n",
       "<style scoped>\n",
       "    .dataframe tbody tr th:only-of-type {\n",
       "        vertical-align: middle;\n",
       "    }\n",
       "\n",
       "    .dataframe tbody tr th {\n",
       "        vertical-align: top;\n",
       "    }\n",
       "\n",
       "    .dataframe thead th {\n",
       "        text-align: right;\n",
       "    }\n",
       "</style>\n",
       "<table border=\"1\" class=\"dataframe\">\n",
       "  <thead>\n",
       "    <tr style=\"text-align: right;\">\n",
       "      <th></th>\n",
       "      <th>business_abn</th>\n",
       "      <th>business_name</th>\n",
       "      <th>year</th>\n",
       "      <th>month</th>\n",
       "      <th>month_name</th>\n",
       "      <th>total_monthly_profit</th>\n",
       "      <th>num_of_sales</th>\n",
       "      <th>month-year</th>\n",
       "    </tr>\n",
       "  </thead>\n",
       "  <tbody>\n",
       "    <tr>\n",
       "      <th>0</th>\n",
       "      <td>379 58 98</td>\n",
       "      <td>Ed's Barber Supplies</td>\n",
       "      <td>2022</td>\n",
       "      <td>7</td>\n",
       "      <td>July</td>\n",
       "      <td>1496.60</td>\n",
       "      <td>29</td>\n",
       "      <td>7-2022</td>\n",
       "    </tr>\n",
       "    <tr>\n",
       "      <th>1</th>\n",
       "      <td>379 58 98</td>\n",
       "      <td>Ed's Barber Supplies</td>\n",
       "      <td>2022</td>\n",
       "      <td>8</td>\n",
       "      <td>August</td>\n",
       "      <td>1666.40</td>\n",
       "      <td>29</td>\n",
       "      <td>8-2022</td>\n",
       "    </tr>\n",
       "    <tr>\n",
       "      <th>2</th>\n",
       "      <td>379 58 98</td>\n",
       "      <td>Ed's Barber Supplies</td>\n",
       "      <td>2022</td>\n",
       "      <td>9</td>\n",
       "      <td>September</td>\n",
       "      <td>1491.80</td>\n",
       "      <td>29</td>\n",
       "      <td>9-2022</td>\n",
       "    </tr>\n",
       "    <tr>\n",
       "      <th>3</th>\n",
       "      <td>379 58 98</td>\n",
       "      <td>Ed's Barber Supplies</td>\n",
       "      <td>2022</td>\n",
       "      <td>10</td>\n",
       "      <td>October</td>\n",
       "      <td>1211.40</td>\n",
       "      <td>30</td>\n",
       "      <td>10-2022</td>\n",
       "    </tr>\n",
       "    <tr>\n",
       "      <th>4</th>\n",
       "      <td>379 58 98</td>\n",
       "      <td>Ed's Barber Supplies</td>\n",
       "      <td>2022</td>\n",
       "      <td>11</td>\n",
       "      <td>November</td>\n",
       "      <td>1387.80</td>\n",
       "      <td>29</td>\n",
       "      <td>11-2022</td>\n",
       "    </tr>\n",
       "    <tr>\n",
       "      <th>...</th>\n",
       "      <td>...</td>\n",
       "      <td>...</td>\n",
       "      <td>...</td>\n",
       "      <td>...</td>\n",
       "      <td>...</td>\n",
       "      <td>...</td>\n",
       "      <td>...</td>\n",
       "      <td>...</td>\n",
       "    </tr>\n",
       "    <tr>\n",
       "      <th>331</th>\n",
       "      <td>220 96 96</td>\n",
       "      <td>Wake Up with Coffee</td>\n",
       "      <td>2029</td>\n",
       "      <td>2</td>\n",
       "      <td>February</td>\n",
       "      <td>815.69</td>\n",
       "      <td>58</td>\n",
       "      <td>2-2029</td>\n",
       "    </tr>\n",
       "    <tr>\n",
       "      <th>332</th>\n",
       "      <td>220 96 96</td>\n",
       "      <td>Wake Up with Coffee</td>\n",
       "      <td>2029</td>\n",
       "      <td>3</td>\n",
       "      <td>March</td>\n",
       "      <td>782.62</td>\n",
       "      <td>57</td>\n",
       "      <td>3-2029</td>\n",
       "    </tr>\n",
       "    <tr>\n",
       "      <th>333</th>\n",
       "      <td>220 96 96</td>\n",
       "      <td>Wake Up with Coffee</td>\n",
       "      <td>2029</td>\n",
       "      <td>4</td>\n",
       "      <td>April</td>\n",
       "      <td>762.94</td>\n",
       "      <td>55</td>\n",
       "      <td>4-2029</td>\n",
       "    </tr>\n",
       "    <tr>\n",
       "      <th>334</th>\n",
       "      <td>220 96 96</td>\n",
       "      <td>Wake Up with Coffee</td>\n",
       "      <td>2029</td>\n",
       "      <td>5</td>\n",
       "      <td>May</td>\n",
       "      <td>778.57</td>\n",
       "      <td>55</td>\n",
       "      <td>5-2029</td>\n",
       "    </tr>\n",
       "    <tr>\n",
       "      <th>335</th>\n",
       "      <td>220 96 96</td>\n",
       "      <td>Wake Up with Coffee</td>\n",
       "      <td>2029</td>\n",
       "      <td>6</td>\n",
       "      <td>June</td>\n",
       "      <td>1081.01</td>\n",
       "      <td>56</td>\n",
       "      <td>6-2029</td>\n",
       "    </tr>\n",
       "  </tbody>\n",
       "</table>\n",
       "<p>336 rows × 8 columns</p>\n",
       "</div>"
      ]
     },
     "execution_count": 33,
     "metadata": {},
     "output_type": "execute_result"
    }
   ],
   "execution_count": 33
  },
  {
   "metadata": {},
   "cell_type": "markdown",
   "source": "### We want to visualise the performance of each business over the years",
   "id": "da11bf371a4be294"
  },
  {
   "metadata": {
    "ExecuteTime": {
     "end_time": "2025-07-05T17:40:57.037133Z",
     "start_time": "2025-07-05T17:40:57.028631Z"
    }
   },
   "cell_type": "code",
   "source": [
    "import plotly.graph_objects as go\n",
    "businesses = business_monthly_profits_df[\"business_name\"].unique()\n",
    "business_colours = [\"#70d6ff\", \"#ff70a6\", \"#ff9770\", \"#ffd670\"]\n",
    "fig = go.Figure()\n",
    "for business, colour in zip(businesses, business_colours):\n",
    "    business_profit_data = business_monthly_profits_df[\n",
    "        business_monthly_profits_df[\"business_name\"] == business]\n",
    "    fig.add_trace(go.Scatter(x=business_profit_data[\"month-year\"],\n",
    "                             y=business_profit_data[\"total_monthly_profit\"],\n",
    "                             mode='lines+markers',\n",
    "                             name=business,\n",
    "                             line=dict(color=colour)\n",
    "                             ))\n",
    "fig.update_layout(\n",
    "    title=\"Monthly Profits Across Businesses\",\n",
    "    xaxis_title=\"Months\",\n",
    "    yaxis_title=\"Total Profit ($)\",\n",
    "    xaxis_tickangle=270,\n",
    "    legend_title=\"Businesses\",\n",
    ")\n",
    "fig.show()"
   ],
   "id": "2caeb12e4054a10c",
   "outputs": [
    {
     "data": {
      "application/vnd.plotly.v1+json": {
       "data": [
        {
         "line": {
          "color": "#70d6ff"
         },
         "mode": "lines+markers",
         "name": "Ed's Barber Supplies",
         "x": [
          "7-2022",
          "8-2022",
          "9-2022",
          "10-2022",
          "11-2022",
          "12-2022",
          "1-2023",
          "2-2023",
          "3-2023",
          "4-2023",
          "5-2023",
          "6-2023",
          "7-2023",
          "8-2023",
          "9-2023",
          "10-2023",
          "11-2023",
          "12-2023",
          "1-2024",
          "2-2024",
          "3-2024",
          "4-2024",
          "5-2024",
          "6-2024",
          "7-2024",
          "8-2024",
          "9-2024",
          "10-2024",
          "11-2024",
          "12-2024",
          "1-2025",
          "2-2025",
          "3-2025",
          "4-2025",
          "5-2025",
          "6-2025",
          "7-2025",
          "8-2025",
          "9-2025",
          "10-2025",
          "11-2025",
          "12-2025",
          "1-2026",
          "2-2026",
          "3-2026",
          "4-2026",
          "5-2026",
          "6-2026",
          "7-2026",
          "8-2026",
          "9-2026",
          "10-2026",
          "11-2026",
          "12-2026",
          "1-2027",
          "2-2027",
          "3-2027",
          "4-2027",
          "5-2027",
          "6-2027",
          "7-2027",
          "8-2027",
          "9-2027",
          "10-2027",
          "11-2027",
          "12-2027",
          "1-2028",
          "2-2028",
          "3-2028",
          "4-2028",
          "5-2028",
          "6-2028",
          "7-2028",
          "8-2028",
          "9-2028",
          "10-2028",
          "11-2028",
          "12-2028",
          "1-2029",
          "2-2029",
          "3-2029",
          "4-2029",
          "5-2029",
          "6-2029"
         ],
         "y": [
          1496.6000000000004,
          1666.4,
          1491.8,
          1211.4000000000003,
          1387.8,
          1573.7,
          1855.7800000000007,
          1771.8500000000004,
          2093.4699999999993,
          1563.56,
          1918.74,
          1501.4699999999998,
          1187.2900000000002,
          1309.2900000000002,
          1698.8800000000003,
          1334.1399999999999,
          1268.2700000000002,
          1676.96,
          1728.7,
          1795.6,
          1513.92,
          1565.1799999999998,
          1730.88,
          2827.48,
          2365.3599999999997,
          2464.4600000000005,
          2146.18,
          2611.5800000000004,
          2492.5800000000004,
          2465.62,
          2548.5799999999995,
          2403.85,
          2513.1099999999997,
          2613.6299999999997,
          2805.44,
          2182.2200000000003,
          1927.5399999999997,
          2111.7400000000007,
          2273.56,
          2267.3800000000006,
          2129.9799999999996,
          2384.5199999999995,
          3511.499999999999,
          3380.5,
          2873.1,
          3997.899999999999,
          3506.2000000000003,
          3630.7000000000003,
          3501.0,
          3462.9000000000005,
          3543.899999999999,
          3432.2999999999997,
          3177.9999999999995,
          3141.2,
          2499.2000000000003,
          2003.7499999999998,
          2736.150000000001,
          2248.1,
          2520.9999999999995,
          2978.5999999999995,
          3381.6000000000004,
          3349.55,
          2330.2,
          2604.7,
          2637.4500000000003,
          3260.0000000000005,
          2991.48,
          3062.1600000000003,
          3097.179999999999,
          3149.1800000000003,
          3096.5000000000005,
          2859.7999999999993,
          2756.6000000000004,
          2662.2999999999997,
          2415.2999999999997,
          2717.3,
          2130.3999999999996,
          2395.8,
          2567.7399999999993,
          3306.84,
          2373.14,
          3295.9199999999987,
          3204.1199999999994,
          2509.2999999999993
         ],
         "type": "scatter"
        },
        {
         "line": {
          "color": "#ff70a6"
         },
         "mode": "lines+markers",
         "name": "Penguin Swim School",
         "x": [
          "7-2022",
          "8-2022",
          "9-2022",
          "10-2022",
          "11-2022",
          "12-2022",
          "1-2023",
          "2-2023",
          "3-2023",
          "4-2023",
          "5-2023",
          "6-2023",
          "7-2023",
          "8-2023",
          "9-2023",
          "10-2023",
          "11-2023",
          "12-2023",
          "1-2024",
          "2-2024",
          "3-2024",
          "4-2024",
          "5-2024",
          "6-2024",
          "7-2024",
          "8-2024",
          "9-2024",
          "10-2024",
          "11-2024",
          "12-2024",
          "1-2025",
          "2-2025",
          "3-2025",
          "4-2025",
          "5-2025",
          "6-2025",
          "7-2025",
          "8-2025",
          "9-2025",
          "10-2025",
          "11-2025",
          "12-2025",
          "1-2026",
          "2-2026",
          "3-2026",
          "4-2026",
          "5-2026",
          "6-2026",
          "7-2026",
          "8-2026",
          "9-2026",
          "10-2026",
          "11-2026",
          "12-2026",
          "1-2027",
          "2-2027",
          "3-2027",
          "4-2027",
          "5-2027",
          "6-2027",
          "7-2027",
          "8-2027",
          "9-2027",
          "10-2027",
          "11-2027",
          "12-2027",
          "1-2028",
          "2-2028",
          "3-2028",
          "4-2028",
          "5-2028",
          "6-2028",
          "7-2028",
          "8-2028",
          "9-2028",
          "10-2028",
          "11-2028",
          "12-2028",
          "1-2029",
          "2-2029",
          "3-2029",
          "4-2029",
          "5-2029",
          "6-2029"
         ],
         "y": [
          637.8000000000001,
          523.1,
          573.2,
          656.2,
          691.1,
          574.4,
          1069.6100000000001,
          1163.8999999999999,
          1375.0199999999998,
          1339.9799999999998,
          1326.45,
          1122.5200000000004,
          960.1700000000002,
          822.39,
          905.0800000000002,
          1109.8600000000001,
          848.17,
          1137.15,
          1065.77,
          1317.9799999999996,
          997.98,
          1077.02,
          906.16,
          870.2000000000002,
          710.2499999999999,
          846.05,
          973.9500000000002,
          954.3499999999999,
          992.1499999999999,
          1074.4499999999998,
          1741.4399999999996,
          1065.88,
          1222.5800000000002,
          1764.5,
          1567.12,
          1063.2199999999998,
          1067.18,
          1015.54,
          1759.0199999999998,
          1533.42,
          1726.48,
          1815.4599999999998,
          2099.79,
          1453.64,
          1075.47,
          1319.9999999999998,
          1289.45,
          1322.0099999999998,
          830.8899999999999,
          1092.77,
          1238.4400000000003,
          1617.3199999999997,
          1338.38,
          1423.5199999999998,
          1766.4199999999998,
          1395.86,
          1096.14,
          1475.86,
          1015.7399999999999,
          1255.34,
          1133.8199999999997,
          1431.5800000000002,
          1817.7199999999998,
          1711.9600000000003,
          2032.1199999999997,
          2246.5799999999995,
          1987.6200000000001,
          1677.21,
          1078.65,
          1487.76,
          852.2099999999998,
          614.84,
          733.4399999999997,
          898.6500000000001,
          804.2800000000002,
          951.37,
          893.29,
          974.4000000000001,
          730.8700000000001,
          639.29,
          580.54,
          780.2399999999998,
          635.52,
          1872.1000000000004
         ],
         "type": "scatter"
        },
        {
         "line": {
          "color": "#ff9770"
         },
         "mode": "lines+markers",
         "name": "Please Bring Pizza Pronto",
         "x": [
          "7-2022",
          "8-2022",
          "9-2022",
          "10-2022",
          "11-2022",
          "12-2022",
          "1-2023",
          "2-2023",
          "3-2023",
          "4-2023",
          "5-2023",
          "6-2023",
          "7-2023",
          "8-2023",
          "9-2023",
          "10-2023",
          "11-2023",
          "12-2023",
          "1-2024",
          "2-2024",
          "3-2024",
          "4-2024",
          "5-2024",
          "6-2024",
          "7-2024",
          "8-2024",
          "9-2024",
          "10-2024",
          "11-2024",
          "12-2024",
          "1-2025",
          "2-2025",
          "3-2025",
          "4-2025",
          "5-2025",
          "6-2025",
          "7-2025",
          "8-2025",
          "9-2025",
          "10-2025",
          "11-2025",
          "12-2025",
          "1-2026",
          "2-2026",
          "3-2026",
          "4-2026",
          "5-2026",
          "6-2026",
          "7-2026",
          "8-2026",
          "9-2026",
          "10-2026",
          "11-2026",
          "12-2026",
          "1-2027",
          "2-2027",
          "3-2027",
          "4-2027",
          "5-2027",
          "6-2027",
          "7-2027",
          "8-2027",
          "9-2027",
          "10-2027",
          "11-2027",
          "12-2027",
          "1-2028",
          "2-2028",
          "3-2028",
          "4-2028",
          "5-2028",
          "6-2028",
          "7-2028",
          "8-2028",
          "9-2028",
          "10-2028",
          "11-2028",
          "12-2028",
          "1-2029",
          "2-2029",
          "3-2029",
          "4-2029",
          "5-2029",
          "6-2029"
         ],
         "y": [
          754.1999999999999,
          734.9999999999999,
          620.6,
          819.9000000000001,
          548.5000000000001,
          611.1,
          628.29,
          648.6400000000001,
          709.8299999999999,
          626.4599999999998,
          656.68,
          865.0799999999999,
          710.8300000000002,
          689.0600000000001,
          741.4599999999999,
          632.4399999999998,
          627.8500000000001,
          645.58,
          858.17,
          901.7300000000005,
          989.8700000000001,
          958.9100000000003,
          919.1500000000003,
          1301.15,
          1238.08,
          1000.7699999999999,
          1069.24,
          1048.57,
          1108.61,
          1226.5700000000002,
          756.2500000000001,
          819.1100000000002,
          762.5400000000001,
          784.9699999999999,
          787.8600000000002,
          1016.6,
          1146.4699999999998,
          1029.94,
          1027.8999999999999,
          1048.1799999999998,
          734.0300000000001,
          982.04,
          1641.38,
          1635.0700000000004,
          1192.29,
          1475.1999999999998,
          1381.5700000000004,
          1773.6299999999997,
          1633.42,
          1946.8999999999999,
          1825.8999999999996,
          1893.82,
          1987.5000000000005,
          2210.5600000000004,
          2005.9,
          1766.4000000000003,
          1847.5999999999995,
          2130.8,
          1612.8000000000004,
          1472.6000000000001,
          1835.6,
          1621.5,
          1690.2,
          1756.3000000000004,
          1734.5999999999995,
          2093.3999999999996,
          2518.810000000001,
          2434.1699999999987,
          2102.5600000000004,
          2211.91,
          2092.5499999999997,
          2349.7999999999997,
          2185.5000000000005,
          2115.5899999999997,
          2283.9399999999996,
          2499.2899999999995,
          2582.3600000000006,
          2354.3999999999987,
          2366.7599999999993,
          2330.1500000000005,
          2236.97,
          2170.17,
          2347.7200000000003,
          2284.130000000001
         ],
         "type": "scatter"
        },
        {
         "line": {
          "color": "#ffd670"
         },
         "mode": "lines+markers",
         "name": "Wake Up with Coffee",
         "x": [
          "7-2022",
          "8-2022",
          "9-2022",
          "10-2022",
          "11-2022",
          "12-2022",
          "1-2023",
          "2-2023",
          "3-2023",
          "4-2023",
          "5-2023",
          "6-2023",
          "7-2023",
          "8-2023",
          "9-2023",
          "10-2023",
          "11-2023",
          "12-2023",
          "1-2024",
          "2-2024",
          "3-2024",
          "4-2024",
          "5-2024",
          "6-2024",
          "7-2024",
          "8-2024",
          "9-2024",
          "10-2024",
          "11-2024",
          "12-2024",
          "1-2025",
          "2-2025",
          "3-2025",
          "4-2025",
          "5-2025",
          "6-2025",
          "7-2025",
          "8-2025",
          "9-2025",
          "10-2025",
          "11-2025",
          "12-2025",
          "1-2026",
          "2-2026",
          "3-2026",
          "4-2026",
          "5-2026",
          "6-2026",
          "7-2026",
          "8-2026",
          "9-2026",
          "10-2026",
          "11-2026",
          "12-2026",
          "1-2027",
          "2-2027",
          "3-2027",
          "4-2027",
          "5-2027",
          "6-2027",
          "7-2027",
          "8-2027",
          "9-2027",
          "10-2027",
          "11-2027",
          "12-2027",
          "1-2028",
          "2-2028",
          "3-2028",
          "4-2028",
          "5-2028",
          "6-2028",
          "7-2028",
          "8-2028",
          "9-2028",
          "10-2028",
          "11-2028",
          "12-2028",
          "1-2029",
          "2-2029",
          "3-2029",
          "4-2029",
          "5-2029",
          "6-2029"
         ],
         "y": [
          607.1999999999999,
          698.0000000000001,
          759.6,
          761.6000000000001,
          609.4,
          568.1999999999999,
          729.7700000000001,
          694.1099999999999,
          705.2899999999998,
          766.7399999999999,
          725.0700000000002,
          527.39,
          533.67,
          501.4600000000001,
          461.69000000000005,
          523.5600000000001,
          407.47,
          428.70000000000005,
          895.3199999999999,
          1053.3,
          1315.3199999999997,
          990.2000000000002,
          975.0799999999998,
          1009.18,
          872.6600000000001,
          921.8000000000002,
          724.9400000000002,
          897.7399999999999,
          852.7600000000001,
          759.3000000000002,
          698.27,
          1203.7,
          878.5000000000003,
          884.57,
          914.4200000000004,
          884.1700000000002,
          828.7699999999998,
          996.7399999999999,
          749.49,
          839.0300000000002,
          840.5400000000001,
          866.9799999999997,
          714.4999999999999,
          651.9799999999999,
          643.0,
          555.34,
          585.68,
          511.91999999999996,
          628.7399999999999,
          600.54,
          668.6,
          596.72,
          569.0200000000001,
          646.12,
          907.2399999999998,
          942.5399999999998,
          935.92,
          786.1999999999999,
          692.5200000000001,
          1203.2,
          1193.9399999999998,
          1175.04,
          1271.2799999999997,
          1372.1799999999998,
          1305.1,
          1444.8400000000001,
          1139.9800000000002,
          1174.2400000000002,
          1212.54,
          1235.66,
          1091.88,
          1087.24,
          1094.2599999999995,
          1131.3800000000003,
          1488.2999999999997,
          1292.0800000000002,
          1315.94,
          1264.5800000000002,
          907.95,
          815.69,
          782.6199999999995,
          762.9399999999997,
          778.5699999999997,
          1081.0100000000002
         ],
         "type": "scatter"
        }
       ],
       "layout": {
        "template": {
         "data": {
          "histogram2dcontour": [
           {
            "type": "histogram2dcontour",
            "colorbar": {
             "outlinewidth": 0,
             "ticks": ""
            },
            "colorscale": [
             [
              0.0,
              "#0d0887"
             ],
             [
              0.1111111111111111,
              "#46039f"
             ],
             [
              0.2222222222222222,
              "#7201a8"
             ],
             [
              0.3333333333333333,
              "#9c179e"
             ],
             [
              0.4444444444444444,
              "#bd3786"
             ],
             [
              0.5555555555555556,
              "#d8576b"
             ],
             [
              0.6666666666666666,
              "#ed7953"
             ],
             [
              0.7777777777777778,
              "#fb9f3a"
             ],
             [
              0.8888888888888888,
              "#fdca26"
             ],
             [
              1.0,
              "#f0f921"
             ]
            ]
           }
          ],
          "choropleth": [
           {
            "type": "choropleth",
            "colorbar": {
             "outlinewidth": 0,
             "ticks": ""
            }
           }
          ],
          "histogram2d": [
           {
            "type": "histogram2d",
            "colorbar": {
             "outlinewidth": 0,
             "ticks": ""
            },
            "colorscale": [
             [
              0.0,
              "#0d0887"
             ],
             [
              0.1111111111111111,
              "#46039f"
             ],
             [
              0.2222222222222222,
              "#7201a8"
             ],
             [
              0.3333333333333333,
              "#9c179e"
             ],
             [
              0.4444444444444444,
              "#bd3786"
             ],
             [
              0.5555555555555556,
              "#d8576b"
             ],
             [
              0.6666666666666666,
              "#ed7953"
             ],
             [
              0.7777777777777778,
              "#fb9f3a"
             ],
             [
              0.8888888888888888,
              "#fdca26"
             ],
             [
              1.0,
              "#f0f921"
             ]
            ]
           }
          ],
          "heatmap": [
           {
            "type": "heatmap",
            "colorbar": {
             "outlinewidth": 0,
             "ticks": ""
            },
            "colorscale": [
             [
              0.0,
              "#0d0887"
             ],
             [
              0.1111111111111111,
              "#46039f"
             ],
             [
              0.2222222222222222,
              "#7201a8"
             ],
             [
              0.3333333333333333,
              "#9c179e"
             ],
             [
              0.4444444444444444,
              "#bd3786"
             ],
             [
              0.5555555555555556,
              "#d8576b"
             ],
             [
              0.6666666666666666,
              "#ed7953"
             ],
             [
              0.7777777777777778,
              "#fb9f3a"
             ],
             [
              0.8888888888888888,
              "#fdca26"
             ],
             [
              1.0,
              "#f0f921"
             ]
            ]
           }
          ],
          "heatmapgl": [
           {
            "type": "heatmapgl",
            "colorbar": {
             "outlinewidth": 0,
             "ticks": ""
            },
            "colorscale": [
             [
              0.0,
              "#0d0887"
             ],
             [
              0.1111111111111111,
              "#46039f"
             ],
             [
              0.2222222222222222,
              "#7201a8"
             ],
             [
              0.3333333333333333,
              "#9c179e"
             ],
             [
              0.4444444444444444,
              "#bd3786"
             ],
             [
              0.5555555555555556,
              "#d8576b"
             ],
             [
              0.6666666666666666,
              "#ed7953"
             ],
             [
              0.7777777777777778,
              "#fb9f3a"
             ],
             [
              0.8888888888888888,
              "#fdca26"
             ],
             [
              1.0,
              "#f0f921"
             ]
            ]
           }
          ],
          "contourcarpet": [
           {
            "type": "contourcarpet",
            "colorbar": {
             "outlinewidth": 0,
             "ticks": ""
            }
           }
          ],
          "contour": [
           {
            "type": "contour",
            "colorbar": {
             "outlinewidth": 0,
             "ticks": ""
            },
            "colorscale": [
             [
              0.0,
              "#0d0887"
             ],
             [
              0.1111111111111111,
              "#46039f"
             ],
             [
              0.2222222222222222,
              "#7201a8"
             ],
             [
              0.3333333333333333,
              "#9c179e"
             ],
             [
              0.4444444444444444,
              "#bd3786"
             ],
             [
              0.5555555555555556,
              "#d8576b"
             ],
             [
              0.6666666666666666,
              "#ed7953"
             ],
             [
              0.7777777777777778,
              "#fb9f3a"
             ],
             [
              0.8888888888888888,
              "#fdca26"
             ],
             [
              1.0,
              "#f0f921"
             ]
            ]
           }
          ],
          "surface": [
           {
            "type": "surface",
            "colorbar": {
             "outlinewidth": 0,
             "ticks": ""
            },
            "colorscale": [
             [
              0.0,
              "#0d0887"
             ],
             [
              0.1111111111111111,
              "#46039f"
             ],
             [
              0.2222222222222222,
              "#7201a8"
             ],
             [
              0.3333333333333333,
              "#9c179e"
             ],
             [
              0.4444444444444444,
              "#bd3786"
             ],
             [
              0.5555555555555556,
              "#d8576b"
             ],
             [
              0.6666666666666666,
              "#ed7953"
             ],
             [
              0.7777777777777778,
              "#fb9f3a"
             ],
             [
              0.8888888888888888,
              "#fdca26"
             ],
             [
              1.0,
              "#f0f921"
             ]
            ]
           }
          ],
          "mesh3d": [
           {
            "type": "mesh3d",
            "colorbar": {
             "outlinewidth": 0,
             "ticks": ""
            }
           }
          ],
          "scatter": [
           {
            "fillpattern": {
             "fillmode": "overlay",
             "size": 10,
             "solidity": 0.2
            },
            "type": "scatter"
           }
          ],
          "parcoords": [
           {
            "type": "parcoords",
            "line": {
             "colorbar": {
              "outlinewidth": 0,
              "ticks": ""
             }
            }
           }
          ],
          "scatterpolargl": [
           {
            "type": "scatterpolargl",
            "marker": {
             "colorbar": {
              "outlinewidth": 0,
              "ticks": ""
             }
            }
           }
          ],
          "bar": [
           {
            "error_x": {
             "color": "#2a3f5f"
            },
            "error_y": {
             "color": "#2a3f5f"
            },
            "marker": {
             "line": {
              "color": "#E5ECF6",
              "width": 0.5
             },
             "pattern": {
              "fillmode": "overlay",
              "size": 10,
              "solidity": 0.2
             }
            },
            "type": "bar"
           }
          ],
          "scattergeo": [
           {
            "type": "scattergeo",
            "marker": {
             "colorbar": {
              "outlinewidth": 0,
              "ticks": ""
             }
            }
           }
          ],
          "scatterpolar": [
           {
            "type": "scatterpolar",
            "marker": {
             "colorbar": {
              "outlinewidth": 0,
              "ticks": ""
             }
            }
           }
          ],
          "histogram": [
           {
            "marker": {
             "pattern": {
              "fillmode": "overlay",
              "size": 10,
              "solidity": 0.2
             }
            },
            "type": "histogram"
           }
          ],
          "scattergl": [
           {
            "type": "scattergl",
            "marker": {
             "colorbar": {
              "outlinewidth": 0,
              "ticks": ""
             }
            }
           }
          ],
          "scatter3d": [
           {
            "type": "scatter3d",
            "line": {
             "colorbar": {
              "outlinewidth": 0,
              "ticks": ""
             }
            },
            "marker": {
             "colorbar": {
              "outlinewidth": 0,
              "ticks": ""
             }
            }
           }
          ],
          "scattermapbox": [
           {
            "type": "scattermapbox",
            "marker": {
             "colorbar": {
              "outlinewidth": 0,
              "ticks": ""
             }
            }
           }
          ],
          "scatterternary": [
           {
            "type": "scatterternary",
            "marker": {
             "colorbar": {
              "outlinewidth": 0,
              "ticks": ""
             }
            }
           }
          ],
          "scattercarpet": [
           {
            "type": "scattercarpet",
            "marker": {
             "colorbar": {
              "outlinewidth": 0,
              "ticks": ""
             }
            }
           }
          ],
          "carpet": [
           {
            "aaxis": {
             "endlinecolor": "#2a3f5f",
             "gridcolor": "white",
             "linecolor": "white",
             "minorgridcolor": "white",
             "startlinecolor": "#2a3f5f"
            },
            "baxis": {
             "endlinecolor": "#2a3f5f",
             "gridcolor": "white",
             "linecolor": "white",
             "minorgridcolor": "white",
             "startlinecolor": "#2a3f5f"
            },
            "type": "carpet"
           }
          ],
          "table": [
           {
            "cells": {
             "fill": {
              "color": "#EBF0F8"
             },
             "line": {
              "color": "white"
             }
            },
            "header": {
             "fill": {
              "color": "#C8D4E3"
             },
             "line": {
              "color": "white"
             }
            },
            "type": "table"
           }
          ],
          "barpolar": [
           {
            "marker": {
             "line": {
              "color": "#E5ECF6",
              "width": 0.5
             },
             "pattern": {
              "fillmode": "overlay",
              "size": 10,
              "solidity": 0.2
             }
            },
            "type": "barpolar"
           }
          ],
          "pie": [
           {
            "automargin": true,
            "type": "pie"
           }
          ]
         },
         "layout": {
          "autotypenumbers": "strict",
          "colorway": [
           "#636efa",
           "#EF553B",
           "#00cc96",
           "#ab63fa",
           "#FFA15A",
           "#19d3f3",
           "#FF6692",
           "#B6E880",
           "#FF97FF",
           "#FECB52"
          ],
          "font": {
           "color": "#2a3f5f"
          },
          "hovermode": "closest",
          "hoverlabel": {
           "align": "left"
          },
          "paper_bgcolor": "white",
          "plot_bgcolor": "#E5ECF6",
          "polar": {
           "bgcolor": "#E5ECF6",
           "angularaxis": {
            "gridcolor": "white",
            "linecolor": "white",
            "ticks": ""
           },
           "radialaxis": {
            "gridcolor": "white",
            "linecolor": "white",
            "ticks": ""
           }
          },
          "ternary": {
           "bgcolor": "#E5ECF6",
           "aaxis": {
            "gridcolor": "white",
            "linecolor": "white",
            "ticks": ""
           },
           "baxis": {
            "gridcolor": "white",
            "linecolor": "white",
            "ticks": ""
           },
           "caxis": {
            "gridcolor": "white",
            "linecolor": "white",
            "ticks": ""
           }
          },
          "coloraxis": {
           "colorbar": {
            "outlinewidth": 0,
            "ticks": ""
           }
          },
          "colorscale": {
           "sequential": [
            [
             0.0,
             "#0d0887"
            ],
            [
             0.1111111111111111,
             "#46039f"
            ],
            [
             0.2222222222222222,
             "#7201a8"
            ],
            [
             0.3333333333333333,
             "#9c179e"
            ],
            [
             0.4444444444444444,
             "#bd3786"
            ],
            [
             0.5555555555555556,
             "#d8576b"
            ],
            [
             0.6666666666666666,
             "#ed7953"
            ],
            [
             0.7777777777777778,
             "#fb9f3a"
            ],
            [
             0.8888888888888888,
             "#fdca26"
            ],
            [
             1.0,
             "#f0f921"
            ]
           ],
           "sequentialminus": [
            [
             0.0,
             "#0d0887"
            ],
            [
             0.1111111111111111,
             "#46039f"
            ],
            [
             0.2222222222222222,
             "#7201a8"
            ],
            [
             0.3333333333333333,
             "#9c179e"
            ],
            [
             0.4444444444444444,
             "#bd3786"
            ],
            [
             0.5555555555555556,
             "#d8576b"
            ],
            [
             0.6666666666666666,
             "#ed7953"
            ],
            [
             0.7777777777777778,
             "#fb9f3a"
            ],
            [
             0.8888888888888888,
             "#fdca26"
            ],
            [
             1.0,
             "#f0f921"
            ]
           ],
           "diverging": [
            [
             0,
             "#8e0152"
            ],
            [
             0.1,
             "#c51b7d"
            ],
            [
             0.2,
             "#de77ae"
            ],
            [
             0.3,
             "#f1b6da"
            ],
            [
             0.4,
             "#fde0ef"
            ],
            [
             0.5,
             "#f7f7f7"
            ],
            [
             0.6,
             "#e6f5d0"
            ],
            [
             0.7,
             "#b8e186"
            ],
            [
             0.8,
             "#7fbc41"
            ],
            [
             0.9,
             "#4d9221"
            ],
            [
             1,
             "#276419"
            ]
           ]
          },
          "xaxis": {
           "gridcolor": "white",
           "linecolor": "white",
           "ticks": "",
           "title": {
            "standoff": 15
           },
           "zerolinecolor": "white",
           "automargin": true,
           "zerolinewidth": 2
          },
          "yaxis": {
           "gridcolor": "white",
           "linecolor": "white",
           "ticks": "",
           "title": {
            "standoff": 15
           },
           "zerolinecolor": "white",
           "automargin": true,
           "zerolinewidth": 2
          },
          "scene": {
           "xaxis": {
            "backgroundcolor": "#E5ECF6",
            "gridcolor": "white",
            "linecolor": "white",
            "showbackground": true,
            "ticks": "",
            "zerolinecolor": "white",
            "gridwidth": 2
           },
           "yaxis": {
            "backgroundcolor": "#E5ECF6",
            "gridcolor": "white",
            "linecolor": "white",
            "showbackground": true,
            "ticks": "",
            "zerolinecolor": "white",
            "gridwidth": 2
           },
           "zaxis": {
            "backgroundcolor": "#E5ECF6",
            "gridcolor": "white",
            "linecolor": "white",
            "showbackground": true,
            "ticks": "",
            "zerolinecolor": "white",
            "gridwidth": 2
           }
          },
          "shapedefaults": {
           "line": {
            "color": "#2a3f5f"
           }
          },
          "annotationdefaults": {
           "arrowcolor": "#2a3f5f",
           "arrowhead": 0,
           "arrowwidth": 1
          },
          "geo": {
           "bgcolor": "white",
           "landcolor": "#E5ECF6",
           "subunitcolor": "white",
           "showland": true,
           "showlakes": true,
           "lakecolor": "white"
          },
          "title": {
           "x": 0.05
          },
          "mapbox": {
           "style": "light"
          }
         }
        },
        "xaxis": {
         "title": {
          "text": "Months"
         },
         "tickangle": -90
        },
        "title": {
         "text": "Monthly Profits Across Businesses"
        },
        "yaxis": {
         "title": {
          "text": "Total Profit ($)"
         }
        },
        "legend": {
         "title": {
          "text": "Businesses"
         }
        }
       },
       "config": {
        "plotlyServerURL": "https://plot.ly"
       }
      },
      "text/html": [
       "<div>                            <div id=\"77d299d9-76e2-42ca-9b12-b18a5bf98a21\" class=\"plotly-graph-div\" style=\"height:525px; width:100%;\"></div>            <script type=\"text/javascript\">                require([\"plotly\"], function(Plotly) {                    window.PLOTLYENV=window.PLOTLYENV || {};                                    if (document.getElementById(\"77d299d9-76e2-42ca-9b12-b18a5bf98a21\")) {                    Plotly.newPlot(                        \"77d299d9-76e2-42ca-9b12-b18a5bf98a21\",                        [{\"line\":{\"color\":\"#70d6ff\"},\"mode\":\"lines+markers\",\"name\":\"Ed's Barber Supplies\",\"x\":[\"7-2022\",\"8-2022\",\"9-2022\",\"10-2022\",\"11-2022\",\"12-2022\",\"1-2023\",\"2-2023\",\"3-2023\",\"4-2023\",\"5-2023\",\"6-2023\",\"7-2023\",\"8-2023\",\"9-2023\",\"10-2023\",\"11-2023\",\"12-2023\",\"1-2024\",\"2-2024\",\"3-2024\",\"4-2024\",\"5-2024\",\"6-2024\",\"7-2024\",\"8-2024\",\"9-2024\",\"10-2024\",\"11-2024\",\"12-2024\",\"1-2025\",\"2-2025\",\"3-2025\",\"4-2025\",\"5-2025\",\"6-2025\",\"7-2025\",\"8-2025\",\"9-2025\",\"10-2025\",\"11-2025\",\"12-2025\",\"1-2026\",\"2-2026\",\"3-2026\",\"4-2026\",\"5-2026\",\"6-2026\",\"7-2026\",\"8-2026\",\"9-2026\",\"10-2026\",\"11-2026\",\"12-2026\",\"1-2027\",\"2-2027\",\"3-2027\",\"4-2027\",\"5-2027\",\"6-2027\",\"7-2027\",\"8-2027\",\"9-2027\",\"10-2027\",\"11-2027\",\"12-2027\",\"1-2028\",\"2-2028\",\"3-2028\",\"4-2028\",\"5-2028\",\"6-2028\",\"7-2028\",\"8-2028\",\"9-2028\",\"10-2028\",\"11-2028\",\"12-2028\",\"1-2029\",\"2-2029\",\"3-2029\",\"4-2029\",\"5-2029\",\"6-2029\"],\"y\":[1496.6000000000004,1666.4,1491.8,1211.4000000000003,1387.8,1573.7,1855.7800000000007,1771.8500000000004,2093.4699999999993,1563.56,1918.74,1501.4699999999998,1187.2900000000002,1309.2900000000002,1698.8800000000003,1334.1399999999999,1268.2700000000002,1676.96,1728.7,1795.6,1513.92,1565.1799999999998,1730.88,2827.48,2365.3599999999997,2464.4600000000005,2146.18,2611.5800000000004,2492.5800000000004,2465.62,2548.5799999999995,2403.85,2513.1099999999997,2613.6299999999997,2805.44,2182.2200000000003,1927.5399999999997,2111.7400000000007,2273.56,2267.3800000000006,2129.9799999999996,2384.5199999999995,3511.499999999999,3380.5,2873.1,3997.899999999999,3506.2000000000003,3630.7000000000003,3501.0,3462.9000000000005,3543.899999999999,3432.2999999999997,3177.9999999999995,3141.2,2499.2000000000003,2003.7499999999998,2736.150000000001,2248.1,2520.9999999999995,2978.5999999999995,3381.6000000000004,3349.55,2330.2,2604.7,2637.4500000000003,3260.0000000000005,2991.48,3062.1600000000003,3097.179999999999,3149.1800000000003,3096.5000000000005,2859.7999999999993,2756.6000000000004,2662.2999999999997,2415.2999999999997,2717.3,2130.3999999999996,2395.8,2567.7399999999993,3306.84,2373.14,3295.9199999999987,3204.1199999999994,2509.2999999999993],\"type\":\"scatter\"},{\"line\":{\"color\":\"#ff70a6\"},\"mode\":\"lines+markers\",\"name\":\"Penguin Swim School\",\"x\":[\"7-2022\",\"8-2022\",\"9-2022\",\"10-2022\",\"11-2022\",\"12-2022\",\"1-2023\",\"2-2023\",\"3-2023\",\"4-2023\",\"5-2023\",\"6-2023\",\"7-2023\",\"8-2023\",\"9-2023\",\"10-2023\",\"11-2023\",\"12-2023\",\"1-2024\",\"2-2024\",\"3-2024\",\"4-2024\",\"5-2024\",\"6-2024\",\"7-2024\",\"8-2024\",\"9-2024\",\"10-2024\",\"11-2024\",\"12-2024\",\"1-2025\",\"2-2025\",\"3-2025\",\"4-2025\",\"5-2025\",\"6-2025\",\"7-2025\",\"8-2025\",\"9-2025\",\"10-2025\",\"11-2025\",\"12-2025\",\"1-2026\",\"2-2026\",\"3-2026\",\"4-2026\",\"5-2026\",\"6-2026\",\"7-2026\",\"8-2026\",\"9-2026\",\"10-2026\",\"11-2026\",\"12-2026\",\"1-2027\",\"2-2027\",\"3-2027\",\"4-2027\",\"5-2027\",\"6-2027\",\"7-2027\",\"8-2027\",\"9-2027\",\"10-2027\",\"11-2027\",\"12-2027\",\"1-2028\",\"2-2028\",\"3-2028\",\"4-2028\",\"5-2028\",\"6-2028\",\"7-2028\",\"8-2028\",\"9-2028\",\"10-2028\",\"11-2028\",\"12-2028\",\"1-2029\",\"2-2029\",\"3-2029\",\"4-2029\",\"5-2029\",\"6-2029\"],\"y\":[637.8000000000001,523.1,573.2,656.2,691.1,574.4,1069.6100000000001,1163.8999999999999,1375.0199999999998,1339.9799999999998,1326.45,1122.5200000000004,960.1700000000002,822.39,905.0800000000002,1109.8600000000001,848.17,1137.15,1065.77,1317.9799999999996,997.98,1077.02,906.16,870.2000000000002,710.2499999999999,846.05,973.9500000000002,954.3499999999999,992.1499999999999,1074.4499999999998,1741.4399999999996,1065.88,1222.5800000000002,1764.5,1567.12,1063.2199999999998,1067.18,1015.54,1759.0199999999998,1533.42,1726.48,1815.4599999999998,2099.79,1453.64,1075.47,1319.9999999999998,1289.45,1322.0099999999998,830.8899999999999,1092.77,1238.4400000000003,1617.3199999999997,1338.38,1423.5199999999998,1766.4199999999998,1395.86,1096.14,1475.86,1015.7399999999999,1255.34,1133.8199999999997,1431.5800000000002,1817.7199999999998,1711.9600000000003,2032.1199999999997,2246.5799999999995,1987.6200000000001,1677.21,1078.65,1487.76,852.2099999999998,614.84,733.4399999999997,898.6500000000001,804.2800000000002,951.37,893.29,974.4000000000001,730.8700000000001,639.29,580.54,780.2399999999998,635.52,1872.1000000000004],\"type\":\"scatter\"},{\"line\":{\"color\":\"#ff9770\"},\"mode\":\"lines+markers\",\"name\":\"Please Bring Pizza Pronto\",\"x\":[\"7-2022\",\"8-2022\",\"9-2022\",\"10-2022\",\"11-2022\",\"12-2022\",\"1-2023\",\"2-2023\",\"3-2023\",\"4-2023\",\"5-2023\",\"6-2023\",\"7-2023\",\"8-2023\",\"9-2023\",\"10-2023\",\"11-2023\",\"12-2023\",\"1-2024\",\"2-2024\",\"3-2024\",\"4-2024\",\"5-2024\",\"6-2024\",\"7-2024\",\"8-2024\",\"9-2024\",\"10-2024\",\"11-2024\",\"12-2024\",\"1-2025\",\"2-2025\",\"3-2025\",\"4-2025\",\"5-2025\",\"6-2025\",\"7-2025\",\"8-2025\",\"9-2025\",\"10-2025\",\"11-2025\",\"12-2025\",\"1-2026\",\"2-2026\",\"3-2026\",\"4-2026\",\"5-2026\",\"6-2026\",\"7-2026\",\"8-2026\",\"9-2026\",\"10-2026\",\"11-2026\",\"12-2026\",\"1-2027\",\"2-2027\",\"3-2027\",\"4-2027\",\"5-2027\",\"6-2027\",\"7-2027\",\"8-2027\",\"9-2027\",\"10-2027\",\"11-2027\",\"12-2027\",\"1-2028\",\"2-2028\",\"3-2028\",\"4-2028\",\"5-2028\",\"6-2028\",\"7-2028\",\"8-2028\",\"9-2028\",\"10-2028\",\"11-2028\",\"12-2028\",\"1-2029\",\"2-2029\",\"3-2029\",\"4-2029\",\"5-2029\",\"6-2029\"],\"y\":[754.1999999999999,734.9999999999999,620.6,819.9000000000001,548.5000000000001,611.1,628.29,648.6400000000001,709.8299999999999,626.4599999999998,656.68,865.0799999999999,710.8300000000002,689.0600000000001,741.4599999999999,632.4399999999998,627.8500000000001,645.58,858.17,901.7300000000005,989.8700000000001,958.9100000000003,919.1500000000003,1301.15,1238.08,1000.7699999999999,1069.24,1048.57,1108.61,1226.5700000000002,756.2500000000001,819.1100000000002,762.5400000000001,784.9699999999999,787.8600000000002,1016.6,1146.4699999999998,1029.94,1027.8999999999999,1048.1799999999998,734.0300000000001,982.04,1641.38,1635.0700000000004,1192.29,1475.1999999999998,1381.5700000000004,1773.6299999999997,1633.42,1946.8999999999999,1825.8999999999996,1893.82,1987.5000000000005,2210.5600000000004,2005.9,1766.4000000000003,1847.5999999999995,2130.8,1612.8000000000004,1472.6000000000001,1835.6,1621.5,1690.2,1756.3000000000004,1734.5999999999995,2093.3999999999996,2518.810000000001,2434.1699999999987,2102.5600000000004,2211.91,2092.5499999999997,2349.7999999999997,2185.5000000000005,2115.5899999999997,2283.9399999999996,2499.2899999999995,2582.3600000000006,2354.3999999999987,2366.7599999999993,2330.1500000000005,2236.97,2170.17,2347.7200000000003,2284.130000000001],\"type\":\"scatter\"},{\"line\":{\"color\":\"#ffd670\"},\"mode\":\"lines+markers\",\"name\":\"Wake Up with Coffee\",\"x\":[\"7-2022\",\"8-2022\",\"9-2022\",\"10-2022\",\"11-2022\",\"12-2022\",\"1-2023\",\"2-2023\",\"3-2023\",\"4-2023\",\"5-2023\",\"6-2023\",\"7-2023\",\"8-2023\",\"9-2023\",\"10-2023\",\"11-2023\",\"12-2023\",\"1-2024\",\"2-2024\",\"3-2024\",\"4-2024\",\"5-2024\",\"6-2024\",\"7-2024\",\"8-2024\",\"9-2024\",\"10-2024\",\"11-2024\",\"12-2024\",\"1-2025\",\"2-2025\",\"3-2025\",\"4-2025\",\"5-2025\",\"6-2025\",\"7-2025\",\"8-2025\",\"9-2025\",\"10-2025\",\"11-2025\",\"12-2025\",\"1-2026\",\"2-2026\",\"3-2026\",\"4-2026\",\"5-2026\",\"6-2026\",\"7-2026\",\"8-2026\",\"9-2026\",\"10-2026\",\"11-2026\",\"12-2026\",\"1-2027\",\"2-2027\",\"3-2027\",\"4-2027\",\"5-2027\",\"6-2027\",\"7-2027\",\"8-2027\",\"9-2027\",\"10-2027\",\"11-2027\",\"12-2027\",\"1-2028\",\"2-2028\",\"3-2028\",\"4-2028\",\"5-2028\",\"6-2028\",\"7-2028\",\"8-2028\",\"9-2028\",\"10-2028\",\"11-2028\",\"12-2028\",\"1-2029\",\"2-2029\",\"3-2029\",\"4-2029\",\"5-2029\",\"6-2029\"],\"y\":[607.1999999999999,698.0000000000001,759.6,761.6000000000001,609.4,568.1999999999999,729.7700000000001,694.1099999999999,705.2899999999998,766.7399999999999,725.0700000000002,527.39,533.67,501.4600000000001,461.69000000000005,523.5600000000001,407.47,428.70000000000005,895.3199999999999,1053.3,1315.3199999999997,990.2000000000002,975.0799999999998,1009.18,872.6600000000001,921.8000000000002,724.9400000000002,897.7399999999999,852.7600000000001,759.3000000000002,698.27,1203.7,878.5000000000003,884.57,914.4200000000004,884.1700000000002,828.7699999999998,996.7399999999999,749.49,839.0300000000002,840.5400000000001,866.9799999999997,714.4999999999999,651.9799999999999,643.0,555.34,585.68,511.91999999999996,628.7399999999999,600.54,668.6,596.72,569.0200000000001,646.12,907.2399999999998,942.5399999999998,935.92,786.1999999999999,692.5200000000001,1203.2,1193.9399999999998,1175.04,1271.2799999999997,1372.1799999999998,1305.1,1444.8400000000001,1139.9800000000002,1174.2400000000002,1212.54,1235.66,1091.88,1087.24,1094.2599999999995,1131.3800000000003,1488.2999999999997,1292.0800000000002,1315.94,1264.5800000000002,907.95,815.69,782.6199999999995,762.9399999999997,778.5699999999997,1081.0100000000002],\"type\":\"scatter\"}],                        {\"template\":{\"data\":{\"histogram2dcontour\":[{\"type\":\"histogram2dcontour\",\"colorbar\":{\"outlinewidth\":0,\"ticks\":\"\"},\"colorscale\":[[0.0,\"#0d0887\"],[0.1111111111111111,\"#46039f\"],[0.2222222222222222,\"#7201a8\"],[0.3333333333333333,\"#9c179e\"],[0.4444444444444444,\"#bd3786\"],[0.5555555555555556,\"#d8576b\"],[0.6666666666666666,\"#ed7953\"],[0.7777777777777778,\"#fb9f3a\"],[0.8888888888888888,\"#fdca26\"],[1.0,\"#f0f921\"]]}],\"choropleth\":[{\"type\":\"choropleth\",\"colorbar\":{\"outlinewidth\":0,\"ticks\":\"\"}}],\"histogram2d\":[{\"type\":\"histogram2d\",\"colorbar\":{\"outlinewidth\":0,\"ticks\":\"\"},\"colorscale\":[[0.0,\"#0d0887\"],[0.1111111111111111,\"#46039f\"],[0.2222222222222222,\"#7201a8\"],[0.3333333333333333,\"#9c179e\"],[0.4444444444444444,\"#bd3786\"],[0.5555555555555556,\"#d8576b\"],[0.6666666666666666,\"#ed7953\"],[0.7777777777777778,\"#fb9f3a\"],[0.8888888888888888,\"#fdca26\"],[1.0,\"#f0f921\"]]}],\"heatmap\":[{\"type\":\"heatmap\",\"colorbar\":{\"outlinewidth\":0,\"ticks\":\"\"},\"colorscale\":[[0.0,\"#0d0887\"],[0.1111111111111111,\"#46039f\"],[0.2222222222222222,\"#7201a8\"],[0.3333333333333333,\"#9c179e\"],[0.4444444444444444,\"#bd3786\"],[0.5555555555555556,\"#d8576b\"],[0.6666666666666666,\"#ed7953\"],[0.7777777777777778,\"#fb9f3a\"],[0.8888888888888888,\"#fdca26\"],[1.0,\"#f0f921\"]]}],\"heatmapgl\":[{\"type\":\"heatmapgl\",\"colorbar\":{\"outlinewidth\":0,\"ticks\":\"\"},\"colorscale\":[[0.0,\"#0d0887\"],[0.1111111111111111,\"#46039f\"],[0.2222222222222222,\"#7201a8\"],[0.3333333333333333,\"#9c179e\"],[0.4444444444444444,\"#bd3786\"],[0.5555555555555556,\"#d8576b\"],[0.6666666666666666,\"#ed7953\"],[0.7777777777777778,\"#fb9f3a\"],[0.8888888888888888,\"#fdca26\"],[1.0,\"#f0f921\"]]}],\"contourcarpet\":[{\"type\":\"contourcarpet\",\"colorbar\":{\"outlinewidth\":0,\"ticks\":\"\"}}],\"contour\":[{\"type\":\"contour\",\"colorbar\":{\"outlinewidth\":0,\"ticks\":\"\"},\"colorscale\":[[0.0,\"#0d0887\"],[0.1111111111111111,\"#46039f\"],[0.2222222222222222,\"#7201a8\"],[0.3333333333333333,\"#9c179e\"],[0.4444444444444444,\"#bd3786\"],[0.5555555555555556,\"#d8576b\"],[0.6666666666666666,\"#ed7953\"],[0.7777777777777778,\"#fb9f3a\"],[0.8888888888888888,\"#fdca26\"],[1.0,\"#f0f921\"]]}],\"surface\":[{\"type\":\"surface\",\"colorbar\":{\"outlinewidth\":0,\"ticks\":\"\"},\"colorscale\":[[0.0,\"#0d0887\"],[0.1111111111111111,\"#46039f\"],[0.2222222222222222,\"#7201a8\"],[0.3333333333333333,\"#9c179e\"],[0.4444444444444444,\"#bd3786\"],[0.5555555555555556,\"#d8576b\"],[0.6666666666666666,\"#ed7953\"],[0.7777777777777778,\"#fb9f3a\"],[0.8888888888888888,\"#fdca26\"],[1.0,\"#f0f921\"]]}],\"mesh3d\":[{\"type\":\"mesh3d\",\"colorbar\":{\"outlinewidth\":0,\"ticks\":\"\"}}],\"scatter\":[{\"fillpattern\":{\"fillmode\":\"overlay\",\"size\":10,\"solidity\":0.2},\"type\":\"scatter\"}],\"parcoords\":[{\"type\":\"parcoords\",\"line\":{\"colorbar\":{\"outlinewidth\":0,\"ticks\":\"\"}}}],\"scatterpolargl\":[{\"type\":\"scatterpolargl\",\"marker\":{\"colorbar\":{\"outlinewidth\":0,\"ticks\":\"\"}}}],\"bar\":[{\"error_x\":{\"color\":\"#2a3f5f\"},\"error_y\":{\"color\":\"#2a3f5f\"},\"marker\":{\"line\":{\"color\":\"#E5ECF6\",\"width\":0.5},\"pattern\":{\"fillmode\":\"overlay\",\"size\":10,\"solidity\":0.2}},\"type\":\"bar\"}],\"scattergeo\":[{\"type\":\"scattergeo\",\"marker\":{\"colorbar\":{\"outlinewidth\":0,\"ticks\":\"\"}}}],\"scatterpolar\":[{\"type\":\"scatterpolar\",\"marker\":{\"colorbar\":{\"outlinewidth\":0,\"ticks\":\"\"}}}],\"histogram\":[{\"marker\":{\"pattern\":{\"fillmode\":\"overlay\",\"size\":10,\"solidity\":0.2}},\"type\":\"histogram\"}],\"scattergl\":[{\"type\":\"scattergl\",\"marker\":{\"colorbar\":{\"outlinewidth\":0,\"ticks\":\"\"}}}],\"scatter3d\":[{\"type\":\"scatter3d\",\"line\":{\"colorbar\":{\"outlinewidth\":0,\"ticks\":\"\"}},\"marker\":{\"colorbar\":{\"outlinewidth\":0,\"ticks\":\"\"}}}],\"scattermapbox\":[{\"type\":\"scattermapbox\",\"marker\":{\"colorbar\":{\"outlinewidth\":0,\"ticks\":\"\"}}}],\"scatterternary\":[{\"type\":\"scatterternary\",\"marker\":{\"colorbar\":{\"outlinewidth\":0,\"ticks\":\"\"}}}],\"scattercarpet\":[{\"type\":\"scattercarpet\",\"marker\":{\"colorbar\":{\"outlinewidth\":0,\"ticks\":\"\"}}}],\"carpet\":[{\"aaxis\":{\"endlinecolor\":\"#2a3f5f\",\"gridcolor\":\"white\",\"linecolor\":\"white\",\"minorgridcolor\":\"white\",\"startlinecolor\":\"#2a3f5f\"},\"baxis\":{\"endlinecolor\":\"#2a3f5f\",\"gridcolor\":\"white\",\"linecolor\":\"white\",\"minorgridcolor\":\"white\",\"startlinecolor\":\"#2a3f5f\"},\"type\":\"carpet\"}],\"table\":[{\"cells\":{\"fill\":{\"color\":\"#EBF0F8\"},\"line\":{\"color\":\"white\"}},\"header\":{\"fill\":{\"color\":\"#C8D4E3\"},\"line\":{\"color\":\"white\"}},\"type\":\"table\"}],\"barpolar\":[{\"marker\":{\"line\":{\"color\":\"#E5ECF6\",\"width\":0.5},\"pattern\":{\"fillmode\":\"overlay\",\"size\":10,\"solidity\":0.2}},\"type\":\"barpolar\"}],\"pie\":[{\"automargin\":true,\"type\":\"pie\"}]},\"layout\":{\"autotypenumbers\":\"strict\",\"colorway\":[\"#636efa\",\"#EF553B\",\"#00cc96\",\"#ab63fa\",\"#FFA15A\",\"#19d3f3\",\"#FF6692\",\"#B6E880\",\"#FF97FF\",\"#FECB52\"],\"font\":{\"color\":\"#2a3f5f\"},\"hovermode\":\"closest\",\"hoverlabel\":{\"align\":\"left\"},\"paper_bgcolor\":\"white\",\"plot_bgcolor\":\"#E5ECF6\",\"polar\":{\"bgcolor\":\"#E5ECF6\",\"angularaxis\":{\"gridcolor\":\"white\",\"linecolor\":\"white\",\"ticks\":\"\"},\"radialaxis\":{\"gridcolor\":\"white\",\"linecolor\":\"white\",\"ticks\":\"\"}},\"ternary\":{\"bgcolor\":\"#E5ECF6\",\"aaxis\":{\"gridcolor\":\"white\",\"linecolor\":\"white\",\"ticks\":\"\"},\"baxis\":{\"gridcolor\":\"white\",\"linecolor\":\"white\",\"ticks\":\"\"},\"caxis\":{\"gridcolor\":\"white\",\"linecolor\":\"white\",\"ticks\":\"\"}},\"coloraxis\":{\"colorbar\":{\"outlinewidth\":0,\"ticks\":\"\"}},\"colorscale\":{\"sequential\":[[0.0,\"#0d0887\"],[0.1111111111111111,\"#46039f\"],[0.2222222222222222,\"#7201a8\"],[0.3333333333333333,\"#9c179e\"],[0.4444444444444444,\"#bd3786\"],[0.5555555555555556,\"#d8576b\"],[0.6666666666666666,\"#ed7953\"],[0.7777777777777778,\"#fb9f3a\"],[0.8888888888888888,\"#fdca26\"],[1.0,\"#f0f921\"]],\"sequentialminus\":[[0.0,\"#0d0887\"],[0.1111111111111111,\"#46039f\"],[0.2222222222222222,\"#7201a8\"],[0.3333333333333333,\"#9c179e\"],[0.4444444444444444,\"#bd3786\"],[0.5555555555555556,\"#d8576b\"],[0.6666666666666666,\"#ed7953\"],[0.7777777777777778,\"#fb9f3a\"],[0.8888888888888888,\"#fdca26\"],[1.0,\"#f0f921\"]],\"diverging\":[[0,\"#8e0152\"],[0.1,\"#c51b7d\"],[0.2,\"#de77ae\"],[0.3,\"#f1b6da\"],[0.4,\"#fde0ef\"],[0.5,\"#f7f7f7\"],[0.6,\"#e6f5d0\"],[0.7,\"#b8e186\"],[0.8,\"#7fbc41\"],[0.9,\"#4d9221\"],[1,\"#276419\"]]},\"xaxis\":{\"gridcolor\":\"white\",\"linecolor\":\"white\",\"ticks\":\"\",\"title\":{\"standoff\":15},\"zerolinecolor\":\"white\",\"automargin\":true,\"zerolinewidth\":2},\"yaxis\":{\"gridcolor\":\"white\",\"linecolor\":\"white\",\"ticks\":\"\",\"title\":{\"standoff\":15},\"zerolinecolor\":\"white\",\"automargin\":true,\"zerolinewidth\":2},\"scene\":{\"xaxis\":{\"backgroundcolor\":\"#E5ECF6\",\"gridcolor\":\"white\",\"linecolor\":\"white\",\"showbackground\":true,\"ticks\":\"\",\"zerolinecolor\":\"white\",\"gridwidth\":2},\"yaxis\":{\"backgroundcolor\":\"#E5ECF6\",\"gridcolor\":\"white\",\"linecolor\":\"white\",\"showbackground\":true,\"ticks\":\"\",\"zerolinecolor\":\"white\",\"gridwidth\":2},\"zaxis\":{\"backgroundcolor\":\"#E5ECF6\",\"gridcolor\":\"white\",\"linecolor\":\"white\",\"showbackground\":true,\"ticks\":\"\",\"zerolinecolor\":\"white\",\"gridwidth\":2}},\"shapedefaults\":{\"line\":{\"color\":\"#2a3f5f\"}},\"annotationdefaults\":{\"arrowcolor\":\"#2a3f5f\",\"arrowhead\":0,\"arrowwidth\":1},\"geo\":{\"bgcolor\":\"white\",\"landcolor\":\"#E5ECF6\",\"subunitcolor\":\"white\",\"showland\":true,\"showlakes\":true,\"lakecolor\":\"white\"},\"title\":{\"x\":0.05},\"mapbox\":{\"style\":\"light\"}}},\"xaxis\":{\"title\":{\"text\":\"Months\"},\"tickangle\":-90},\"title\":{\"text\":\"Monthly Profits Across Businesses\"},\"yaxis\":{\"title\":{\"text\":\"Total Profit ($)\"}},\"legend\":{\"title\":{\"text\":\"Businesses\"}}},                        {\"responsive\": true}                    ).then(function(){\n",
       "                            \n",
       "var gd = document.getElementById('77d299d9-76e2-42ca-9b12-b18a5bf98a21');\n",
       "var x = new MutationObserver(function (mutations, observer) {{\n",
       "        var display = window.getComputedStyle(gd).display;\n",
       "        if (!display || display === 'none') {{\n",
       "            console.log([gd, 'removed!']);\n",
       "            Plotly.purge(gd);\n",
       "            observer.disconnect();\n",
       "        }}\n",
       "}});\n",
       "\n",
       "// Listen for the removal of the full notebook cells\n",
       "var notebookContainer = gd.closest('#notebook-container');\n",
       "if (notebookContainer) {{\n",
       "    x.observe(notebookContainer, {childList: true});\n",
       "}}\n",
       "\n",
       "// Listen for the clearing of the current output cell\n",
       "var outputEl = gd.closest('.output');\n",
       "if (outputEl) {{\n",
       "    x.observe(outputEl, {childList: true});\n",
       "}}\n",
       "\n",
       "                        })                };                });            </script>        </div>"
      ]
     },
     "metadata": {},
     "output_type": "display_data"
    }
   ],
   "execution_count": 36
  },
  {
   "cell_type": "markdown",
   "id": "b2e900fe-2d73-4661-8f96-057b37060ff3",
   "metadata": {},
   "source": [
    "### Discussion"
   ]
  },
  {
   "cell_type": "markdown",
   "id": "f66d2f44-5168-46e3-916a-2748ce9d7e45",
   "metadata": {
    "tags": []
   },
   "source": [
    "1. **Ed's Barber Supplies** is doing well year by year, and it is performing especially well during the first five months of the year.\n",
    "![Ed's Barber Supplies](./images/q1_ed_barber_supplies.jpg)\n",
    "2. **Please Bring Pizza Pronto** is performing really well across the year, and it is growing and doubling its profit every two years. However, it does look like its performance at the end of each year is slightly weaker than the rest of the year.\n",
    "![Please Bring Pizza Pronto](./images/q1_please_bring_pizza.jpg)\n",
    "3. **Penguin Swim School** performs worse in the middle of the year, which happens to be winter in Australia.  The business growth is sporadic and its overall trajectory is flat, which is to say, the business is not very stable and the growth is rather weak.\n",
    "![Penguin Swim School](./images/q1_penguin_swim_school.jpg)\n",
    "4. Wake Up with Coffee's business performance is weak with minimum growth compared to Ed's Barber Supplies and Please Bring Pizza Pronto,however, but it doesn't fluctuate as much as Penguin Swim School.  The business goes up and down but the pattern is not very clear and probably requires further investigation. \n",
    "![Wake Up With Coffee](./images/q1_wake_up_coffee.jpg)\n",
    "\n"
   ]
  },
  {
   "cell_type": "markdown",
   "id": "8b535516-ee64-4f93-9a7a-9b62a599aac4",
   "metadata": {},
   "source": [
    "---\n",
    "\n",
    "## Exploration Two\n",
    "### Q2 - Which customers were most loyal for each business?"
   ]
  },
  {
   "cell_type": "markdown",
   "id": "9f4b3f21-2897-4fce-a814-f1409a20698a",
   "metadata": {},
   "source": [
    "### Introduction\n",
    "Let's start by defining what do we mean by loyal customer.  Is loyal customer someone who bring in the most business?  Or is it someone who visit the business regularly or the most number of times."
   ]
  },
  {
   "cell_type": "markdown",
   "id": "1e29c78e-68e9-4c3d-86d9-da97ccc969dc",
   "metadata": {},
   "source": [
    "### Methods"
   ]
  },
  {
   "cell_type": "code",
   "id": "6af41f30-8999-40fa-ba02-2a54da3de852",
   "metadata": {
    "ExecuteTime": {
     "end_time": "2025-07-05T18:12:08.337266Z",
     "start_time": "2025-07-05T18:12:08.331578Z"
    }
   },
   "source": [
    "from typing import Literal\n",
    "import plotly.graph_objects as go\n",
    "from plotly.subplots import make_subplots\n",
    "\n",
    "def show_bar_graph(receipts_df, header=\"Some Title\", value_type: Literal[\"amount_spent\", \"num_purchases\"]=\"amount_spent\",):\n",
    "    company_titles = [\n",
    "        \"Ed's Barber Supplies\",\n",
    "        'Penguin Swim School',\n",
    "        'Wake Up with Coffee',\n",
    "        'Please Bring Pizza Pronto'\n",
    "    ]\n",
    "    colours = [\"#fb5607\", \"#ff006e\", \"#8338ec\", \"#3a86ff\", ]\n",
    "    fig = make_subplots(rows=2, cols=2, shared_yaxes=True, subplot_titles=company_titles,\n",
    "                        vertical_spacing=0.35, row_heights=[0.8, 0.8,])\n",
    "\n",
    "    business_name = company_titles[0]\n",
    "    df = receipts_df[receipts_df['business_name'] == business_name]\n",
    "    fig.add_trace(\n",
    "        go.Bar(x=df.customer_name, y=df.amount_spent if value_type == \"amount_spent\" else df.num_purchases, text=df.amount_spent if value_type == \"amount_spent\" else df.num_purchases, textposition='outside', texttemplate='%{text:.2s}',\n",
    "               name=business_name, marker=dict( color=colours[0])), row=1, col=1\n",
    "    )\n",
    "\n",
    "    business_name = company_titles[1]\n",
    "    df = receipts_df[receipts_df['business_name'] == business_name]\n",
    "    fig.add_trace(\n",
    "        go.Bar(x=df.customer_name, y=df.amount_spent if value_type == \"amount_spent\" else df.num_purchases, text=df.amount_spent if value_type == \"amount_spent\" else df.num_purchases, textposition='outside', texttemplate='%{text:.2s}',\n",
    "               name=business_name, marker=dict( color=colours[1])), row=1, col=2\n",
    "    )\n",
    "\n",
    "    business_name = company_titles[2]\n",
    "    df = receipts_df[receipts_df['business_name'] == business_name]\n",
    "    fig.add_trace(\n",
    "        go.Bar(x=df.customer_name, y=df.amount_spent if value_type == \"amount_spent\" else df.num_purchases, text=df.amount_spent if value_type == \"amount_spent\" else df.num_purchases, textposition='outside', texttemplate='%{text:.2s}',\n",
    "               name=business_name, marker=dict( color=colours[2])), row=2, col=1\n",
    "    )\n",
    "\n",
    "    business_name = company_titles[3]\n",
    "    df = receipts_df[receipts_df['business_name'] == business_name]\n",
    "    fig.add_trace(\n",
    "        go.Bar(x=df.customer_name,\n",
    "               y=df.amount_spent if value_type == \"amount_spent\" else df.num_purchases,\n",
    "               text=df.amount_spent if value_type == \"amount_spent\" else df.num_purchases, textposition='outside', texttemplate='%{text:.2s}',\n",
    "               name=business_name,\n",
    "               marker=dict(color=colours[3]),\n",
    "               ),\n",
    "               row=2, col=2\n",
    "    )\n",
    "    fig.update_layout(title_text=header, height=600, showlegend=False)\n",
    "    fig.show()\n"
   ],
   "outputs": [],
   "execution_count": 51
  },
  {
   "metadata": {},
   "cell_type": "markdown",
   "source": "### Top 10 Customers by Amount Spent",
   "id": "251ac52a3684e125"
  },
  {
   "metadata": {
    "ExecuteTime": {
     "end_time": "2025-07-05T18:12:10.466941Z",
     "start_time": "2025-07-05T18:12:10.455842Z"
    }
   },
   "cell_type": "code",
   "source": [
    "with duckdb.connect(DUCKDB_FILE) as conn:\n",
    "    top_ten_by_amount_spent_df = conn.sql(\"SELECT * FROM receipts.main.top_ten_customers_by_business_value\").df()\n",
    "\n",
    "top_ten_by_amount_spent_df"
   ],
   "id": "ff4bb6eb9df257d5",
   "outputs": [
    {
     "data": {
      "text/plain": [
       "                business_name customer_name  amount_spent  num_purchases  \\\n",
       "0        Ed's Barber Supplies          Lisa      12963.98            105   \n",
       "1        Ed's Barber Supplies         Scott      10086.00             66   \n",
       "2        Ed's Barber Supplies          Anna       8934.23             54   \n",
       "3        Ed's Barber Supplies       Rebecca       8077.76             56   \n",
       "4        Ed's Barber Supplies         Linda       7814.79             49   \n",
       "5        Ed's Barber Supplies       William       7169.82             49   \n",
       "6        Ed's Barber Supplies        Darren       7107.54             50   \n",
       "7        Ed's Barber Supplies        Manuel       6933.37             53   \n",
       "8        Ed's Barber Supplies         Carol       6932.46             54   \n",
       "9        Ed's Barber Supplies        Mariah       6790.01             55   \n",
       "10        Penguin Swim School         Scott       7570.42             96   \n",
       "11        Penguin Swim School       William       7320.33             95   \n",
       "12        Penguin Swim School      Samantha       5283.60             54   \n",
       "13        Penguin Swim School         Derek       4682.62             57   \n",
       "14        Penguin Swim School        Steven       4476.71             51   \n",
       "15        Penguin Swim School       Natalie       4451.15             50   \n",
       "16        Penguin Swim School     Johnathan       4356.51             55   \n",
       "17        Penguin Swim School         Tammy       4245.23             51   \n",
       "18        Penguin Swim School       Heather       4062.99             44   \n",
       "19        Penguin Swim School        Meghan       4061.18             47   \n",
       "20  Please Bring Pizza Pronto      Jonathan      10686.19            191   \n",
       "21  Please Bring Pizza Pronto          Mary      10424.80            188   \n",
       "22  Please Bring Pizza Pronto         Scott      10324.21            189   \n",
       "23  Please Bring Pizza Pronto        Robert      10169.32            187   \n",
       "24  Please Bring Pizza Pronto          Gary       9717.11            172   \n",
       "25  Please Bring Pizza Pronto         Danny       9476.08            166   \n",
       "26  Please Bring Pizza Pronto          Luke       9427.74            175   \n",
       "27  Please Bring Pizza Pronto        Jeremy       9416.61            170   \n",
       "28  Please Bring Pizza Pronto        Andrew       9128.57            159   \n",
       "29  Please Bring Pizza Pronto         Aaron       8789.30            169   \n",
       "30        Wake Up with Coffee         Scott       7098.17            192   \n",
       "31        Wake Up with Coffee       Ricardo       4609.17            114   \n",
       "32        Wake Up with Coffee        Robert       4596.26            120   \n",
       "33        Wake Up with Coffee       Melissa       4336.75            112   \n",
       "34        Wake Up with Coffee       Gregory       4236.98            113   \n",
       "35        Wake Up with Coffee         Paula       4122.33            113   \n",
       "36        Wake Up with Coffee        Justin       4064.74            111   \n",
       "37        Wake Up with Coffee        Marvin       4045.93            104   \n",
       "38        Wake Up with Coffee         Isaac       3950.81            111   \n",
       "39        Wake Up with Coffee         Robin       3910.20            100   \n",
       "\n",
       "    ranking  \n",
       "0         1  \n",
       "1         2  \n",
       "2         3  \n",
       "3         4  \n",
       "4         5  \n",
       "5         6  \n",
       "6         7  \n",
       "7         8  \n",
       "8         9  \n",
       "9        10  \n",
       "10        1  \n",
       "11        2  \n",
       "12        3  \n",
       "13        4  \n",
       "14        5  \n",
       "15        6  \n",
       "16        7  \n",
       "17        8  \n",
       "18        9  \n",
       "19       10  \n",
       "20        1  \n",
       "21        2  \n",
       "22        3  \n",
       "23        4  \n",
       "24        5  \n",
       "25        6  \n",
       "26        7  \n",
       "27        8  \n",
       "28        9  \n",
       "29       10  \n",
       "30        1  \n",
       "31        2  \n",
       "32        3  \n",
       "33        4  \n",
       "34        5  \n",
       "35        6  \n",
       "36        7  \n",
       "37        8  \n",
       "38        9  \n",
       "39       10  "
      ],
      "text/html": [
       "<div>\n",
       "<style scoped>\n",
       "    .dataframe tbody tr th:only-of-type {\n",
       "        vertical-align: middle;\n",
       "    }\n",
       "\n",
       "    .dataframe tbody tr th {\n",
       "        vertical-align: top;\n",
       "    }\n",
       "\n",
       "    .dataframe thead th {\n",
       "        text-align: right;\n",
       "    }\n",
       "</style>\n",
       "<table border=\"1\" class=\"dataframe\">\n",
       "  <thead>\n",
       "    <tr style=\"text-align: right;\">\n",
       "      <th></th>\n",
       "      <th>business_name</th>\n",
       "      <th>customer_name</th>\n",
       "      <th>amount_spent</th>\n",
       "      <th>num_purchases</th>\n",
       "      <th>ranking</th>\n",
       "    </tr>\n",
       "  </thead>\n",
       "  <tbody>\n",
       "    <tr>\n",
       "      <th>0</th>\n",
       "      <td>Ed's Barber Supplies</td>\n",
       "      <td>Lisa</td>\n",
       "      <td>12963.98</td>\n",
       "      <td>105</td>\n",
       "      <td>1</td>\n",
       "    </tr>\n",
       "    <tr>\n",
       "      <th>1</th>\n",
       "      <td>Ed's Barber Supplies</td>\n",
       "      <td>Scott</td>\n",
       "      <td>10086.00</td>\n",
       "      <td>66</td>\n",
       "      <td>2</td>\n",
       "    </tr>\n",
       "    <tr>\n",
       "      <th>2</th>\n",
       "      <td>Ed's Barber Supplies</td>\n",
       "      <td>Anna</td>\n",
       "      <td>8934.23</td>\n",
       "      <td>54</td>\n",
       "      <td>3</td>\n",
       "    </tr>\n",
       "    <tr>\n",
       "      <th>3</th>\n",
       "      <td>Ed's Barber Supplies</td>\n",
       "      <td>Rebecca</td>\n",
       "      <td>8077.76</td>\n",
       "      <td>56</td>\n",
       "      <td>4</td>\n",
       "    </tr>\n",
       "    <tr>\n",
       "      <th>4</th>\n",
       "      <td>Ed's Barber Supplies</td>\n",
       "      <td>Linda</td>\n",
       "      <td>7814.79</td>\n",
       "      <td>49</td>\n",
       "      <td>5</td>\n",
       "    </tr>\n",
       "    <tr>\n",
       "      <th>5</th>\n",
       "      <td>Ed's Barber Supplies</td>\n",
       "      <td>William</td>\n",
       "      <td>7169.82</td>\n",
       "      <td>49</td>\n",
       "      <td>6</td>\n",
       "    </tr>\n",
       "    <tr>\n",
       "      <th>6</th>\n",
       "      <td>Ed's Barber Supplies</td>\n",
       "      <td>Darren</td>\n",
       "      <td>7107.54</td>\n",
       "      <td>50</td>\n",
       "      <td>7</td>\n",
       "    </tr>\n",
       "    <tr>\n",
       "      <th>7</th>\n",
       "      <td>Ed's Barber Supplies</td>\n",
       "      <td>Manuel</td>\n",
       "      <td>6933.37</td>\n",
       "      <td>53</td>\n",
       "      <td>8</td>\n",
       "    </tr>\n",
       "    <tr>\n",
       "      <th>8</th>\n",
       "      <td>Ed's Barber Supplies</td>\n",
       "      <td>Carol</td>\n",
       "      <td>6932.46</td>\n",
       "      <td>54</td>\n",
       "      <td>9</td>\n",
       "    </tr>\n",
       "    <tr>\n",
       "      <th>9</th>\n",
       "      <td>Ed's Barber Supplies</td>\n",
       "      <td>Mariah</td>\n",
       "      <td>6790.01</td>\n",
       "      <td>55</td>\n",
       "      <td>10</td>\n",
       "    </tr>\n",
       "    <tr>\n",
       "      <th>10</th>\n",
       "      <td>Penguin Swim School</td>\n",
       "      <td>Scott</td>\n",
       "      <td>7570.42</td>\n",
       "      <td>96</td>\n",
       "      <td>1</td>\n",
       "    </tr>\n",
       "    <tr>\n",
       "      <th>11</th>\n",
       "      <td>Penguin Swim School</td>\n",
       "      <td>William</td>\n",
       "      <td>7320.33</td>\n",
       "      <td>95</td>\n",
       "      <td>2</td>\n",
       "    </tr>\n",
       "    <tr>\n",
       "      <th>12</th>\n",
       "      <td>Penguin Swim School</td>\n",
       "      <td>Samantha</td>\n",
       "      <td>5283.60</td>\n",
       "      <td>54</td>\n",
       "      <td>3</td>\n",
       "    </tr>\n",
       "    <tr>\n",
       "      <th>13</th>\n",
       "      <td>Penguin Swim School</td>\n",
       "      <td>Derek</td>\n",
       "      <td>4682.62</td>\n",
       "      <td>57</td>\n",
       "      <td>4</td>\n",
       "    </tr>\n",
       "    <tr>\n",
       "      <th>14</th>\n",
       "      <td>Penguin Swim School</td>\n",
       "      <td>Steven</td>\n",
       "      <td>4476.71</td>\n",
       "      <td>51</td>\n",
       "      <td>5</td>\n",
       "    </tr>\n",
       "    <tr>\n",
       "      <th>15</th>\n",
       "      <td>Penguin Swim School</td>\n",
       "      <td>Natalie</td>\n",
       "      <td>4451.15</td>\n",
       "      <td>50</td>\n",
       "      <td>6</td>\n",
       "    </tr>\n",
       "    <tr>\n",
       "      <th>16</th>\n",
       "      <td>Penguin Swim School</td>\n",
       "      <td>Johnathan</td>\n",
       "      <td>4356.51</td>\n",
       "      <td>55</td>\n",
       "      <td>7</td>\n",
       "    </tr>\n",
       "    <tr>\n",
       "      <th>17</th>\n",
       "      <td>Penguin Swim School</td>\n",
       "      <td>Tammy</td>\n",
       "      <td>4245.23</td>\n",
       "      <td>51</td>\n",
       "      <td>8</td>\n",
       "    </tr>\n",
       "    <tr>\n",
       "      <th>18</th>\n",
       "      <td>Penguin Swim School</td>\n",
       "      <td>Heather</td>\n",
       "      <td>4062.99</td>\n",
       "      <td>44</td>\n",
       "      <td>9</td>\n",
       "    </tr>\n",
       "    <tr>\n",
       "      <th>19</th>\n",
       "      <td>Penguin Swim School</td>\n",
       "      <td>Meghan</td>\n",
       "      <td>4061.18</td>\n",
       "      <td>47</td>\n",
       "      <td>10</td>\n",
       "    </tr>\n",
       "    <tr>\n",
       "      <th>20</th>\n",
       "      <td>Please Bring Pizza Pronto</td>\n",
       "      <td>Jonathan</td>\n",
       "      <td>10686.19</td>\n",
       "      <td>191</td>\n",
       "      <td>1</td>\n",
       "    </tr>\n",
       "    <tr>\n",
       "      <th>21</th>\n",
       "      <td>Please Bring Pizza Pronto</td>\n",
       "      <td>Mary</td>\n",
       "      <td>10424.80</td>\n",
       "      <td>188</td>\n",
       "      <td>2</td>\n",
       "    </tr>\n",
       "    <tr>\n",
       "      <th>22</th>\n",
       "      <td>Please Bring Pizza Pronto</td>\n",
       "      <td>Scott</td>\n",
       "      <td>10324.21</td>\n",
       "      <td>189</td>\n",
       "      <td>3</td>\n",
       "    </tr>\n",
       "    <tr>\n",
       "      <th>23</th>\n",
       "      <td>Please Bring Pizza Pronto</td>\n",
       "      <td>Robert</td>\n",
       "      <td>10169.32</td>\n",
       "      <td>187</td>\n",
       "      <td>4</td>\n",
       "    </tr>\n",
       "    <tr>\n",
       "      <th>24</th>\n",
       "      <td>Please Bring Pizza Pronto</td>\n",
       "      <td>Gary</td>\n",
       "      <td>9717.11</td>\n",
       "      <td>172</td>\n",
       "      <td>5</td>\n",
       "    </tr>\n",
       "    <tr>\n",
       "      <th>25</th>\n",
       "      <td>Please Bring Pizza Pronto</td>\n",
       "      <td>Danny</td>\n",
       "      <td>9476.08</td>\n",
       "      <td>166</td>\n",
       "      <td>6</td>\n",
       "    </tr>\n",
       "    <tr>\n",
       "      <th>26</th>\n",
       "      <td>Please Bring Pizza Pronto</td>\n",
       "      <td>Luke</td>\n",
       "      <td>9427.74</td>\n",
       "      <td>175</td>\n",
       "      <td>7</td>\n",
       "    </tr>\n",
       "    <tr>\n",
       "      <th>27</th>\n",
       "      <td>Please Bring Pizza Pronto</td>\n",
       "      <td>Jeremy</td>\n",
       "      <td>9416.61</td>\n",
       "      <td>170</td>\n",
       "      <td>8</td>\n",
       "    </tr>\n",
       "    <tr>\n",
       "      <th>28</th>\n",
       "      <td>Please Bring Pizza Pronto</td>\n",
       "      <td>Andrew</td>\n",
       "      <td>9128.57</td>\n",
       "      <td>159</td>\n",
       "      <td>9</td>\n",
       "    </tr>\n",
       "    <tr>\n",
       "      <th>29</th>\n",
       "      <td>Please Bring Pizza Pronto</td>\n",
       "      <td>Aaron</td>\n",
       "      <td>8789.30</td>\n",
       "      <td>169</td>\n",
       "      <td>10</td>\n",
       "    </tr>\n",
       "    <tr>\n",
       "      <th>30</th>\n",
       "      <td>Wake Up with Coffee</td>\n",
       "      <td>Scott</td>\n",
       "      <td>7098.17</td>\n",
       "      <td>192</td>\n",
       "      <td>1</td>\n",
       "    </tr>\n",
       "    <tr>\n",
       "      <th>31</th>\n",
       "      <td>Wake Up with Coffee</td>\n",
       "      <td>Ricardo</td>\n",
       "      <td>4609.17</td>\n",
       "      <td>114</td>\n",
       "      <td>2</td>\n",
       "    </tr>\n",
       "    <tr>\n",
       "      <th>32</th>\n",
       "      <td>Wake Up with Coffee</td>\n",
       "      <td>Robert</td>\n",
       "      <td>4596.26</td>\n",
       "      <td>120</td>\n",
       "      <td>3</td>\n",
       "    </tr>\n",
       "    <tr>\n",
       "      <th>33</th>\n",
       "      <td>Wake Up with Coffee</td>\n",
       "      <td>Melissa</td>\n",
       "      <td>4336.75</td>\n",
       "      <td>112</td>\n",
       "      <td>4</td>\n",
       "    </tr>\n",
       "    <tr>\n",
       "      <th>34</th>\n",
       "      <td>Wake Up with Coffee</td>\n",
       "      <td>Gregory</td>\n",
       "      <td>4236.98</td>\n",
       "      <td>113</td>\n",
       "      <td>5</td>\n",
       "    </tr>\n",
       "    <tr>\n",
       "      <th>35</th>\n",
       "      <td>Wake Up with Coffee</td>\n",
       "      <td>Paula</td>\n",
       "      <td>4122.33</td>\n",
       "      <td>113</td>\n",
       "      <td>6</td>\n",
       "    </tr>\n",
       "    <tr>\n",
       "      <th>36</th>\n",
       "      <td>Wake Up with Coffee</td>\n",
       "      <td>Justin</td>\n",
       "      <td>4064.74</td>\n",
       "      <td>111</td>\n",
       "      <td>7</td>\n",
       "    </tr>\n",
       "    <tr>\n",
       "      <th>37</th>\n",
       "      <td>Wake Up with Coffee</td>\n",
       "      <td>Marvin</td>\n",
       "      <td>4045.93</td>\n",
       "      <td>104</td>\n",
       "      <td>8</td>\n",
       "    </tr>\n",
       "    <tr>\n",
       "      <th>38</th>\n",
       "      <td>Wake Up with Coffee</td>\n",
       "      <td>Isaac</td>\n",
       "      <td>3950.81</td>\n",
       "      <td>111</td>\n",
       "      <td>9</td>\n",
       "    </tr>\n",
       "    <tr>\n",
       "      <th>39</th>\n",
       "      <td>Wake Up with Coffee</td>\n",
       "      <td>Robin</td>\n",
       "      <td>3910.20</td>\n",
       "      <td>100</td>\n",
       "      <td>10</td>\n",
       "    </tr>\n",
       "  </tbody>\n",
       "</table>\n",
       "</div>"
      ]
     },
     "execution_count": 52,
     "metadata": {},
     "output_type": "execute_result"
    }
   ],
   "execution_count": 52
  },
  {
   "metadata": {
    "ExecuteTime": {
     "end_time": "2025-07-05T18:12:12.424877Z",
     "start_time": "2025-07-05T18:12:12.403696Z"
    }
   },
   "cell_type": "code",
   "source": "show_bar_graph(top_ten_by_amount_spent_df, header=\"Top Ten Customers by the Amount Spent\")",
   "id": "a3da28091b44721c",
   "outputs": [
    {
     "data": {
      "application/vnd.plotly.v1+json": {
       "data": [
        {
         "marker": {
          "color": "#fb5607"
         },
         "name": "Ed's Barber Supplies",
         "text": [
          12963.98,
          10086.0,
          8934.23,
          8077.76,
          7814.79,
          7169.82,
          7107.54,
          6933.37,
          6932.46,
          6790.01
         ],
         "textposition": "outside",
         "texttemplate": "%{text:.2s}",
         "x": [
          "Lisa",
          "Scott",
          "Anna",
          "Rebecca",
          "Linda",
          "William",
          "Darren",
          "Manuel",
          "Carol",
          "Mariah"
         ],
         "y": [
          12963.98,
          10086.0,
          8934.23,
          8077.76,
          7814.79,
          7169.82,
          7107.54,
          6933.37,
          6932.46,
          6790.01
         ],
         "type": "bar",
         "xaxis": "x",
         "yaxis": "y"
        },
        {
         "marker": {
          "color": "#ff006e"
         },
         "name": "Penguin Swim School",
         "text": [
          7570.42,
          7320.33,
          5283.6,
          4682.62,
          4476.71,
          4451.15,
          4356.51,
          4245.23,
          4062.99,
          4061.18
         ],
         "textposition": "outside",
         "texttemplate": "%{text:.2s}",
         "x": [
          "Scott",
          "William",
          "Samantha",
          "Derek",
          "Steven",
          "Natalie",
          "Johnathan",
          "Tammy",
          "Heather",
          "Meghan"
         ],
         "y": [
          7570.42,
          7320.33,
          5283.6,
          4682.62,
          4476.71,
          4451.15,
          4356.51,
          4245.23,
          4062.99,
          4061.18
         ],
         "type": "bar",
         "xaxis": "x2",
         "yaxis": "y2"
        },
        {
         "marker": {
          "color": "#8338ec"
         },
         "name": "Wake Up with Coffee",
         "text": [
          7098.17,
          4609.17,
          4596.26,
          4336.75,
          4236.98,
          4122.33,
          4064.74,
          4045.93,
          3950.81,
          3910.2
         ],
         "textposition": "outside",
         "texttemplate": "%{text:.2s}",
         "x": [
          "Scott",
          "Ricardo",
          "Robert",
          "Melissa",
          "Gregory",
          "Paula",
          "Justin",
          "Marvin",
          "Isaac",
          "Robin"
         ],
         "y": [
          7098.17,
          4609.17,
          4596.26,
          4336.75,
          4236.98,
          4122.33,
          4064.74,
          4045.93,
          3950.81,
          3910.2
         ],
         "type": "bar",
         "xaxis": "x3",
         "yaxis": "y3"
        },
        {
         "marker": {
          "color": "#3a86ff"
         },
         "name": "Please Bring Pizza Pronto",
         "text": [
          10686.19,
          10424.8,
          10324.21,
          10169.32,
          9717.11,
          9476.08,
          9427.74,
          9416.61,
          9128.57,
          8789.3
         ],
         "textposition": "outside",
         "texttemplate": "%{text:.2s}",
         "x": [
          "Jonathan",
          "Mary",
          "Scott",
          "Robert",
          "Gary",
          "Danny",
          "Luke",
          "Jeremy",
          "Andrew",
          "Aaron"
         ],
         "y": [
          10686.19,
          10424.8,
          10324.21,
          10169.32,
          9717.11,
          9476.08,
          9427.74,
          9416.61,
          9128.57,
          8789.3
         ],
         "type": "bar",
         "xaxis": "x4",
         "yaxis": "y4"
        }
       ],
       "layout": {
        "template": {
         "data": {
          "histogram2dcontour": [
           {
            "type": "histogram2dcontour",
            "colorbar": {
             "outlinewidth": 0,
             "ticks": ""
            },
            "colorscale": [
             [
              0.0,
              "#0d0887"
             ],
             [
              0.1111111111111111,
              "#46039f"
             ],
             [
              0.2222222222222222,
              "#7201a8"
             ],
             [
              0.3333333333333333,
              "#9c179e"
             ],
             [
              0.4444444444444444,
              "#bd3786"
             ],
             [
              0.5555555555555556,
              "#d8576b"
             ],
             [
              0.6666666666666666,
              "#ed7953"
             ],
             [
              0.7777777777777778,
              "#fb9f3a"
             ],
             [
              0.8888888888888888,
              "#fdca26"
             ],
             [
              1.0,
              "#f0f921"
             ]
            ]
           }
          ],
          "choropleth": [
           {
            "type": "choropleth",
            "colorbar": {
             "outlinewidth": 0,
             "ticks": ""
            }
           }
          ],
          "histogram2d": [
           {
            "type": "histogram2d",
            "colorbar": {
             "outlinewidth": 0,
             "ticks": ""
            },
            "colorscale": [
             [
              0.0,
              "#0d0887"
             ],
             [
              0.1111111111111111,
              "#46039f"
             ],
             [
              0.2222222222222222,
              "#7201a8"
             ],
             [
              0.3333333333333333,
              "#9c179e"
             ],
             [
              0.4444444444444444,
              "#bd3786"
             ],
             [
              0.5555555555555556,
              "#d8576b"
             ],
             [
              0.6666666666666666,
              "#ed7953"
             ],
             [
              0.7777777777777778,
              "#fb9f3a"
             ],
             [
              0.8888888888888888,
              "#fdca26"
             ],
             [
              1.0,
              "#f0f921"
             ]
            ]
           }
          ],
          "heatmap": [
           {
            "type": "heatmap",
            "colorbar": {
             "outlinewidth": 0,
             "ticks": ""
            },
            "colorscale": [
             [
              0.0,
              "#0d0887"
             ],
             [
              0.1111111111111111,
              "#46039f"
             ],
             [
              0.2222222222222222,
              "#7201a8"
             ],
             [
              0.3333333333333333,
              "#9c179e"
             ],
             [
              0.4444444444444444,
              "#bd3786"
             ],
             [
              0.5555555555555556,
              "#d8576b"
             ],
             [
              0.6666666666666666,
              "#ed7953"
             ],
             [
              0.7777777777777778,
              "#fb9f3a"
             ],
             [
              0.8888888888888888,
              "#fdca26"
             ],
             [
              1.0,
              "#f0f921"
             ]
            ]
           }
          ],
          "heatmapgl": [
           {
            "type": "heatmapgl",
            "colorbar": {
             "outlinewidth": 0,
             "ticks": ""
            },
            "colorscale": [
             [
              0.0,
              "#0d0887"
             ],
             [
              0.1111111111111111,
              "#46039f"
             ],
             [
              0.2222222222222222,
              "#7201a8"
             ],
             [
              0.3333333333333333,
              "#9c179e"
             ],
             [
              0.4444444444444444,
              "#bd3786"
             ],
             [
              0.5555555555555556,
              "#d8576b"
             ],
             [
              0.6666666666666666,
              "#ed7953"
             ],
             [
              0.7777777777777778,
              "#fb9f3a"
             ],
             [
              0.8888888888888888,
              "#fdca26"
             ],
             [
              1.0,
              "#f0f921"
             ]
            ]
           }
          ],
          "contourcarpet": [
           {
            "type": "contourcarpet",
            "colorbar": {
             "outlinewidth": 0,
             "ticks": ""
            }
           }
          ],
          "contour": [
           {
            "type": "contour",
            "colorbar": {
             "outlinewidth": 0,
             "ticks": ""
            },
            "colorscale": [
             [
              0.0,
              "#0d0887"
             ],
             [
              0.1111111111111111,
              "#46039f"
             ],
             [
              0.2222222222222222,
              "#7201a8"
             ],
             [
              0.3333333333333333,
              "#9c179e"
             ],
             [
              0.4444444444444444,
              "#bd3786"
             ],
             [
              0.5555555555555556,
              "#d8576b"
             ],
             [
              0.6666666666666666,
              "#ed7953"
             ],
             [
              0.7777777777777778,
              "#fb9f3a"
             ],
             [
              0.8888888888888888,
              "#fdca26"
             ],
             [
              1.0,
              "#f0f921"
             ]
            ]
           }
          ],
          "surface": [
           {
            "type": "surface",
            "colorbar": {
             "outlinewidth": 0,
             "ticks": ""
            },
            "colorscale": [
             [
              0.0,
              "#0d0887"
             ],
             [
              0.1111111111111111,
              "#46039f"
             ],
             [
              0.2222222222222222,
              "#7201a8"
             ],
             [
              0.3333333333333333,
              "#9c179e"
             ],
             [
              0.4444444444444444,
              "#bd3786"
             ],
             [
              0.5555555555555556,
              "#d8576b"
             ],
             [
              0.6666666666666666,
              "#ed7953"
             ],
             [
              0.7777777777777778,
              "#fb9f3a"
             ],
             [
              0.8888888888888888,
              "#fdca26"
             ],
             [
              1.0,
              "#f0f921"
             ]
            ]
           }
          ],
          "mesh3d": [
           {
            "type": "mesh3d",
            "colorbar": {
             "outlinewidth": 0,
             "ticks": ""
            }
           }
          ],
          "scatter": [
           {
            "fillpattern": {
             "fillmode": "overlay",
             "size": 10,
             "solidity": 0.2
            },
            "type": "scatter"
           }
          ],
          "parcoords": [
           {
            "type": "parcoords",
            "line": {
             "colorbar": {
              "outlinewidth": 0,
              "ticks": ""
             }
            }
           }
          ],
          "scatterpolargl": [
           {
            "type": "scatterpolargl",
            "marker": {
             "colorbar": {
              "outlinewidth": 0,
              "ticks": ""
             }
            }
           }
          ],
          "bar": [
           {
            "error_x": {
             "color": "#2a3f5f"
            },
            "error_y": {
             "color": "#2a3f5f"
            },
            "marker": {
             "line": {
              "color": "#E5ECF6",
              "width": 0.5
             },
             "pattern": {
              "fillmode": "overlay",
              "size": 10,
              "solidity": 0.2
             }
            },
            "type": "bar"
           }
          ],
          "scattergeo": [
           {
            "type": "scattergeo",
            "marker": {
             "colorbar": {
              "outlinewidth": 0,
              "ticks": ""
             }
            }
           }
          ],
          "scatterpolar": [
           {
            "type": "scatterpolar",
            "marker": {
             "colorbar": {
              "outlinewidth": 0,
              "ticks": ""
             }
            }
           }
          ],
          "histogram": [
           {
            "marker": {
             "pattern": {
              "fillmode": "overlay",
              "size": 10,
              "solidity": 0.2
             }
            },
            "type": "histogram"
           }
          ],
          "scattergl": [
           {
            "type": "scattergl",
            "marker": {
             "colorbar": {
              "outlinewidth": 0,
              "ticks": ""
             }
            }
           }
          ],
          "scatter3d": [
           {
            "type": "scatter3d",
            "line": {
             "colorbar": {
              "outlinewidth": 0,
              "ticks": ""
             }
            },
            "marker": {
             "colorbar": {
              "outlinewidth": 0,
              "ticks": ""
             }
            }
           }
          ],
          "scattermapbox": [
           {
            "type": "scattermapbox",
            "marker": {
             "colorbar": {
              "outlinewidth": 0,
              "ticks": ""
             }
            }
           }
          ],
          "scatterternary": [
           {
            "type": "scatterternary",
            "marker": {
             "colorbar": {
              "outlinewidth": 0,
              "ticks": ""
             }
            }
           }
          ],
          "scattercarpet": [
           {
            "type": "scattercarpet",
            "marker": {
             "colorbar": {
              "outlinewidth": 0,
              "ticks": ""
             }
            }
           }
          ],
          "carpet": [
           {
            "aaxis": {
             "endlinecolor": "#2a3f5f",
             "gridcolor": "white",
             "linecolor": "white",
             "minorgridcolor": "white",
             "startlinecolor": "#2a3f5f"
            },
            "baxis": {
             "endlinecolor": "#2a3f5f",
             "gridcolor": "white",
             "linecolor": "white",
             "minorgridcolor": "white",
             "startlinecolor": "#2a3f5f"
            },
            "type": "carpet"
           }
          ],
          "table": [
           {
            "cells": {
             "fill": {
              "color": "#EBF0F8"
             },
             "line": {
              "color": "white"
             }
            },
            "header": {
             "fill": {
              "color": "#C8D4E3"
             },
             "line": {
              "color": "white"
             }
            },
            "type": "table"
           }
          ],
          "barpolar": [
           {
            "marker": {
             "line": {
              "color": "#E5ECF6",
              "width": 0.5
             },
             "pattern": {
              "fillmode": "overlay",
              "size": 10,
              "solidity": 0.2
             }
            },
            "type": "barpolar"
           }
          ],
          "pie": [
           {
            "automargin": true,
            "type": "pie"
           }
          ]
         },
         "layout": {
          "autotypenumbers": "strict",
          "colorway": [
           "#636efa",
           "#EF553B",
           "#00cc96",
           "#ab63fa",
           "#FFA15A",
           "#19d3f3",
           "#FF6692",
           "#B6E880",
           "#FF97FF",
           "#FECB52"
          ],
          "font": {
           "color": "#2a3f5f"
          },
          "hovermode": "closest",
          "hoverlabel": {
           "align": "left"
          },
          "paper_bgcolor": "white",
          "plot_bgcolor": "#E5ECF6",
          "polar": {
           "bgcolor": "#E5ECF6",
           "angularaxis": {
            "gridcolor": "white",
            "linecolor": "white",
            "ticks": ""
           },
           "radialaxis": {
            "gridcolor": "white",
            "linecolor": "white",
            "ticks": ""
           }
          },
          "ternary": {
           "bgcolor": "#E5ECF6",
           "aaxis": {
            "gridcolor": "white",
            "linecolor": "white",
            "ticks": ""
           },
           "baxis": {
            "gridcolor": "white",
            "linecolor": "white",
            "ticks": ""
           },
           "caxis": {
            "gridcolor": "white",
            "linecolor": "white",
            "ticks": ""
           }
          },
          "coloraxis": {
           "colorbar": {
            "outlinewidth": 0,
            "ticks": ""
           }
          },
          "colorscale": {
           "sequential": [
            [
             0.0,
             "#0d0887"
            ],
            [
             0.1111111111111111,
             "#46039f"
            ],
            [
             0.2222222222222222,
             "#7201a8"
            ],
            [
             0.3333333333333333,
             "#9c179e"
            ],
            [
             0.4444444444444444,
             "#bd3786"
            ],
            [
             0.5555555555555556,
             "#d8576b"
            ],
            [
             0.6666666666666666,
             "#ed7953"
            ],
            [
             0.7777777777777778,
             "#fb9f3a"
            ],
            [
             0.8888888888888888,
             "#fdca26"
            ],
            [
             1.0,
             "#f0f921"
            ]
           ],
           "sequentialminus": [
            [
             0.0,
             "#0d0887"
            ],
            [
             0.1111111111111111,
             "#46039f"
            ],
            [
             0.2222222222222222,
             "#7201a8"
            ],
            [
             0.3333333333333333,
             "#9c179e"
            ],
            [
             0.4444444444444444,
             "#bd3786"
            ],
            [
             0.5555555555555556,
             "#d8576b"
            ],
            [
             0.6666666666666666,
             "#ed7953"
            ],
            [
             0.7777777777777778,
             "#fb9f3a"
            ],
            [
             0.8888888888888888,
             "#fdca26"
            ],
            [
             1.0,
             "#f0f921"
            ]
           ],
           "diverging": [
            [
             0,
             "#8e0152"
            ],
            [
             0.1,
             "#c51b7d"
            ],
            [
             0.2,
             "#de77ae"
            ],
            [
             0.3,
             "#f1b6da"
            ],
            [
             0.4,
             "#fde0ef"
            ],
            [
             0.5,
             "#f7f7f7"
            ],
            [
             0.6,
             "#e6f5d0"
            ],
            [
             0.7,
             "#b8e186"
            ],
            [
             0.8,
             "#7fbc41"
            ],
            [
             0.9,
             "#4d9221"
            ],
            [
             1,
             "#276419"
            ]
           ]
          },
          "xaxis": {
           "gridcolor": "white",
           "linecolor": "white",
           "ticks": "",
           "title": {
            "standoff": 15
           },
           "zerolinecolor": "white",
           "automargin": true,
           "zerolinewidth": 2
          },
          "yaxis": {
           "gridcolor": "white",
           "linecolor": "white",
           "ticks": "",
           "title": {
            "standoff": 15
           },
           "zerolinecolor": "white",
           "automargin": true,
           "zerolinewidth": 2
          },
          "scene": {
           "xaxis": {
            "backgroundcolor": "#E5ECF6",
            "gridcolor": "white",
            "linecolor": "white",
            "showbackground": true,
            "ticks": "",
            "zerolinecolor": "white",
            "gridwidth": 2
           },
           "yaxis": {
            "backgroundcolor": "#E5ECF6",
            "gridcolor": "white",
            "linecolor": "white",
            "showbackground": true,
            "ticks": "",
            "zerolinecolor": "white",
            "gridwidth": 2
           },
           "zaxis": {
            "backgroundcolor": "#E5ECF6",
            "gridcolor": "white",
            "linecolor": "white",
            "showbackground": true,
            "ticks": "",
            "zerolinecolor": "white",
            "gridwidth": 2
           }
          },
          "shapedefaults": {
           "line": {
            "color": "#2a3f5f"
           }
          },
          "annotationdefaults": {
           "arrowcolor": "#2a3f5f",
           "arrowhead": 0,
           "arrowwidth": 1
          },
          "geo": {
           "bgcolor": "white",
           "landcolor": "#E5ECF6",
           "subunitcolor": "white",
           "showland": true,
           "showlakes": true,
           "lakecolor": "white"
          },
          "title": {
           "x": 0.05
          },
          "mapbox": {
           "style": "light"
          }
         }
        },
        "xaxis": {
         "anchor": "y",
         "domain": [
          0.0,
          0.45
         ]
        },
        "yaxis": {
         "anchor": "x",
         "domain": [
          0.675,
          1.0
         ]
        },
        "xaxis2": {
         "anchor": "y2",
         "domain": [
          0.55,
          1.0
         ]
        },
        "yaxis2": {
         "anchor": "x2",
         "domain": [
          0.675,
          1.0
         ],
         "matches": "y",
         "showticklabels": false
        },
        "xaxis3": {
         "anchor": "y3",
         "domain": [
          0.0,
          0.45
         ]
        },
        "yaxis3": {
         "anchor": "x3",
         "domain": [
          0.0,
          0.325
         ]
        },
        "xaxis4": {
         "anchor": "y4",
         "domain": [
          0.55,
          1.0
         ]
        },
        "yaxis4": {
         "anchor": "x4",
         "domain": [
          0.0,
          0.325
         ],
         "matches": "y3",
         "showticklabels": false
        },
        "annotations": [
         {
          "font": {
           "size": 16
          },
          "showarrow": false,
          "text": "Ed's Barber Supplies",
          "x": 0.225,
          "xanchor": "center",
          "xref": "paper",
          "y": 1.0,
          "yanchor": "bottom",
          "yref": "paper"
         },
         {
          "font": {
           "size": 16
          },
          "showarrow": false,
          "text": "Penguin Swim School",
          "x": 0.775,
          "xanchor": "center",
          "xref": "paper",
          "y": 1.0,
          "yanchor": "bottom",
          "yref": "paper"
         },
         {
          "font": {
           "size": 16
          },
          "showarrow": false,
          "text": "Wake Up with Coffee",
          "x": 0.225,
          "xanchor": "center",
          "xref": "paper",
          "y": 0.325,
          "yanchor": "bottom",
          "yref": "paper"
         },
         {
          "font": {
           "size": 16
          },
          "showarrow": false,
          "text": "Please Bring Pizza Pronto",
          "x": 0.775,
          "xanchor": "center",
          "xref": "paper",
          "y": 0.325,
          "yanchor": "bottom",
          "yref": "paper"
         }
        ],
        "title": {
         "text": "Top Ten Customers by the Amount Spent"
        },
        "height": 600,
        "showlegend": false
       },
       "config": {
        "plotlyServerURL": "https://plot.ly"
       }
      },
      "text/html": [
       "<div>                            <div id=\"58165b35-9699-43a8-b0db-a5da2b485703\" class=\"plotly-graph-div\" style=\"height:600px; width:100%;\"></div>            <script type=\"text/javascript\">                require([\"plotly\"], function(Plotly) {                    window.PLOTLYENV=window.PLOTLYENV || {};                                    if (document.getElementById(\"58165b35-9699-43a8-b0db-a5da2b485703\")) {                    Plotly.newPlot(                        \"58165b35-9699-43a8-b0db-a5da2b485703\",                        [{\"marker\":{\"color\":\"#fb5607\"},\"name\":\"Ed's Barber Supplies\",\"text\":[12963.98,10086.0,8934.23,8077.76,7814.79,7169.82,7107.54,6933.37,6932.46,6790.01],\"textposition\":\"outside\",\"texttemplate\":\"%{text:.2s}\",\"x\":[\"Lisa\",\"Scott\",\"Anna\",\"Rebecca\",\"Linda\",\"William\",\"Darren\",\"Manuel\",\"Carol\",\"Mariah\"],\"y\":[12963.98,10086.0,8934.23,8077.76,7814.79,7169.82,7107.54,6933.37,6932.46,6790.01],\"type\":\"bar\",\"xaxis\":\"x\",\"yaxis\":\"y\"},{\"marker\":{\"color\":\"#ff006e\"},\"name\":\"Penguin Swim School\",\"text\":[7570.42,7320.33,5283.6,4682.62,4476.71,4451.15,4356.51,4245.23,4062.99,4061.18],\"textposition\":\"outside\",\"texttemplate\":\"%{text:.2s}\",\"x\":[\"Scott\",\"William\",\"Samantha\",\"Derek\",\"Steven\",\"Natalie\",\"Johnathan\",\"Tammy\",\"Heather\",\"Meghan\"],\"y\":[7570.42,7320.33,5283.6,4682.62,4476.71,4451.15,4356.51,4245.23,4062.99,4061.18],\"type\":\"bar\",\"xaxis\":\"x2\",\"yaxis\":\"y2\"},{\"marker\":{\"color\":\"#8338ec\"},\"name\":\"Wake Up with Coffee\",\"text\":[7098.17,4609.17,4596.26,4336.75,4236.98,4122.33,4064.74,4045.93,3950.81,3910.2],\"textposition\":\"outside\",\"texttemplate\":\"%{text:.2s}\",\"x\":[\"Scott\",\"Ricardo\",\"Robert\",\"Melissa\",\"Gregory\",\"Paula\",\"Justin\",\"Marvin\",\"Isaac\",\"Robin\"],\"y\":[7098.17,4609.17,4596.26,4336.75,4236.98,4122.33,4064.74,4045.93,3950.81,3910.2],\"type\":\"bar\",\"xaxis\":\"x3\",\"yaxis\":\"y3\"},{\"marker\":{\"color\":\"#3a86ff\"},\"name\":\"Please Bring Pizza Pronto\",\"text\":[10686.19,10424.8,10324.21,10169.32,9717.11,9476.08,9427.74,9416.61,9128.57,8789.3],\"textposition\":\"outside\",\"texttemplate\":\"%{text:.2s}\",\"x\":[\"Jonathan\",\"Mary\",\"Scott\",\"Robert\",\"Gary\",\"Danny\",\"Luke\",\"Jeremy\",\"Andrew\",\"Aaron\"],\"y\":[10686.19,10424.8,10324.21,10169.32,9717.11,9476.08,9427.74,9416.61,9128.57,8789.3],\"type\":\"bar\",\"xaxis\":\"x4\",\"yaxis\":\"y4\"}],                        {\"template\":{\"data\":{\"histogram2dcontour\":[{\"type\":\"histogram2dcontour\",\"colorbar\":{\"outlinewidth\":0,\"ticks\":\"\"},\"colorscale\":[[0.0,\"#0d0887\"],[0.1111111111111111,\"#46039f\"],[0.2222222222222222,\"#7201a8\"],[0.3333333333333333,\"#9c179e\"],[0.4444444444444444,\"#bd3786\"],[0.5555555555555556,\"#d8576b\"],[0.6666666666666666,\"#ed7953\"],[0.7777777777777778,\"#fb9f3a\"],[0.8888888888888888,\"#fdca26\"],[1.0,\"#f0f921\"]]}],\"choropleth\":[{\"type\":\"choropleth\",\"colorbar\":{\"outlinewidth\":0,\"ticks\":\"\"}}],\"histogram2d\":[{\"type\":\"histogram2d\",\"colorbar\":{\"outlinewidth\":0,\"ticks\":\"\"},\"colorscale\":[[0.0,\"#0d0887\"],[0.1111111111111111,\"#46039f\"],[0.2222222222222222,\"#7201a8\"],[0.3333333333333333,\"#9c179e\"],[0.4444444444444444,\"#bd3786\"],[0.5555555555555556,\"#d8576b\"],[0.6666666666666666,\"#ed7953\"],[0.7777777777777778,\"#fb9f3a\"],[0.8888888888888888,\"#fdca26\"],[1.0,\"#f0f921\"]]}],\"heatmap\":[{\"type\":\"heatmap\",\"colorbar\":{\"outlinewidth\":0,\"ticks\":\"\"},\"colorscale\":[[0.0,\"#0d0887\"],[0.1111111111111111,\"#46039f\"],[0.2222222222222222,\"#7201a8\"],[0.3333333333333333,\"#9c179e\"],[0.4444444444444444,\"#bd3786\"],[0.5555555555555556,\"#d8576b\"],[0.6666666666666666,\"#ed7953\"],[0.7777777777777778,\"#fb9f3a\"],[0.8888888888888888,\"#fdca26\"],[1.0,\"#f0f921\"]]}],\"heatmapgl\":[{\"type\":\"heatmapgl\",\"colorbar\":{\"outlinewidth\":0,\"ticks\":\"\"},\"colorscale\":[[0.0,\"#0d0887\"],[0.1111111111111111,\"#46039f\"],[0.2222222222222222,\"#7201a8\"],[0.3333333333333333,\"#9c179e\"],[0.4444444444444444,\"#bd3786\"],[0.5555555555555556,\"#d8576b\"],[0.6666666666666666,\"#ed7953\"],[0.7777777777777778,\"#fb9f3a\"],[0.8888888888888888,\"#fdca26\"],[1.0,\"#f0f921\"]]}],\"contourcarpet\":[{\"type\":\"contourcarpet\",\"colorbar\":{\"outlinewidth\":0,\"ticks\":\"\"}}],\"contour\":[{\"type\":\"contour\",\"colorbar\":{\"outlinewidth\":0,\"ticks\":\"\"},\"colorscale\":[[0.0,\"#0d0887\"],[0.1111111111111111,\"#46039f\"],[0.2222222222222222,\"#7201a8\"],[0.3333333333333333,\"#9c179e\"],[0.4444444444444444,\"#bd3786\"],[0.5555555555555556,\"#d8576b\"],[0.6666666666666666,\"#ed7953\"],[0.7777777777777778,\"#fb9f3a\"],[0.8888888888888888,\"#fdca26\"],[1.0,\"#f0f921\"]]}],\"surface\":[{\"type\":\"surface\",\"colorbar\":{\"outlinewidth\":0,\"ticks\":\"\"},\"colorscale\":[[0.0,\"#0d0887\"],[0.1111111111111111,\"#46039f\"],[0.2222222222222222,\"#7201a8\"],[0.3333333333333333,\"#9c179e\"],[0.4444444444444444,\"#bd3786\"],[0.5555555555555556,\"#d8576b\"],[0.6666666666666666,\"#ed7953\"],[0.7777777777777778,\"#fb9f3a\"],[0.8888888888888888,\"#fdca26\"],[1.0,\"#f0f921\"]]}],\"mesh3d\":[{\"type\":\"mesh3d\",\"colorbar\":{\"outlinewidth\":0,\"ticks\":\"\"}}],\"scatter\":[{\"fillpattern\":{\"fillmode\":\"overlay\",\"size\":10,\"solidity\":0.2},\"type\":\"scatter\"}],\"parcoords\":[{\"type\":\"parcoords\",\"line\":{\"colorbar\":{\"outlinewidth\":0,\"ticks\":\"\"}}}],\"scatterpolargl\":[{\"type\":\"scatterpolargl\",\"marker\":{\"colorbar\":{\"outlinewidth\":0,\"ticks\":\"\"}}}],\"bar\":[{\"error_x\":{\"color\":\"#2a3f5f\"},\"error_y\":{\"color\":\"#2a3f5f\"},\"marker\":{\"line\":{\"color\":\"#E5ECF6\",\"width\":0.5},\"pattern\":{\"fillmode\":\"overlay\",\"size\":10,\"solidity\":0.2}},\"type\":\"bar\"}],\"scattergeo\":[{\"type\":\"scattergeo\",\"marker\":{\"colorbar\":{\"outlinewidth\":0,\"ticks\":\"\"}}}],\"scatterpolar\":[{\"type\":\"scatterpolar\",\"marker\":{\"colorbar\":{\"outlinewidth\":0,\"ticks\":\"\"}}}],\"histogram\":[{\"marker\":{\"pattern\":{\"fillmode\":\"overlay\",\"size\":10,\"solidity\":0.2}},\"type\":\"histogram\"}],\"scattergl\":[{\"type\":\"scattergl\",\"marker\":{\"colorbar\":{\"outlinewidth\":0,\"ticks\":\"\"}}}],\"scatter3d\":[{\"type\":\"scatter3d\",\"line\":{\"colorbar\":{\"outlinewidth\":0,\"ticks\":\"\"}},\"marker\":{\"colorbar\":{\"outlinewidth\":0,\"ticks\":\"\"}}}],\"scattermapbox\":[{\"type\":\"scattermapbox\",\"marker\":{\"colorbar\":{\"outlinewidth\":0,\"ticks\":\"\"}}}],\"scatterternary\":[{\"type\":\"scatterternary\",\"marker\":{\"colorbar\":{\"outlinewidth\":0,\"ticks\":\"\"}}}],\"scattercarpet\":[{\"type\":\"scattercarpet\",\"marker\":{\"colorbar\":{\"outlinewidth\":0,\"ticks\":\"\"}}}],\"carpet\":[{\"aaxis\":{\"endlinecolor\":\"#2a3f5f\",\"gridcolor\":\"white\",\"linecolor\":\"white\",\"minorgridcolor\":\"white\",\"startlinecolor\":\"#2a3f5f\"},\"baxis\":{\"endlinecolor\":\"#2a3f5f\",\"gridcolor\":\"white\",\"linecolor\":\"white\",\"minorgridcolor\":\"white\",\"startlinecolor\":\"#2a3f5f\"},\"type\":\"carpet\"}],\"table\":[{\"cells\":{\"fill\":{\"color\":\"#EBF0F8\"},\"line\":{\"color\":\"white\"}},\"header\":{\"fill\":{\"color\":\"#C8D4E3\"},\"line\":{\"color\":\"white\"}},\"type\":\"table\"}],\"barpolar\":[{\"marker\":{\"line\":{\"color\":\"#E5ECF6\",\"width\":0.5},\"pattern\":{\"fillmode\":\"overlay\",\"size\":10,\"solidity\":0.2}},\"type\":\"barpolar\"}],\"pie\":[{\"automargin\":true,\"type\":\"pie\"}]},\"layout\":{\"autotypenumbers\":\"strict\",\"colorway\":[\"#636efa\",\"#EF553B\",\"#00cc96\",\"#ab63fa\",\"#FFA15A\",\"#19d3f3\",\"#FF6692\",\"#B6E880\",\"#FF97FF\",\"#FECB52\"],\"font\":{\"color\":\"#2a3f5f\"},\"hovermode\":\"closest\",\"hoverlabel\":{\"align\":\"left\"},\"paper_bgcolor\":\"white\",\"plot_bgcolor\":\"#E5ECF6\",\"polar\":{\"bgcolor\":\"#E5ECF6\",\"angularaxis\":{\"gridcolor\":\"white\",\"linecolor\":\"white\",\"ticks\":\"\"},\"radialaxis\":{\"gridcolor\":\"white\",\"linecolor\":\"white\",\"ticks\":\"\"}},\"ternary\":{\"bgcolor\":\"#E5ECF6\",\"aaxis\":{\"gridcolor\":\"white\",\"linecolor\":\"white\",\"ticks\":\"\"},\"baxis\":{\"gridcolor\":\"white\",\"linecolor\":\"white\",\"ticks\":\"\"},\"caxis\":{\"gridcolor\":\"white\",\"linecolor\":\"white\",\"ticks\":\"\"}},\"coloraxis\":{\"colorbar\":{\"outlinewidth\":0,\"ticks\":\"\"}},\"colorscale\":{\"sequential\":[[0.0,\"#0d0887\"],[0.1111111111111111,\"#46039f\"],[0.2222222222222222,\"#7201a8\"],[0.3333333333333333,\"#9c179e\"],[0.4444444444444444,\"#bd3786\"],[0.5555555555555556,\"#d8576b\"],[0.6666666666666666,\"#ed7953\"],[0.7777777777777778,\"#fb9f3a\"],[0.8888888888888888,\"#fdca26\"],[1.0,\"#f0f921\"]],\"sequentialminus\":[[0.0,\"#0d0887\"],[0.1111111111111111,\"#46039f\"],[0.2222222222222222,\"#7201a8\"],[0.3333333333333333,\"#9c179e\"],[0.4444444444444444,\"#bd3786\"],[0.5555555555555556,\"#d8576b\"],[0.6666666666666666,\"#ed7953\"],[0.7777777777777778,\"#fb9f3a\"],[0.8888888888888888,\"#fdca26\"],[1.0,\"#f0f921\"]],\"diverging\":[[0,\"#8e0152\"],[0.1,\"#c51b7d\"],[0.2,\"#de77ae\"],[0.3,\"#f1b6da\"],[0.4,\"#fde0ef\"],[0.5,\"#f7f7f7\"],[0.6,\"#e6f5d0\"],[0.7,\"#b8e186\"],[0.8,\"#7fbc41\"],[0.9,\"#4d9221\"],[1,\"#276419\"]]},\"xaxis\":{\"gridcolor\":\"white\",\"linecolor\":\"white\",\"ticks\":\"\",\"title\":{\"standoff\":15},\"zerolinecolor\":\"white\",\"automargin\":true,\"zerolinewidth\":2},\"yaxis\":{\"gridcolor\":\"white\",\"linecolor\":\"white\",\"ticks\":\"\",\"title\":{\"standoff\":15},\"zerolinecolor\":\"white\",\"automargin\":true,\"zerolinewidth\":2},\"scene\":{\"xaxis\":{\"backgroundcolor\":\"#E5ECF6\",\"gridcolor\":\"white\",\"linecolor\":\"white\",\"showbackground\":true,\"ticks\":\"\",\"zerolinecolor\":\"white\",\"gridwidth\":2},\"yaxis\":{\"backgroundcolor\":\"#E5ECF6\",\"gridcolor\":\"white\",\"linecolor\":\"white\",\"showbackground\":true,\"ticks\":\"\",\"zerolinecolor\":\"white\",\"gridwidth\":2},\"zaxis\":{\"backgroundcolor\":\"#E5ECF6\",\"gridcolor\":\"white\",\"linecolor\":\"white\",\"showbackground\":true,\"ticks\":\"\",\"zerolinecolor\":\"white\",\"gridwidth\":2}},\"shapedefaults\":{\"line\":{\"color\":\"#2a3f5f\"}},\"annotationdefaults\":{\"arrowcolor\":\"#2a3f5f\",\"arrowhead\":0,\"arrowwidth\":1},\"geo\":{\"bgcolor\":\"white\",\"landcolor\":\"#E5ECF6\",\"subunitcolor\":\"white\",\"showland\":true,\"showlakes\":true,\"lakecolor\":\"white\"},\"title\":{\"x\":0.05},\"mapbox\":{\"style\":\"light\"}}},\"xaxis\":{\"anchor\":\"y\",\"domain\":[0.0,0.45]},\"yaxis\":{\"anchor\":\"x\",\"domain\":[0.675,1.0]},\"xaxis2\":{\"anchor\":\"y2\",\"domain\":[0.55,1.0]},\"yaxis2\":{\"anchor\":\"x2\",\"domain\":[0.675,1.0],\"matches\":\"y\",\"showticklabels\":false},\"xaxis3\":{\"anchor\":\"y3\",\"domain\":[0.0,0.45]},\"yaxis3\":{\"anchor\":\"x3\",\"domain\":[0.0,0.325]},\"xaxis4\":{\"anchor\":\"y4\",\"domain\":[0.55,1.0]},\"yaxis4\":{\"anchor\":\"x4\",\"domain\":[0.0,0.325],\"matches\":\"y3\",\"showticklabels\":false},\"annotations\":[{\"font\":{\"size\":16},\"showarrow\":false,\"text\":\"Ed's Barber Supplies\",\"x\":0.225,\"xanchor\":\"center\",\"xref\":\"paper\",\"y\":1.0,\"yanchor\":\"bottom\",\"yref\":\"paper\"},{\"font\":{\"size\":16},\"showarrow\":false,\"text\":\"Penguin Swim School\",\"x\":0.775,\"xanchor\":\"center\",\"xref\":\"paper\",\"y\":1.0,\"yanchor\":\"bottom\",\"yref\":\"paper\"},{\"font\":{\"size\":16},\"showarrow\":false,\"text\":\"Wake Up with Coffee\",\"x\":0.225,\"xanchor\":\"center\",\"xref\":\"paper\",\"y\":0.325,\"yanchor\":\"bottom\",\"yref\":\"paper\"},{\"font\":{\"size\":16},\"showarrow\":false,\"text\":\"Please Bring Pizza Pronto\",\"x\":0.775,\"xanchor\":\"center\",\"xref\":\"paper\",\"y\":0.325,\"yanchor\":\"bottom\",\"yref\":\"paper\"}],\"title\":{\"text\":\"Top Ten Customers by the Amount Spent\"},\"height\":600,\"showlegend\":false},                        {\"responsive\": true}                    ).then(function(){\n",
       "                            \n",
       "var gd = document.getElementById('58165b35-9699-43a8-b0db-a5da2b485703');\n",
       "var x = new MutationObserver(function (mutations, observer) {{\n",
       "        var display = window.getComputedStyle(gd).display;\n",
       "        if (!display || display === 'none') {{\n",
       "            console.log([gd, 'removed!']);\n",
       "            Plotly.purge(gd);\n",
       "            observer.disconnect();\n",
       "        }}\n",
       "}});\n",
       "\n",
       "// Listen for the removal of the full notebook cells\n",
       "var notebookContainer = gd.closest('#notebook-container');\n",
       "if (notebookContainer) {{\n",
       "    x.observe(notebookContainer, {childList: true});\n",
       "}}\n",
       "\n",
       "// Listen for the clearing of the current output cell\n",
       "var outputEl = gd.closest('.output');\n",
       "if (outputEl) {{\n",
       "    x.observe(outputEl, {childList: true});\n",
       "}}\n",
       "\n",
       "                        })                };                });            </script>        </div>"
      ]
     },
     "metadata": {},
     "output_type": "display_data"
    }
   ],
   "execution_count": 53
  },
  {
   "metadata": {},
   "cell_type": "markdown",
   "source": "#### Top 10 Customers by Number of Purchases",
   "id": "f8febaa1d545e46f"
  },
  {
   "metadata": {
    "ExecuteTime": {
     "end_time": "2025-07-05T18:12:31.639109Z",
     "start_time": "2025-07-05T18:12:31.625333Z"
    }
   },
   "cell_type": "code",
   "source": [
    "with duckdb.connect(DUCKDB_FILE) as conn:\n",
    "    top_ten_by_num_purchases_df = conn.sql(\"SELECT * FROM receipts.main.top_ten_customers_by_num_purchases\").df()\n",
    "\n",
    "top_ten_by_num_purchases_df\n"
   ],
   "id": "d30a5f6d09124289",
   "outputs": [
    {
     "data": {
      "text/plain": [
       "                business_name customer_name  num_purchases  amount_spent  \\\n",
       "0        Ed's Barber Supplies          Lisa            105      12963.98   \n",
       "1        Ed's Barber Supplies         Scott             66      10086.00   \n",
       "2        Ed's Barber Supplies       Rebecca             56       8077.76   \n",
       "3        Ed's Barber Supplies        Mariah             55       6790.01   \n",
       "4        Ed's Barber Supplies          Anna             54       8934.23   \n",
       "5        Ed's Barber Supplies         Carol             54       6932.46   \n",
       "6        Ed's Barber Supplies        Manuel             53       6933.37   \n",
       "7        Ed's Barber Supplies        Sherry             51       6233.39   \n",
       "8        Ed's Barber Supplies        Darren             50       7107.54   \n",
       "9        Ed's Barber Supplies         David             50       6683.51   \n",
       "10        Penguin Swim School         Scott             96       7570.42   \n",
       "11        Penguin Swim School       William             95       7320.33   \n",
       "12        Penguin Swim School         Derek             57       4682.62   \n",
       "13        Penguin Swim School     Johnathan             55       4356.51   \n",
       "14        Penguin Swim School      Samantha             54       5283.60   \n",
       "15        Penguin Swim School          Cody             54       3443.07   \n",
       "16        Penguin Swim School      Patricia             53       3715.63   \n",
       "17        Penguin Swim School        Steven             51       4476.71   \n",
       "18        Penguin Swim School         Tammy             51       4245.23   \n",
       "19        Penguin Swim School       Natalie             50       4451.15   \n",
       "20  Please Bring Pizza Pronto      Jonathan            191      10686.19   \n",
       "21  Please Bring Pizza Pronto         Scott            189      10324.21   \n",
       "22  Please Bring Pizza Pronto          Mary            188      10424.80   \n",
       "23  Please Bring Pizza Pronto        Robert            187      10169.32   \n",
       "24  Please Bring Pizza Pronto          Luke            175       9427.74   \n",
       "25  Please Bring Pizza Pronto          Gary            172       9717.11   \n",
       "26  Please Bring Pizza Pronto        Jeremy            170       9416.61   \n",
       "27  Please Bring Pizza Pronto         Aaron            169       8789.30   \n",
       "28  Please Bring Pizza Pronto        Steven            169       8441.17   \n",
       "29  Please Bring Pizza Pronto         Danny            166       9476.08   \n",
       "30        Wake Up with Coffee         Scott            192       7098.17   \n",
       "31        Wake Up with Coffee        Robert            120       4596.26   \n",
       "32        Wake Up with Coffee       Ricardo            114       4609.17   \n",
       "33        Wake Up with Coffee       Gregory            113       4236.98   \n",
       "34        Wake Up with Coffee         Paula            113       4122.33   \n",
       "35        Wake Up with Coffee       Melissa            112       4336.75   \n",
       "36        Wake Up with Coffee        Justin            111       4064.74   \n",
       "37        Wake Up with Coffee         Isaac            111       3950.81   \n",
       "38        Wake Up with Coffee        Leslie            106       3862.99   \n",
       "39        Wake Up with Coffee        Marvin            104       4045.93   \n",
       "\n",
       "    ranking  \n",
       "0         1  \n",
       "1         2  \n",
       "2         3  \n",
       "3         4  \n",
       "4         5  \n",
       "5         6  \n",
       "6         7  \n",
       "7         8  \n",
       "8         9  \n",
       "9        10  \n",
       "10        1  \n",
       "11        2  \n",
       "12        3  \n",
       "13        4  \n",
       "14        5  \n",
       "15        6  \n",
       "16        7  \n",
       "17        8  \n",
       "18        9  \n",
       "19       10  \n",
       "20        1  \n",
       "21        2  \n",
       "22        3  \n",
       "23        4  \n",
       "24        5  \n",
       "25        6  \n",
       "26        7  \n",
       "27        8  \n",
       "28        9  \n",
       "29       10  \n",
       "30        1  \n",
       "31        2  \n",
       "32        3  \n",
       "33        4  \n",
       "34        5  \n",
       "35        6  \n",
       "36        7  \n",
       "37        8  \n",
       "38        9  \n",
       "39       10  "
      ],
      "text/html": [
       "<div>\n",
       "<style scoped>\n",
       "    .dataframe tbody tr th:only-of-type {\n",
       "        vertical-align: middle;\n",
       "    }\n",
       "\n",
       "    .dataframe tbody tr th {\n",
       "        vertical-align: top;\n",
       "    }\n",
       "\n",
       "    .dataframe thead th {\n",
       "        text-align: right;\n",
       "    }\n",
       "</style>\n",
       "<table border=\"1\" class=\"dataframe\">\n",
       "  <thead>\n",
       "    <tr style=\"text-align: right;\">\n",
       "      <th></th>\n",
       "      <th>business_name</th>\n",
       "      <th>customer_name</th>\n",
       "      <th>num_purchases</th>\n",
       "      <th>amount_spent</th>\n",
       "      <th>ranking</th>\n",
       "    </tr>\n",
       "  </thead>\n",
       "  <tbody>\n",
       "    <tr>\n",
       "      <th>0</th>\n",
       "      <td>Ed's Barber Supplies</td>\n",
       "      <td>Lisa</td>\n",
       "      <td>105</td>\n",
       "      <td>12963.98</td>\n",
       "      <td>1</td>\n",
       "    </tr>\n",
       "    <tr>\n",
       "      <th>1</th>\n",
       "      <td>Ed's Barber Supplies</td>\n",
       "      <td>Scott</td>\n",
       "      <td>66</td>\n",
       "      <td>10086.00</td>\n",
       "      <td>2</td>\n",
       "    </tr>\n",
       "    <tr>\n",
       "      <th>2</th>\n",
       "      <td>Ed's Barber Supplies</td>\n",
       "      <td>Rebecca</td>\n",
       "      <td>56</td>\n",
       "      <td>8077.76</td>\n",
       "      <td>3</td>\n",
       "    </tr>\n",
       "    <tr>\n",
       "      <th>3</th>\n",
       "      <td>Ed's Barber Supplies</td>\n",
       "      <td>Mariah</td>\n",
       "      <td>55</td>\n",
       "      <td>6790.01</td>\n",
       "      <td>4</td>\n",
       "    </tr>\n",
       "    <tr>\n",
       "      <th>4</th>\n",
       "      <td>Ed's Barber Supplies</td>\n",
       "      <td>Anna</td>\n",
       "      <td>54</td>\n",
       "      <td>8934.23</td>\n",
       "      <td>5</td>\n",
       "    </tr>\n",
       "    <tr>\n",
       "      <th>5</th>\n",
       "      <td>Ed's Barber Supplies</td>\n",
       "      <td>Carol</td>\n",
       "      <td>54</td>\n",
       "      <td>6932.46</td>\n",
       "      <td>6</td>\n",
       "    </tr>\n",
       "    <tr>\n",
       "      <th>6</th>\n",
       "      <td>Ed's Barber Supplies</td>\n",
       "      <td>Manuel</td>\n",
       "      <td>53</td>\n",
       "      <td>6933.37</td>\n",
       "      <td>7</td>\n",
       "    </tr>\n",
       "    <tr>\n",
       "      <th>7</th>\n",
       "      <td>Ed's Barber Supplies</td>\n",
       "      <td>Sherry</td>\n",
       "      <td>51</td>\n",
       "      <td>6233.39</td>\n",
       "      <td>8</td>\n",
       "    </tr>\n",
       "    <tr>\n",
       "      <th>8</th>\n",
       "      <td>Ed's Barber Supplies</td>\n",
       "      <td>Darren</td>\n",
       "      <td>50</td>\n",
       "      <td>7107.54</td>\n",
       "      <td>9</td>\n",
       "    </tr>\n",
       "    <tr>\n",
       "      <th>9</th>\n",
       "      <td>Ed's Barber Supplies</td>\n",
       "      <td>David</td>\n",
       "      <td>50</td>\n",
       "      <td>6683.51</td>\n",
       "      <td>10</td>\n",
       "    </tr>\n",
       "    <tr>\n",
       "      <th>10</th>\n",
       "      <td>Penguin Swim School</td>\n",
       "      <td>Scott</td>\n",
       "      <td>96</td>\n",
       "      <td>7570.42</td>\n",
       "      <td>1</td>\n",
       "    </tr>\n",
       "    <tr>\n",
       "      <th>11</th>\n",
       "      <td>Penguin Swim School</td>\n",
       "      <td>William</td>\n",
       "      <td>95</td>\n",
       "      <td>7320.33</td>\n",
       "      <td>2</td>\n",
       "    </tr>\n",
       "    <tr>\n",
       "      <th>12</th>\n",
       "      <td>Penguin Swim School</td>\n",
       "      <td>Derek</td>\n",
       "      <td>57</td>\n",
       "      <td>4682.62</td>\n",
       "      <td>3</td>\n",
       "    </tr>\n",
       "    <tr>\n",
       "      <th>13</th>\n",
       "      <td>Penguin Swim School</td>\n",
       "      <td>Johnathan</td>\n",
       "      <td>55</td>\n",
       "      <td>4356.51</td>\n",
       "      <td>4</td>\n",
       "    </tr>\n",
       "    <tr>\n",
       "      <th>14</th>\n",
       "      <td>Penguin Swim School</td>\n",
       "      <td>Samantha</td>\n",
       "      <td>54</td>\n",
       "      <td>5283.60</td>\n",
       "      <td>5</td>\n",
       "    </tr>\n",
       "    <tr>\n",
       "      <th>15</th>\n",
       "      <td>Penguin Swim School</td>\n",
       "      <td>Cody</td>\n",
       "      <td>54</td>\n",
       "      <td>3443.07</td>\n",
       "      <td>6</td>\n",
       "    </tr>\n",
       "    <tr>\n",
       "      <th>16</th>\n",
       "      <td>Penguin Swim School</td>\n",
       "      <td>Patricia</td>\n",
       "      <td>53</td>\n",
       "      <td>3715.63</td>\n",
       "      <td>7</td>\n",
       "    </tr>\n",
       "    <tr>\n",
       "      <th>17</th>\n",
       "      <td>Penguin Swim School</td>\n",
       "      <td>Steven</td>\n",
       "      <td>51</td>\n",
       "      <td>4476.71</td>\n",
       "      <td>8</td>\n",
       "    </tr>\n",
       "    <tr>\n",
       "      <th>18</th>\n",
       "      <td>Penguin Swim School</td>\n",
       "      <td>Tammy</td>\n",
       "      <td>51</td>\n",
       "      <td>4245.23</td>\n",
       "      <td>9</td>\n",
       "    </tr>\n",
       "    <tr>\n",
       "      <th>19</th>\n",
       "      <td>Penguin Swim School</td>\n",
       "      <td>Natalie</td>\n",
       "      <td>50</td>\n",
       "      <td>4451.15</td>\n",
       "      <td>10</td>\n",
       "    </tr>\n",
       "    <tr>\n",
       "      <th>20</th>\n",
       "      <td>Please Bring Pizza Pronto</td>\n",
       "      <td>Jonathan</td>\n",
       "      <td>191</td>\n",
       "      <td>10686.19</td>\n",
       "      <td>1</td>\n",
       "    </tr>\n",
       "    <tr>\n",
       "      <th>21</th>\n",
       "      <td>Please Bring Pizza Pronto</td>\n",
       "      <td>Scott</td>\n",
       "      <td>189</td>\n",
       "      <td>10324.21</td>\n",
       "      <td>2</td>\n",
       "    </tr>\n",
       "    <tr>\n",
       "      <th>22</th>\n",
       "      <td>Please Bring Pizza Pronto</td>\n",
       "      <td>Mary</td>\n",
       "      <td>188</td>\n",
       "      <td>10424.80</td>\n",
       "      <td>3</td>\n",
       "    </tr>\n",
       "    <tr>\n",
       "      <th>23</th>\n",
       "      <td>Please Bring Pizza Pronto</td>\n",
       "      <td>Robert</td>\n",
       "      <td>187</td>\n",
       "      <td>10169.32</td>\n",
       "      <td>4</td>\n",
       "    </tr>\n",
       "    <tr>\n",
       "      <th>24</th>\n",
       "      <td>Please Bring Pizza Pronto</td>\n",
       "      <td>Luke</td>\n",
       "      <td>175</td>\n",
       "      <td>9427.74</td>\n",
       "      <td>5</td>\n",
       "    </tr>\n",
       "    <tr>\n",
       "      <th>25</th>\n",
       "      <td>Please Bring Pizza Pronto</td>\n",
       "      <td>Gary</td>\n",
       "      <td>172</td>\n",
       "      <td>9717.11</td>\n",
       "      <td>6</td>\n",
       "    </tr>\n",
       "    <tr>\n",
       "      <th>26</th>\n",
       "      <td>Please Bring Pizza Pronto</td>\n",
       "      <td>Jeremy</td>\n",
       "      <td>170</td>\n",
       "      <td>9416.61</td>\n",
       "      <td>7</td>\n",
       "    </tr>\n",
       "    <tr>\n",
       "      <th>27</th>\n",
       "      <td>Please Bring Pizza Pronto</td>\n",
       "      <td>Aaron</td>\n",
       "      <td>169</td>\n",
       "      <td>8789.30</td>\n",
       "      <td>8</td>\n",
       "    </tr>\n",
       "    <tr>\n",
       "      <th>28</th>\n",
       "      <td>Please Bring Pizza Pronto</td>\n",
       "      <td>Steven</td>\n",
       "      <td>169</td>\n",
       "      <td>8441.17</td>\n",
       "      <td>9</td>\n",
       "    </tr>\n",
       "    <tr>\n",
       "      <th>29</th>\n",
       "      <td>Please Bring Pizza Pronto</td>\n",
       "      <td>Danny</td>\n",
       "      <td>166</td>\n",
       "      <td>9476.08</td>\n",
       "      <td>10</td>\n",
       "    </tr>\n",
       "    <tr>\n",
       "      <th>30</th>\n",
       "      <td>Wake Up with Coffee</td>\n",
       "      <td>Scott</td>\n",
       "      <td>192</td>\n",
       "      <td>7098.17</td>\n",
       "      <td>1</td>\n",
       "    </tr>\n",
       "    <tr>\n",
       "      <th>31</th>\n",
       "      <td>Wake Up with Coffee</td>\n",
       "      <td>Robert</td>\n",
       "      <td>120</td>\n",
       "      <td>4596.26</td>\n",
       "      <td>2</td>\n",
       "    </tr>\n",
       "    <tr>\n",
       "      <th>32</th>\n",
       "      <td>Wake Up with Coffee</td>\n",
       "      <td>Ricardo</td>\n",
       "      <td>114</td>\n",
       "      <td>4609.17</td>\n",
       "      <td>3</td>\n",
       "    </tr>\n",
       "    <tr>\n",
       "      <th>33</th>\n",
       "      <td>Wake Up with Coffee</td>\n",
       "      <td>Gregory</td>\n",
       "      <td>113</td>\n",
       "      <td>4236.98</td>\n",
       "      <td>4</td>\n",
       "    </tr>\n",
       "    <tr>\n",
       "      <th>34</th>\n",
       "      <td>Wake Up with Coffee</td>\n",
       "      <td>Paula</td>\n",
       "      <td>113</td>\n",
       "      <td>4122.33</td>\n",
       "      <td>5</td>\n",
       "    </tr>\n",
       "    <tr>\n",
       "      <th>35</th>\n",
       "      <td>Wake Up with Coffee</td>\n",
       "      <td>Melissa</td>\n",
       "      <td>112</td>\n",
       "      <td>4336.75</td>\n",
       "      <td>6</td>\n",
       "    </tr>\n",
       "    <tr>\n",
       "      <th>36</th>\n",
       "      <td>Wake Up with Coffee</td>\n",
       "      <td>Justin</td>\n",
       "      <td>111</td>\n",
       "      <td>4064.74</td>\n",
       "      <td>7</td>\n",
       "    </tr>\n",
       "    <tr>\n",
       "      <th>37</th>\n",
       "      <td>Wake Up with Coffee</td>\n",
       "      <td>Isaac</td>\n",
       "      <td>111</td>\n",
       "      <td>3950.81</td>\n",
       "      <td>8</td>\n",
       "    </tr>\n",
       "    <tr>\n",
       "      <th>38</th>\n",
       "      <td>Wake Up with Coffee</td>\n",
       "      <td>Leslie</td>\n",
       "      <td>106</td>\n",
       "      <td>3862.99</td>\n",
       "      <td>9</td>\n",
       "    </tr>\n",
       "    <tr>\n",
       "      <th>39</th>\n",
       "      <td>Wake Up with Coffee</td>\n",
       "      <td>Marvin</td>\n",
       "      <td>104</td>\n",
       "      <td>4045.93</td>\n",
       "      <td>10</td>\n",
       "    </tr>\n",
       "  </tbody>\n",
       "</table>\n",
       "</div>"
      ]
     },
     "execution_count": 54,
     "metadata": {},
     "output_type": "execute_result"
    }
   ],
   "execution_count": 54
  },
  {
   "metadata": {
    "ExecuteTime": {
     "end_time": "2025-07-05T18:12:32.881747Z",
     "start_time": "2025-07-05T18:12:32.858532Z"
    }
   },
   "cell_type": "code",
   "source": "show_bar_graph(top_ten_by_num_purchases_df, header=\"Top 10 Customers by Number of Purchases\", value_type=\"num_purchases\")",
   "id": "8bfcbdd142267eef",
   "outputs": [
    {
     "data": {
      "application/vnd.plotly.v1+json": {
       "data": [
        {
         "marker": {
          "color": "#fb5607"
         },
         "name": "Ed's Barber Supplies",
         "text": [
          105.0,
          66.0,
          56.0,
          55.0,
          54.0,
          54.0,
          53.0,
          51.0,
          50.0,
          50.0
         ],
         "textposition": "outside",
         "texttemplate": "%{text:.2s}",
         "x": [
          "Lisa",
          "Scott",
          "Rebecca",
          "Mariah",
          "Anna",
          "Carol",
          "Manuel",
          "Sherry",
          "Darren",
          "David"
         ],
         "y": [
          105,
          66,
          56,
          55,
          54,
          54,
          53,
          51,
          50,
          50
         ],
         "type": "bar",
         "xaxis": "x",
         "yaxis": "y"
        },
        {
         "marker": {
          "color": "#ff006e"
         },
         "name": "Penguin Swim School",
         "text": [
          96.0,
          95.0,
          57.0,
          55.0,
          54.0,
          54.0,
          53.0,
          51.0,
          51.0,
          50.0
         ],
         "textposition": "outside",
         "texttemplate": "%{text:.2s}",
         "x": [
          "Scott",
          "William",
          "Derek",
          "Johnathan",
          "Samantha",
          "Cody",
          "Patricia",
          "Steven",
          "Tammy",
          "Natalie"
         ],
         "y": [
          96,
          95,
          57,
          55,
          54,
          54,
          53,
          51,
          51,
          50
         ],
         "type": "bar",
         "xaxis": "x2",
         "yaxis": "y2"
        },
        {
         "marker": {
          "color": "#8338ec"
         },
         "name": "Wake Up with Coffee",
         "text": [
          192.0,
          120.0,
          114.0,
          113.0,
          113.0,
          112.0,
          111.0,
          111.0,
          106.0,
          104.0
         ],
         "textposition": "outside",
         "texttemplate": "%{text:.2s}",
         "x": [
          "Scott",
          "Robert",
          "Ricardo",
          "Gregory",
          "Paula",
          "Melissa",
          "Justin",
          "Isaac",
          "Leslie",
          "Marvin"
         ],
         "y": [
          192,
          120,
          114,
          113,
          113,
          112,
          111,
          111,
          106,
          104
         ],
         "type": "bar",
         "xaxis": "x3",
         "yaxis": "y3"
        },
        {
         "marker": {
          "color": "#3a86ff"
         },
         "name": "Please Bring Pizza Pronto",
         "text": [
          191.0,
          189.0,
          188.0,
          187.0,
          175.0,
          172.0,
          170.0,
          169.0,
          169.0,
          166.0
         ],
         "textposition": "outside",
         "texttemplate": "%{text:.2s}",
         "x": [
          "Jonathan",
          "Scott",
          "Mary",
          "Robert",
          "Luke",
          "Gary",
          "Jeremy",
          "Aaron",
          "Steven",
          "Danny"
         ],
         "y": [
          191,
          189,
          188,
          187,
          175,
          172,
          170,
          169,
          169,
          166
         ],
         "type": "bar",
         "xaxis": "x4",
         "yaxis": "y4"
        }
       ],
       "layout": {
        "template": {
         "data": {
          "histogram2dcontour": [
           {
            "type": "histogram2dcontour",
            "colorbar": {
             "outlinewidth": 0,
             "ticks": ""
            },
            "colorscale": [
             [
              0.0,
              "#0d0887"
             ],
             [
              0.1111111111111111,
              "#46039f"
             ],
             [
              0.2222222222222222,
              "#7201a8"
             ],
             [
              0.3333333333333333,
              "#9c179e"
             ],
             [
              0.4444444444444444,
              "#bd3786"
             ],
             [
              0.5555555555555556,
              "#d8576b"
             ],
             [
              0.6666666666666666,
              "#ed7953"
             ],
             [
              0.7777777777777778,
              "#fb9f3a"
             ],
             [
              0.8888888888888888,
              "#fdca26"
             ],
             [
              1.0,
              "#f0f921"
             ]
            ]
           }
          ],
          "choropleth": [
           {
            "type": "choropleth",
            "colorbar": {
             "outlinewidth": 0,
             "ticks": ""
            }
           }
          ],
          "histogram2d": [
           {
            "type": "histogram2d",
            "colorbar": {
             "outlinewidth": 0,
             "ticks": ""
            },
            "colorscale": [
             [
              0.0,
              "#0d0887"
             ],
             [
              0.1111111111111111,
              "#46039f"
             ],
             [
              0.2222222222222222,
              "#7201a8"
             ],
             [
              0.3333333333333333,
              "#9c179e"
             ],
             [
              0.4444444444444444,
              "#bd3786"
             ],
             [
              0.5555555555555556,
              "#d8576b"
             ],
             [
              0.6666666666666666,
              "#ed7953"
             ],
             [
              0.7777777777777778,
              "#fb9f3a"
             ],
             [
              0.8888888888888888,
              "#fdca26"
             ],
             [
              1.0,
              "#f0f921"
             ]
            ]
           }
          ],
          "heatmap": [
           {
            "type": "heatmap",
            "colorbar": {
             "outlinewidth": 0,
             "ticks": ""
            },
            "colorscale": [
             [
              0.0,
              "#0d0887"
             ],
             [
              0.1111111111111111,
              "#46039f"
             ],
             [
              0.2222222222222222,
              "#7201a8"
             ],
             [
              0.3333333333333333,
              "#9c179e"
             ],
             [
              0.4444444444444444,
              "#bd3786"
             ],
             [
              0.5555555555555556,
              "#d8576b"
             ],
             [
              0.6666666666666666,
              "#ed7953"
             ],
             [
              0.7777777777777778,
              "#fb9f3a"
             ],
             [
              0.8888888888888888,
              "#fdca26"
             ],
             [
              1.0,
              "#f0f921"
             ]
            ]
           }
          ],
          "heatmapgl": [
           {
            "type": "heatmapgl",
            "colorbar": {
             "outlinewidth": 0,
             "ticks": ""
            },
            "colorscale": [
             [
              0.0,
              "#0d0887"
             ],
             [
              0.1111111111111111,
              "#46039f"
             ],
             [
              0.2222222222222222,
              "#7201a8"
             ],
             [
              0.3333333333333333,
              "#9c179e"
             ],
             [
              0.4444444444444444,
              "#bd3786"
             ],
             [
              0.5555555555555556,
              "#d8576b"
             ],
             [
              0.6666666666666666,
              "#ed7953"
             ],
             [
              0.7777777777777778,
              "#fb9f3a"
             ],
             [
              0.8888888888888888,
              "#fdca26"
             ],
             [
              1.0,
              "#f0f921"
             ]
            ]
           }
          ],
          "contourcarpet": [
           {
            "type": "contourcarpet",
            "colorbar": {
             "outlinewidth": 0,
             "ticks": ""
            }
           }
          ],
          "contour": [
           {
            "type": "contour",
            "colorbar": {
             "outlinewidth": 0,
             "ticks": ""
            },
            "colorscale": [
             [
              0.0,
              "#0d0887"
             ],
             [
              0.1111111111111111,
              "#46039f"
             ],
             [
              0.2222222222222222,
              "#7201a8"
             ],
             [
              0.3333333333333333,
              "#9c179e"
             ],
             [
              0.4444444444444444,
              "#bd3786"
             ],
             [
              0.5555555555555556,
              "#d8576b"
             ],
             [
              0.6666666666666666,
              "#ed7953"
             ],
             [
              0.7777777777777778,
              "#fb9f3a"
             ],
             [
              0.8888888888888888,
              "#fdca26"
             ],
             [
              1.0,
              "#f0f921"
             ]
            ]
           }
          ],
          "surface": [
           {
            "type": "surface",
            "colorbar": {
             "outlinewidth": 0,
             "ticks": ""
            },
            "colorscale": [
             [
              0.0,
              "#0d0887"
             ],
             [
              0.1111111111111111,
              "#46039f"
             ],
             [
              0.2222222222222222,
              "#7201a8"
             ],
             [
              0.3333333333333333,
              "#9c179e"
             ],
             [
              0.4444444444444444,
              "#bd3786"
             ],
             [
              0.5555555555555556,
              "#d8576b"
             ],
             [
              0.6666666666666666,
              "#ed7953"
             ],
             [
              0.7777777777777778,
              "#fb9f3a"
             ],
             [
              0.8888888888888888,
              "#fdca26"
             ],
             [
              1.0,
              "#f0f921"
             ]
            ]
           }
          ],
          "mesh3d": [
           {
            "type": "mesh3d",
            "colorbar": {
             "outlinewidth": 0,
             "ticks": ""
            }
           }
          ],
          "scatter": [
           {
            "fillpattern": {
             "fillmode": "overlay",
             "size": 10,
             "solidity": 0.2
            },
            "type": "scatter"
           }
          ],
          "parcoords": [
           {
            "type": "parcoords",
            "line": {
             "colorbar": {
              "outlinewidth": 0,
              "ticks": ""
             }
            }
           }
          ],
          "scatterpolargl": [
           {
            "type": "scatterpolargl",
            "marker": {
             "colorbar": {
              "outlinewidth": 0,
              "ticks": ""
             }
            }
           }
          ],
          "bar": [
           {
            "error_x": {
             "color": "#2a3f5f"
            },
            "error_y": {
             "color": "#2a3f5f"
            },
            "marker": {
             "line": {
              "color": "#E5ECF6",
              "width": 0.5
             },
             "pattern": {
              "fillmode": "overlay",
              "size": 10,
              "solidity": 0.2
             }
            },
            "type": "bar"
           }
          ],
          "scattergeo": [
           {
            "type": "scattergeo",
            "marker": {
             "colorbar": {
              "outlinewidth": 0,
              "ticks": ""
             }
            }
           }
          ],
          "scatterpolar": [
           {
            "type": "scatterpolar",
            "marker": {
             "colorbar": {
              "outlinewidth": 0,
              "ticks": ""
             }
            }
           }
          ],
          "histogram": [
           {
            "marker": {
             "pattern": {
              "fillmode": "overlay",
              "size": 10,
              "solidity": 0.2
             }
            },
            "type": "histogram"
           }
          ],
          "scattergl": [
           {
            "type": "scattergl",
            "marker": {
             "colorbar": {
              "outlinewidth": 0,
              "ticks": ""
             }
            }
           }
          ],
          "scatter3d": [
           {
            "type": "scatter3d",
            "line": {
             "colorbar": {
              "outlinewidth": 0,
              "ticks": ""
             }
            },
            "marker": {
             "colorbar": {
              "outlinewidth": 0,
              "ticks": ""
             }
            }
           }
          ],
          "scattermapbox": [
           {
            "type": "scattermapbox",
            "marker": {
             "colorbar": {
              "outlinewidth": 0,
              "ticks": ""
             }
            }
           }
          ],
          "scatterternary": [
           {
            "type": "scatterternary",
            "marker": {
             "colorbar": {
              "outlinewidth": 0,
              "ticks": ""
             }
            }
           }
          ],
          "scattercarpet": [
           {
            "type": "scattercarpet",
            "marker": {
             "colorbar": {
              "outlinewidth": 0,
              "ticks": ""
             }
            }
           }
          ],
          "carpet": [
           {
            "aaxis": {
             "endlinecolor": "#2a3f5f",
             "gridcolor": "white",
             "linecolor": "white",
             "minorgridcolor": "white",
             "startlinecolor": "#2a3f5f"
            },
            "baxis": {
             "endlinecolor": "#2a3f5f",
             "gridcolor": "white",
             "linecolor": "white",
             "minorgridcolor": "white",
             "startlinecolor": "#2a3f5f"
            },
            "type": "carpet"
           }
          ],
          "table": [
           {
            "cells": {
             "fill": {
              "color": "#EBF0F8"
             },
             "line": {
              "color": "white"
             }
            },
            "header": {
             "fill": {
              "color": "#C8D4E3"
             },
             "line": {
              "color": "white"
             }
            },
            "type": "table"
           }
          ],
          "barpolar": [
           {
            "marker": {
             "line": {
              "color": "#E5ECF6",
              "width": 0.5
             },
             "pattern": {
              "fillmode": "overlay",
              "size": 10,
              "solidity": 0.2
             }
            },
            "type": "barpolar"
           }
          ],
          "pie": [
           {
            "automargin": true,
            "type": "pie"
           }
          ]
         },
         "layout": {
          "autotypenumbers": "strict",
          "colorway": [
           "#636efa",
           "#EF553B",
           "#00cc96",
           "#ab63fa",
           "#FFA15A",
           "#19d3f3",
           "#FF6692",
           "#B6E880",
           "#FF97FF",
           "#FECB52"
          ],
          "font": {
           "color": "#2a3f5f"
          },
          "hovermode": "closest",
          "hoverlabel": {
           "align": "left"
          },
          "paper_bgcolor": "white",
          "plot_bgcolor": "#E5ECF6",
          "polar": {
           "bgcolor": "#E5ECF6",
           "angularaxis": {
            "gridcolor": "white",
            "linecolor": "white",
            "ticks": ""
           },
           "radialaxis": {
            "gridcolor": "white",
            "linecolor": "white",
            "ticks": ""
           }
          },
          "ternary": {
           "bgcolor": "#E5ECF6",
           "aaxis": {
            "gridcolor": "white",
            "linecolor": "white",
            "ticks": ""
           },
           "baxis": {
            "gridcolor": "white",
            "linecolor": "white",
            "ticks": ""
           },
           "caxis": {
            "gridcolor": "white",
            "linecolor": "white",
            "ticks": ""
           }
          },
          "coloraxis": {
           "colorbar": {
            "outlinewidth": 0,
            "ticks": ""
           }
          },
          "colorscale": {
           "sequential": [
            [
             0.0,
             "#0d0887"
            ],
            [
             0.1111111111111111,
             "#46039f"
            ],
            [
             0.2222222222222222,
             "#7201a8"
            ],
            [
             0.3333333333333333,
             "#9c179e"
            ],
            [
             0.4444444444444444,
             "#bd3786"
            ],
            [
             0.5555555555555556,
             "#d8576b"
            ],
            [
             0.6666666666666666,
             "#ed7953"
            ],
            [
             0.7777777777777778,
             "#fb9f3a"
            ],
            [
             0.8888888888888888,
             "#fdca26"
            ],
            [
             1.0,
             "#f0f921"
            ]
           ],
           "sequentialminus": [
            [
             0.0,
             "#0d0887"
            ],
            [
             0.1111111111111111,
             "#46039f"
            ],
            [
             0.2222222222222222,
             "#7201a8"
            ],
            [
             0.3333333333333333,
             "#9c179e"
            ],
            [
             0.4444444444444444,
             "#bd3786"
            ],
            [
             0.5555555555555556,
             "#d8576b"
            ],
            [
             0.6666666666666666,
             "#ed7953"
            ],
            [
             0.7777777777777778,
             "#fb9f3a"
            ],
            [
             0.8888888888888888,
             "#fdca26"
            ],
            [
             1.0,
             "#f0f921"
            ]
           ],
           "diverging": [
            [
             0,
             "#8e0152"
            ],
            [
             0.1,
             "#c51b7d"
            ],
            [
             0.2,
             "#de77ae"
            ],
            [
             0.3,
             "#f1b6da"
            ],
            [
             0.4,
             "#fde0ef"
            ],
            [
             0.5,
             "#f7f7f7"
            ],
            [
             0.6,
             "#e6f5d0"
            ],
            [
             0.7,
             "#b8e186"
            ],
            [
             0.8,
             "#7fbc41"
            ],
            [
             0.9,
             "#4d9221"
            ],
            [
             1,
             "#276419"
            ]
           ]
          },
          "xaxis": {
           "gridcolor": "white",
           "linecolor": "white",
           "ticks": "",
           "title": {
            "standoff": 15
           },
           "zerolinecolor": "white",
           "automargin": true,
           "zerolinewidth": 2
          },
          "yaxis": {
           "gridcolor": "white",
           "linecolor": "white",
           "ticks": "",
           "title": {
            "standoff": 15
           },
           "zerolinecolor": "white",
           "automargin": true,
           "zerolinewidth": 2
          },
          "scene": {
           "xaxis": {
            "backgroundcolor": "#E5ECF6",
            "gridcolor": "white",
            "linecolor": "white",
            "showbackground": true,
            "ticks": "",
            "zerolinecolor": "white",
            "gridwidth": 2
           },
           "yaxis": {
            "backgroundcolor": "#E5ECF6",
            "gridcolor": "white",
            "linecolor": "white",
            "showbackground": true,
            "ticks": "",
            "zerolinecolor": "white",
            "gridwidth": 2
           },
           "zaxis": {
            "backgroundcolor": "#E5ECF6",
            "gridcolor": "white",
            "linecolor": "white",
            "showbackground": true,
            "ticks": "",
            "zerolinecolor": "white",
            "gridwidth": 2
           }
          },
          "shapedefaults": {
           "line": {
            "color": "#2a3f5f"
           }
          },
          "annotationdefaults": {
           "arrowcolor": "#2a3f5f",
           "arrowhead": 0,
           "arrowwidth": 1
          },
          "geo": {
           "bgcolor": "white",
           "landcolor": "#E5ECF6",
           "subunitcolor": "white",
           "showland": true,
           "showlakes": true,
           "lakecolor": "white"
          },
          "title": {
           "x": 0.05
          },
          "mapbox": {
           "style": "light"
          }
         }
        },
        "xaxis": {
         "anchor": "y",
         "domain": [
          0.0,
          0.45
         ]
        },
        "yaxis": {
         "anchor": "x",
         "domain": [
          0.675,
          1.0
         ]
        },
        "xaxis2": {
         "anchor": "y2",
         "domain": [
          0.55,
          1.0
         ]
        },
        "yaxis2": {
         "anchor": "x2",
         "domain": [
          0.675,
          1.0
         ],
         "matches": "y",
         "showticklabels": false
        },
        "xaxis3": {
         "anchor": "y3",
         "domain": [
          0.0,
          0.45
         ]
        },
        "yaxis3": {
         "anchor": "x3",
         "domain": [
          0.0,
          0.325
         ]
        },
        "xaxis4": {
         "anchor": "y4",
         "domain": [
          0.55,
          1.0
         ]
        },
        "yaxis4": {
         "anchor": "x4",
         "domain": [
          0.0,
          0.325
         ],
         "matches": "y3",
         "showticklabels": false
        },
        "annotations": [
         {
          "font": {
           "size": 16
          },
          "showarrow": false,
          "text": "Ed's Barber Supplies",
          "x": 0.225,
          "xanchor": "center",
          "xref": "paper",
          "y": 1.0,
          "yanchor": "bottom",
          "yref": "paper"
         },
         {
          "font": {
           "size": 16
          },
          "showarrow": false,
          "text": "Penguin Swim School",
          "x": 0.775,
          "xanchor": "center",
          "xref": "paper",
          "y": 1.0,
          "yanchor": "bottom",
          "yref": "paper"
         },
         {
          "font": {
           "size": 16
          },
          "showarrow": false,
          "text": "Wake Up with Coffee",
          "x": 0.225,
          "xanchor": "center",
          "xref": "paper",
          "y": 0.325,
          "yanchor": "bottom",
          "yref": "paper"
         },
         {
          "font": {
           "size": 16
          },
          "showarrow": false,
          "text": "Please Bring Pizza Pronto",
          "x": 0.775,
          "xanchor": "center",
          "xref": "paper",
          "y": 0.325,
          "yanchor": "bottom",
          "yref": "paper"
         }
        ],
        "title": {
         "text": "Top 10 Customers by Number of Purchases"
        },
        "height": 600,
        "showlegend": false
       },
       "config": {
        "plotlyServerURL": "https://plot.ly"
       }
      },
      "text/html": [
       "<div>                            <div id=\"7f03373b-78dd-4412-9560-205453f6f412\" class=\"plotly-graph-div\" style=\"height:600px; width:100%;\"></div>            <script type=\"text/javascript\">                require([\"plotly\"], function(Plotly) {                    window.PLOTLYENV=window.PLOTLYENV || {};                                    if (document.getElementById(\"7f03373b-78dd-4412-9560-205453f6f412\")) {                    Plotly.newPlot(                        \"7f03373b-78dd-4412-9560-205453f6f412\",                        [{\"marker\":{\"color\":\"#fb5607\"},\"name\":\"Ed's Barber Supplies\",\"text\":[105.0,66.0,56.0,55.0,54.0,54.0,53.0,51.0,50.0,50.0],\"textposition\":\"outside\",\"texttemplate\":\"%{text:.2s}\",\"x\":[\"Lisa\",\"Scott\",\"Rebecca\",\"Mariah\",\"Anna\",\"Carol\",\"Manuel\",\"Sherry\",\"Darren\",\"David\"],\"y\":[105,66,56,55,54,54,53,51,50,50],\"type\":\"bar\",\"xaxis\":\"x\",\"yaxis\":\"y\"},{\"marker\":{\"color\":\"#ff006e\"},\"name\":\"Penguin Swim School\",\"text\":[96.0,95.0,57.0,55.0,54.0,54.0,53.0,51.0,51.0,50.0],\"textposition\":\"outside\",\"texttemplate\":\"%{text:.2s}\",\"x\":[\"Scott\",\"William\",\"Derek\",\"Johnathan\",\"Samantha\",\"Cody\",\"Patricia\",\"Steven\",\"Tammy\",\"Natalie\"],\"y\":[96,95,57,55,54,54,53,51,51,50],\"type\":\"bar\",\"xaxis\":\"x2\",\"yaxis\":\"y2\"},{\"marker\":{\"color\":\"#8338ec\"},\"name\":\"Wake Up with Coffee\",\"text\":[192.0,120.0,114.0,113.0,113.0,112.0,111.0,111.0,106.0,104.0],\"textposition\":\"outside\",\"texttemplate\":\"%{text:.2s}\",\"x\":[\"Scott\",\"Robert\",\"Ricardo\",\"Gregory\",\"Paula\",\"Melissa\",\"Justin\",\"Isaac\",\"Leslie\",\"Marvin\"],\"y\":[192,120,114,113,113,112,111,111,106,104],\"type\":\"bar\",\"xaxis\":\"x3\",\"yaxis\":\"y3\"},{\"marker\":{\"color\":\"#3a86ff\"},\"name\":\"Please Bring Pizza Pronto\",\"text\":[191.0,189.0,188.0,187.0,175.0,172.0,170.0,169.0,169.0,166.0],\"textposition\":\"outside\",\"texttemplate\":\"%{text:.2s}\",\"x\":[\"Jonathan\",\"Scott\",\"Mary\",\"Robert\",\"Luke\",\"Gary\",\"Jeremy\",\"Aaron\",\"Steven\",\"Danny\"],\"y\":[191,189,188,187,175,172,170,169,169,166],\"type\":\"bar\",\"xaxis\":\"x4\",\"yaxis\":\"y4\"}],                        {\"template\":{\"data\":{\"histogram2dcontour\":[{\"type\":\"histogram2dcontour\",\"colorbar\":{\"outlinewidth\":0,\"ticks\":\"\"},\"colorscale\":[[0.0,\"#0d0887\"],[0.1111111111111111,\"#46039f\"],[0.2222222222222222,\"#7201a8\"],[0.3333333333333333,\"#9c179e\"],[0.4444444444444444,\"#bd3786\"],[0.5555555555555556,\"#d8576b\"],[0.6666666666666666,\"#ed7953\"],[0.7777777777777778,\"#fb9f3a\"],[0.8888888888888888,\"#fdca26\"],[1.0,\"#f0f921\"]]}],\"choropleth\":[{\"type\":\"choropleth\",\"colorbar\":{\"outlinewidth\":0,\"ticks\":\"\"}}],\"histogram2d\":[{\"type\":\"histogram2d\",\"colorbar\":{\"outlinewidth\":0,\"ticks\":\"\"},\"colorscale\":[[0.0,\"#0d0887\"],[0.1111111111111111,\"#46039f\"],[0.2222222222222222,\"#7201a8\"],[0.3333333333333333,\"#9c179e\"],[0.4444444444444444,\"#bd3786\"],[0.5555555555555556,\"#d8576b\"],[0.6666666666666666,\"#ed7953\"],[0.7777777777777778,\"#fb9f3a\"],[0.8888888888888888,\"#fdca26\"],[1.0,\"#f0f921\"]]}],\"heatmap\":[{\"type\":\"heatmap\",\"colorbar\":{\"outlinewidth\":0,\"ticks\":\"\"},\"colorscale\":[[0.0,\"#0d0887\"],[0.1111111111111111,\"#46039f\"],[0.2222222222222222,\"#7201a8\"],[0.3333333333333333,\"#9c179e\"],[0.4444444444444444,\"#bd3786\"],[0.5555555555555556,\"#d8576b\"],[0.6666666666666666,\"#ed7953\"],[0.7777777777777778,\"#fb9f3a\"],[0.8888888888888888,\"#fdca26\"],[1.0,\"#f0f921\"]]}],\"heatmapgl\":[{\"type\":\"heatmapgl\",\"colorbar\":{\"outlinewidth\":0,\"ticks\":\"\"},\"colorscale\":[[0.0,\"#0d0887\"],[0.1111111111111111,\"#46039f\"],[0.2222222222222222,\"#7201a8\"],[0.3333333333333333,\"#9c179e\"],[0.4444444444444444,\"#bd3786\"],[0.5555555555555556,\"#d8576b\"],[0.6666666666666666,\"#ed7953\"],[0.7777777777777778,\"#fb9f3a\"],[0.8888888888888888,\"#fdca26\"],[1.0,\"#f0f921\"]]}],\"contourcarpet\":[{\"type\":\"contourcarpet\",\"colorbar\":{\"outlinewidth\":0,\"ticks\":\"\"}}],\"contour\":[{\"type\":\"contour\",\"colorbar\":{\"outlinewidth\":0,\"ticks\":\"\"},\"colorscale\":[[0.0,\"#0d0887\"],[0.1111111111111111,\"#46039f\"],[0.2222222222222222,\"#7201a8\"],[0.3333333333333333,\"#9c179e\"],[0.4444444444444444,\"#bd3786\"],[0.5555555555555556,\"#d8576b\"],[0.6666666666666666,\"#ed7953\"],[0.7777777777777778,\"#fb9f3a\"],[0.8888888888888888,\"#fdca26\"],[1.0,\"#f0f921\"]]}],\"surface\":[{\"type\":\"surface\",\"colorbar\":{\"outlinewidth\":0,\"ticks\":\"\"},\"colorscale\":[[0.0,\"#0d0887\"],[0.1111111111111111,\"#46039f\"],[0.2222222222222222,\"#7201a8\"],[0.3333333333333333,\"#9c179e\"],[0.4444444444444444,\"#bd3786\"],[0.5555555555555556,\"#d8576b\"],[0.6666666666666666,\"#ed7953\"],[0.7777777777777778,\"#fb9f3a\"],[0.8888888888888888,\"#fdca26\"],[1.0,\"#f0f921\"]]}],\"mesh3d\":[{\"type\":\"mesh3d\",\"colorbar\":{\"outlinewidth\":0,\"ticks\":\"\"}}],\"scatter\":[{\"fillpattern\":{\"fillmode\":\"overlay\",\"size\":10,\"solidity\":0.2},\"type\":\"scatter\"}],\"parcoords\":[{\"type\":\"parcoords\",\"line\":{\"colorbar\":{\"outlinewidth\":0,\"ticks\":\"\"}}}],\"scatterpolargl\":[{\"type\":\"scatterpolargl\",\"marker\":{\"colorbar\":{\"outlinewidth\":0,\"ticks\":\"\"}}}],\"bar\":[{\"error_x\":{\"color\":\"#2a3f5f\"},\"error_y\":{\"color\":\"#2a3f5f\"},\"marker\":{\"line\":{\"color\":\"#E5ECF6\",\"width\":0.5},\"pattern\":{\"fillmode\":\"overlay\",\"size\":10,\"solidity\":0.2}},\"type\":\"bar\"}],\"scattergeo\":[{\"type\":\"scattergeo\",\"marker\":{\"colorbar\":{\"outlinewidth\":0,\"ticks\":\"\"}}}],\"scatterpolar\":[{\"type\":\"scatterpolar\",\"marker\":{\"colorbar\":{\"outlinewidth\":0,\"ticks\":\"\"}}}],\"histogram\":[{\"marker\":{\"pattern\":{\"fillmode\":\"overlay\",\"size\":10,\"solidity\":0.2}},\"type\":\"histogram\"}],\"scattergl\":[{\"type\":\"scattergl\",\"marker\":{\"colorbar\":{\"outlinewidth\":0,\"ticks\":\"\"}}}],\"scatter3d\":[{\"type\":\"scatter3d\",\"line\":{\"colorbar\":{\"outlinewidth\":0,\"ticks\":\"\"}},\"marker\":{\"colorbar\":{\"outlinewidth\":0,\"ticks\":\"\"}}}],\"scattermapbox\":[{\"type\":\"scattermapbox\",\"marker\":{\"colorbar\":{\"outlinewidth\":0,\"ticks\":\"\"}}}],\"scatterternary\":[{\"type\":\"scatterternary\",\"marker\":{\"colorbar\":{\"outlinewidth\":0,\"ticks\":\"\"}}}],\"scattercarpet\":[{\"type\":\"scattercarpet\",\"marker\":{\"colorbar\":{\"outlinewidth\":0,\"ticks\":\"\"}}}],\"carpet\":[{\"aaxis\":{\"endlinecolor\":\"#2a3f5f\",\"gridcolor\":\"white\",\"linecolor\":\"white\",\"minorgridcolor\":\"white\",\"startlinecolor\":\"#2a3f5f\"},\"baxis\":{\"endlinecolor\":\"#2a3f5f\",\"gridcolor\":\"white\",\"linecolor\":\"white\",\"minorgridcolor\":\"white\",\"startlinecolor\":\"#2a3f5f\"},\"type\":\"carpet\"}],\"table\":[{\"cells\":{\"fill\":{\"color\":\"#EBF0F8\"},\"line\":{\"color\":\"white\"}},\"header\":{\"fill\":{\"color\":\"#C8D4E3\"},\"line\":{\"color\":\"white\"}},\"type\":\"table\"}],\"barpolar\":[{\"marker\":{\"line\":{\"color\":\"#E5ECF6\",\"width\":0.5},\"pattern\":{\"fillmode\":\"overlay\",\"size\":10,\"solidity\":0.2}},\"type\":\"barpolar\"}],\"pie\":[{\"automargin\":true,\"type\":\"pie\"}]},\"layout\":{\"autotypenumbers\":\"strict\",\"colorway\":[\"#636efa\",\"#EF553B\",\"#00cc96\",\"#ab63fa\",\"#FFA15A\",\"#19d3f3\",\"#FF6692\",\"#B6E880\",\"#FF97FF\",\"#FECB52\"],\"font\":{\"color\":\"#2a3f5f\"},\"hovermode\":\"closest\",\"hoverlabel\":{\"align\":\"left\"},\"paper_bgcolor\":\"white\",\"plot_bgcolor\":\"#E5ECF6\",\"polar\":{\"bgcolor\":\"#E5ECF6\",\"angularaxis\":{\"gridcolor\":\"white\",\"linecolor\":\"white\",\"ticks\":\"\"},\"radialaxis\":{\"gridcolor\":\"white\",\"linecolor\":\"white\",\"ticks\":\"\"}},\"ternary\":{\"bgcolor\":\"#E5ECF6\",\"aaxis\":{\"gridcolor\":\"white\",\"linecolor\":\"white\",\"ticks\":\"\"},\"baxis\":{\"gridcolor\":\"white\",\"linecolor\":\"white\",\"ticks\":\"\"},\"caxis\":{\"gridcolor\":\"white\",\"linecolor\":\"white\",\"ticks\":\"\"}},\"coloraxis\":{\"colorbar\":{\"outlinewidth\":0,\"ticks\":\"\"}},\"colorscale\":{\"sequential\":[[0.0,\"#0d0887\"],[0.1111111111111111,\"#46039f\"],[0.2222222222222222,\"#7201a8\"],[0.3333333333333333,\"#9c179e\"],[0.4444444444444444,\"#bd3786\"],[0.5555555555555556,\"#d8576b\"],[0.6666666666666666,\"#ed7953\"],[0.7777777777777778,\"#fb9f3a\"],[0.8888888888888888,\"#fdca26\"],[1.0,\"#f0f921\"]],\"sequentialminus\":[[0.0,\"#0d0887\"],[0.1111111111111111,\"#46039f\"],[0.2222222222222222,\"#7201a8\"],[0.3333333333333333,\"#9c179e\"],[0.4444444444444444,\"#bd3786\"],[0.5555555555555556,\"#d8576b\"],[0.6666666666666666,\"#ed7953\"],[0.7777777777777778,\"#fb9f3a\"],[0.8888888888888888,\"#fdca26\"],[1.0,\"#f0f921\"]],\"diverging\":[[0,\"#8e0152\"],[0.1,\"#c51b7d\"],[0.2,\"#de77ae\"],[0.3,\"#f1b6da\"],[0.4,\"#fde0ef\"],[0.5,\"#f7f7f7\"],[0.6,\"#e6f5d0\"],[0.7,\"#b8e186\"],[0.8,\"#7fbc41\"],[0.9,\"#4d9221\"],[1,\"#276419\"]]},\"xaxis\":{\"gridcolor\":\"white\",\"linecolor\":\"white\",\"ticks\":\"\",\"title\":{\"standoff\":15},\"zerolinecolor\":\"white\",\"automargin\":true,\"zerolinewidth\":2},\"yaxis\":{\"gridcolor\":\"white\",\"linecolor\":\"white\",\"ticks\":\"\",\"title\":{\"standoff\":15},\"zerolinecolor\":\"white\",\"automargin\":true,\"zerolinewidth\":2},\"scene\":{\"xaxis\":{\"backgroundcolor\":\"#E5ECF6\",\"gridcolor\":\"white\",\"linecolor\":\"white\",\"showbackground\":true,\"ticks\":\"\",\"zerolinecolor\":\"white\",\"gridwidth\":2},\"yaxis\":{\"backgroundcolor\":\"#E5ECF6\",\"gridcolor\":\"white\",\"linecolor\":\"white\",\"showbackground\":true,\"ticks\":\"\",\"zerolinecolor\":\"white\",\"gridwidth\":2},\"zaxis\":{\"backgroundcolor\":\"#E5ECF6\",\"gridcolor\":\"white\",\"linecolor\":\"white\",\"showbackground\":true,\"ticks\":\"\",\"zerolinecolor\":\"white\",\"gridwidth\":2}},\"shapedefaults\":{\"line\":{\"color\":\"#2a3f5f\"}},\"annotationdefaults\":{\"arrowcolor\":\"#2a3f5f\",\"arrowhead\":0,\"arrowwidth\":1},\"geo\":{\"bgcolor\":\"white\",\"landcolor\":\"#E5ECF6\",\"subunitcolor\":\"white\",\"showland\":true,\"showlakes\":true,\"lakecolor\":\"white\"},\"title\":{\"x\":0.05},\"mapbox\":{\"style\":\"light\"}}},\"xaxis\":{\"anchor\":\"y\",\"domain\":[0.0,0.45]},\"yaxis\":{\"anchor\":\"x\",\"domain\":[0.675,1.0]},\"xaxis2\":{\"anchor\":\"y2\",\"domain\":[0.55,1.0]},\"yaxis2\":{\"anchor\":\"x2\",\"domain\":[0.675,1.0],\"matches\":\"y\",\"showticklabels\":false},\"xaxis3\":{\"anchor\":\"y3\",\"domain\":[0.0,0.45]},\"yaxis3\":{\"anchor\":\"x3\",\"domain\":[0.0,0.325]},\"xaxis4\":{\"anchor\":\"y4\",\"domain\":[0.55,1.0]},\"yaxis4\":{\"anchor\":\"x4\",\"domain\":[0.0,0.325],\"matches\":\"y3\",\"showticklabels\":false},\"annotations\":[{\"font\":{\"size\":16},\"showarrow\":false,\"text\":\"Ed's Barber Supplies\",\"x\":0.225,\"xanchor\":\"center\",\"xref\":\"paper\",\"y\":1.0,\"yanchor\":\"bottom\",\"yref\":\"paper\"},{\"font\":{\"size\":16},\"showarrow\":false,\"text\":\"Penguin Swim School\",\"x\":0.775,\"xanchor\":\"center\",\"xref\":\"paper\",\"y\":1.0,\"yanchor\":\"bottom\",\"yref\":\"paper\"},{\"font\":{\"size\":16},\"showarrow\":false,\"text\":\"Wake Up with Coffee\",\"x\":0.225,\"xanchor\":\"center\",\"xref\":\"paper\",\"y\":0.325,\"yanchor\":\"bottom\",\"yref\":\"paper\"},{\"font\":{\"size\":16},\"showarrow\":false,\"text\":\"Please Bring Pizza Pronto\",\"x\":0.775,\"xanchor\":\"center\",\"xref\":\"paper\",\"y\":0.325,\"yanchor\":\"bottom\",\"yref\":\"paper\"}],\"title\":{\"text\":\"Top 10 Customers by Number of Purchases\"},\"height\":600,\"showlegend\":false},                        {\"responsive\": true}                    ).then(function(){\n",
       "                            \n",
       "var gd = document.getElementById('7f03373b-78dd-4412-9560-205453f6f412');\n",
       "var x = new MutationObserver(function (mutations, observer) {{\n",
       "        var display = window.getComputedStyle(gd).display;\n",
       "        if (!display || display === 'none') {{\n",
       "            console.log([gd, 'removed!']);\n",
       "            Plotly.purge(gd);\n",
       "            observer.disconnect();\n",
       "        }}\n",
       "}});\n",
       "\n",
       "// Listen for the removal of the full notebook cells\n",
       "var notebookContainer = gd.closest('#notebook-container');\n",
       "if (notebookContainer) {{\n",
       "    x.observe(notebookContainer, {childList: true});\n",
       "}}\n",
       "\n",
       "// Listen for the clearing of the current output cell\n",
       "var outputEl = gd.closest('.output');\n",
       "if (outputEl) {{\n",
       "    x.observe(outputEl, {childList: true});\n",
       "}}\n",
       "\n",
       "                        })                };                });            </script>        </div>"
      ]
     },
     "metadata": {},
     "output_type": "display_data"
    }
   ],
   "execution_count": 55
  },
  {
   "cell_type": "markdown",
   "id": "3037becb-bde9-4897-9428-5c064d851a7d",
   "metadata": {},
   "source": [
    "### Discussion"
   ]
  },
  {
   "cell_type": "markdown",
   "id": "d67f8123-e0d4-49dd-b56d-0a60d56bcc07",
   "metadata": {
    "tags": []
   },
   "source": [
    "## Top 10 Customers by Amount Spent\n",
    "\n",
    "![Top 10 Customers by Amount Spent](./images/q2_top_10_customers_by_amount_spent.jpg)"
   ]
  },
  {
   "metadata": {},
   "cell_type": "raw",
   "source": [
    "If a loyal customer is defined by the most amount spent by the person, then the most loyal customers of each business are as follows:\n",
    "\n",
    "1. **Ed's Barber Supplies** 1.\n",
    "   1. Lisa - $12,964\n",
    "   2. Scott - $10,086\n",
    "   3. Anna - $8,936\n",
    "2. **Penguin Swim School**\n",
    "   1. Scott - $7,570\n",
    "   2. William - $7,320\n",
    "   3. Samantha - $5,283\n",
    "3. **Wake Up with Coffee**\n",
    "   1. Scott - $7,098\n",
    "   2. Ricardo - $4,609\n",
    "   3. Robert - $4,596\n",
    "4. **Please Bring Pizza Pronto**\n",
    "   1. Jonathan - $10,686\n",
    "   2. Mary - $10,425\n",
    "   3. Scott - $10,324"
   ],
   "id": "f37dac7a840b2499"
  },
  {
   "metadata": {},
   "cell_type": "markdown",
   "source": [
    "## Top 10 Customers by Number of Purchases\n",
    "\n",
    "![Top 10 Customers by Amount Spent](./images/q2_top_10_num_purchases.jpg)"
   ],
   "id": "1283171d0f6a9d2d"
  },
  {
   "metadata": {},
   "cell_type": "raw",
   "source": [
    "If we take a different approach, by considering the most number of visits as the most loyal, then the most loyal customers of each business is as follows.\n",
    "1. **Ed's Barber Supplies**\n",
    "   1. Lisa - 105\n",
    "   2. Scott - 66\n",
    "   3. Anna - 56\n",
    "2. **Penguin Swim School**\n",
    "   1. Scott - 96\n",
    "   2. William - 95\n",
    "   3. Samantha - 57\n",
    "3. **Wake Up with Coffee**\n",
    "   1. Scott - 192\n",
    "   2. Ricardo - 120\n",
    "   3. Robert - 110\n",
    "4. **Please Bring Pizza Pronto**\n",
    "   1. Jonathan - 191\n",
    "   2. Mary - 189\n",
    "   3. Scott - 188"
   ],
   "id": "dac3aba7899914c1"
  },
  {
   "cell_type": "markdown",
   "id": "d2a25074-a349-4267-9776-ed200b0cbf9a",
   "metadata": {},
   "source": [
    "---\n",
    "\n",
    "## Exploration Three\n",
    "### What is the employee turnover rate of each business?"
   ]
  },
  {
   "cell_type": "markdown",
   "id": "b6dc2b6a-267d-44fd-b0e8-60f9088bfb46",
   "metadata": {},
   "source": [
    "### Introduction"
   ]
  },
  {
   "cell_type": "markdown",
   "id": "5e029a29-51f1-49bc-a64b-bbebc842404e",
   "metadata": {},
   "source": [
    "Let's start by defining how to calculate employee turnover rate.  According to **nailed** website, employee turnover rate is calculated by dividing the number of employees left within a period, by the averaged number of employees at beginning and at the end of the period, and multiply by 100.\n",
    "\n",
    "![Employee Turnover Rate](./images/etr.png))\n"
   ]
  },
  {
   "metadata": {},
   "cell_type": "markdown",
   "source": [
    "I have also determined that a period is defined by the financial year, that is the year starts in July and ends in June.\n",
    "\n",
    "1. \"July 2022 - June 2023\",\n",
    "2. \"July 2023 - June 2024\",\n",
    "3. \"July 2024 - June 2025\",\n",
    "4. \"July 2025 - June 2026\",\n",
    "5. \"July 2026 - June 2027\",\n",
    "6. \"July 2027 - June 2028\",\n",
    "7. \"July 2028 - June 2029\","
   ],
   "id": "65f94e9dfc4b4008"
  },
  {
   "cell_type": "markdown",
   "id": "95e54b41-a555-4f9a-9dfc-97d21c4d5a13",
   "metadata": {},
   "source": [
    "### Methods"
   ]
  },
  {
   "cell_type": "code",
   "id": "78169dcd-17c0-49bc-b228-c98ad0c3563e",
   "metadata": {
    "ExecuteTime": {
     "end_time": "2025-07-05T18:41:01.520117Z",
     "start_time": "2025-07-05T18:41:01.510076Z"
    }
   },
   "source": [
    "periods = {\n",
    "    1: \"July 2022 - June 2023\",\n",
    "    2: \"July 2023 - June 2024\",\n",
    "    3: \"July 2024 - June 2025\",\n",
    "    4: \"July 2025 - June 2026\",\n",
    "    5: \"July 2026 - June 2027\",\n",
    "    6: \"July 2027 - June 2028\",\n",
    "    7: \"July 2028 - June 2029\",\n",
    "}\n",
    "\n",
    "with duckdb.connect(DUCKDB_FILE) as conn:\n",
    "    business_employees_df = conn.sql(\"\"\"\n",
    "    select * from business_employees\n",
    "order by business_name, \"year\", \"month\", cashier_name\n",
    "    \"\"\").df()\n",
    "\n",
    "    business_employee_summary_df = conn.sql(\"\"\"\n",
    "    select business_name, year, month, month_name, num_employees from business_employee_stats\n",
    "    \"\"\").df()\n"
   ],
   "outputs": [],
   "execution_count": 57
  },
  {
   "metadata": {},
   "cell_type": "markdown",
   "source": "### Initial Employee Data",
   "id": "f2bd8d8eaca21cd2"
  },
  {
   "metadata": {
    "ExecuteTime": {
     "end_time": "2025-07-05T18:41:43.412019Z",
     "start_time": "2025-07-05T18:41:43.408450Z"
    }
   },
   "cell_type": "code",
   "source": "business_employees_df",
   "id": "ca841e39e31097bd",
   "outputs": [
    {
     "data": {
      "text/plain": [
       "            business_name  year  month month_name cashier_name\n",
       "0    Ed's Barber Supplies  2022      7       July      Anthony\n",
       "1    Ed's Barber Supplies  2022      7       July     Jonathon\n",
       "2    Ed's Barber Supplies  2022      8     August      Anthony\n",
       "3    Ed's Barber Supplies  2022      8     August     Jonathon\n",
       "4    Ed's Barber Supplies  2022      9  September      Anthony\n",
       "..                    ...   ...    ...        ...          ...\n",
       "860   Wake Up with Coffee  2029      6       June       Andrew\n",
       "861   Wake Up with Coffee  2029      6       June        Grant\n",
       "862   Wake Up with Coffee  2029      6       June       Hector\n",
       "863   Wake Up with Coffee  2029      6       June     Patricia\n",
       "864   Wake Up with Coffee  2029      6       June       Robert\n",
       "\n",
       "[865 rows x 5 columns]"
      ],
      "text/html": [
       "<div>\n",
       "<style scoped>\n",
       "    .dataframe tbody tr th:only-of-type {\n",
       "        vertical-align: middle;\n",
       "    }\n",
       "\n",
       "    .dataframe tbody tr th {\n",
       "        vertical-align: top;\n",
       "    }\n",
       "\n",
       "    .dataframe thead th {\n",
       "        text-align: right;\n",
       "    }\n",
       "</style>\n",
       "<table border=\"1\" class=\"dataframe\">\n",
       "  <thead>\n",
       "    <tr style=\"text-align: right;\">\n",
       "      <th></th>\n",
       "      <th>business_name</th>\n",
       "      <th>year</th>\n",
       "      <th>month</th>\n",
       "      <th>month_name</th>\n",
       "      <th>cashier_name</th>\n",
       "    </tr>\n",
       "  </thead>\n",
       "  <tbody>\n",
       "    <tr>\n",
       "      <th>0</th>\n",
       "      <td>Ed's Barber Supplies</td>\n",
       "      <td>2022</td>\n",
       "      <td>7</td>\n",
       "      <td>July</td>\n",
       "      <td>Anthony</td>\n",
       "    </tr>\n",
       "    <tr>\n",
       "      <th>1</th>\n",
       "      <td>Ed's Barber Supplies</td>\n",
       "      <td>2022</td>\n",
       "      <td>7</td>\n",
       "      <td>July</td>\n",
       "      <td>Jonathon</td>\n",
       "    </tr>\n",
       "    <tr>\n",
       "      <th>2</th>\n",
       "      <td>Ed's Barber Supplies</td>\n",
       "      <td>2022</td>\n",
       "      <td>8</td>\n",
       "      <td>August</td>\n",
       "      <td>Anthony</td>\n",
       "    </tr>\n",
       "    <tr>\n",
       "      <th>3</th>\n",
       "      <td>Ed's Barber Supplies</td>\n",
       "      <td>2022</td>\n",
       "      <td>8</td>\n",
       "      <td>August</td>\n",
       "      <td>Jonathon</td>\n",
       "    </tr>\n",
       "    <tr>\n",
       "      <th>4</th>\n",
       "      <td>Ed's Barber Supplies</td>\n",
       "      <td>2022</td>\n",
       "      <td>9</td>\n",
       "      <td>September</td>\n",
       "      <td>Anthony</td>\n",
       "    </tr>\n",
       "    <tr>\n",
       "      <th>...</th>\n",
       "      <td>...</td>\n",
       "      <td>...</td>\n",
       "      <td>...</td>\n",
       "      <td>...</td>\n",
       "      <td>...</td>\n",
       "    </tr>\n",
       "    <tr>\n",
       "      <th>860</th>\n",
       "      <td>Wake Up with Coffee</td>\n",
       "      <td>2029</td>\n",
       "      <td>6</td>\n",
       "      <td>June</td>\n",
       "      <td>Andrew</td>\n",
       "    </tr>\n",
       "    <tr>\n",
       "      <th>861</th>\n",
       "      <td>Wake Up with Coffee</td>\n",
       "      <td>2029</td>\n",
       "      <td>6</td>\n",
       "      <td>June</td>\n",
       "      <td>Grant</td>\n",
       "    </tr>\n",
       "    <tr>\n",
       "      <th>862</th>\n",
       "      <td>Wake Up with Coffee</td>\n",
       "      <td>2029</td>\n",
       "      <td>6</td>\n",
       "      <td>June</td>\n",
       "      <td>Hector</td>\n",
       "    </tr>\n",
       "    <tr>\n",
       "      <th>863</th>\n",
       "      <td>Wake Up with Coffee</td>\n",
       "      <td>2029</td>\n",
       "      <td>6</td>\n",
       "      <td>June</td>\n",
       "      <td>Patricia</td>\n",
       "    </tr>\n",
       "    <tr>\n",
       "      <th>864</th>\n",
       "      <td>Wake Up with Coffee</td>\n",
       "      <td>2029</td>\n",
       "      <td>6</td>\n",
       "      <td>June</td>\n",
       "      <td>Robert</td>\n",
       "    </tr>\n",
       "  </tbody>\n",
       "</table>\n",
       "<p>865 rows × 5 columns</p>\n",
       "</div>"
      ]
     },
     "execution_count": 58,
     "metadata": {},
     "output_type": "execute_result"
    }
   ],
   "execution_count": 58
  },
  {
   "metadata": {},
   "cell_type": "markdown",
   "source": "### Active Number of Employee Each Month",
   "id": "f28c287e9415674b"
  },
  {
   "metadata": {
    "ExecuteTime": {
     "end_time": "2025-07-05T18:43:06.873398Z",
     "start_time": "2025-07-05T18:43:06.867056Z"
    }
   },
   "cell_type": "code",
   "source": "business_employee_summary_df",
   "id": "5806e459d1900c03",
   "outputs": [
    {
     "data": {
      "text/plain": [
       "            business_name  year  month month_name  num_employees\n",
       "0    Ed's Barber Supplies  2022      7       July              2\n",
       "1    Ed's Barber Supplies  2022      8     August              2\n",
       "2    Ed's Barber Supplies  2022      9  September              2\n",
       "3    Ed's Barber Supplies  2022     10    October              2\n",
       "4    Ed's Barber Supplies  2022     11   November              2\n",
       "..                    ...   ...    ...        ...            ...\n",
       "331   Wake Up with Coffee  2029      2   February              2\n",
       "332   Wake Up with Coffee  2029      3      March              2\n",
       "333   Wake Up with Coffee  2029      4      April              2\n",
       "334   Wake Up with Coffee  2029      5        May              3\n",
       "335   Wake Up with Coffee  2029      6       June              5\n",
       "\n",
       "[336 rows x 5 columns]"
      ],
      "text/html": [
       "<div>\n",
       "<style scoped>\n",
       "    .dataframe tbody tr th:only-of-type {\n",
       "        vertical-align: middle;\n",
       "    }\n",
       "\n",
       "    .dataframe tbody tr th {\n",
       "        vertical-align: top;\n",
       "    }\n",
       "\n",
       "    .dataframe thead th {\n",
       "        text-align: right;\n",
       "    }\n",
       "</style>\n",
       "<table border=\"1\" class=\"dataframe\">\n",
       "  <thead>\n",
       "    <tr style=\"text-align: right;\">\n",
       "      <th></th>\n",
       "      <th>business_name</th>\n",
       "      <th>year</th>\n",
       "      <th>month</th>\n",
       "      <th>month_name</th>\n",
       "      <th>num_employees</th>\n",
       "    </tr>\n",
       "  </thead>\n",
       "  <tbody>\n",
       "    <tr>\n",
       "      <th>0</th>\n",
       "      <td>Ed's Barber Supplies</td>\n",
       "      <td>2022</td>\n",
       "      <td>7</td>\n",
       "      <td>July</td>\n",
       "      <td>2</td>\n",
       "    </tr>\n",
       "    <tr>\n",
       "      <th>1</th>\n",
       "      <td>Ed's Barber Supplies</td>\n",
       "      <td>2022</td>\n",
       "      <td>8</td>\n",
       "      <td>August</td>\n",
       "      <td>2</td>\n",
       "    </tr>\n",
       "    <tr>\n",
       "      <th>2</th>\n",
       "      <td>Ed's Barber Supplies</td>\n",
       "      <td>2022</td>\n",
       "      <td>9</td>\n",
       "      <td>September</td>\n",
       "      <td>2</td>\n",
       "    </tr>\n",
       "    <tr>\n",
       "      <th>3</th>\n",
       "      <td>Ed's Barber Supplies</td>\n",
       "      <td>2022</td>\n",
       "      <td>10</td>\n",
       "      <td>October</td>\n",
       "      <td>2</td>\n",
       "    </tr>\n",
       "    <tr>\n",
       "      <th>4</th>\n",
       "      <td>Ed's Barber Supplies</td>\n",
       "      <td>2022</td>\n",
       "      <td>11</td>\n",
       "      <td>November</td>\n",
       "      <td>2</td>\n",
       "    </tr>\n",
       "    <tr>\n",
       "      <th>...</th>\n",
       "      <td>...</td>\n",
       "      <td>...</td>\n",
       "      <td>...</td>\n",
       "      <td>...</td>\n",
       "      <td>...</td>\n",
       "    </tr>\n",
       "    <tr>\n",
       "      <th>331</th>\n",
       "      <td>Wake Up with Coffee</td>\n",
       "      <td>2029</td>\n",
       "      <td>2</td>\n",
       "      <td>February</td>\n",
       "      <td>2</td>\n",
       "    </tr>\n",
       "    <tr>\n",
       "      <th>332</th>\n",
       "      <td>Wake Up with Coffee</td>\n",
       "      <td>2029</td>\n",
       "      <td>3</td>\n",
       "      <td>March</td>\n",
       "      <td>2</td>\n",
       "    </tr>\n",
       "    <tr>\n",
       "      <th>333</th>\n",
       "      <td>Wake Up with Coffee</td>\n",
       "      <td>2029</td>\n",
       "      <td>4</td>\n",
       "      <td>April</td>\n",
       "      <td>2</td>\n",
       "    </tr>\n",
       "    <tr>\n",
       "      <th>334</th>\n",
       "      <td>Wake Up with Coffee</td>\n",
       "      <td>2029</td>\n",
       "      <td>5</td>\n",
       "      <td>May</td>\n",
       "      <td>3</td>\n",
       "    </tr>\n",
       "    <tr>\n",
       "      <th>335</th>\n",
       "      <td>Wake Up with Coffee</td>\n",
       "      <td>2029</td>\n",
       "      <td>6</td>\n",
       "      <td>June</td>\n",
       "      <td>5</td>\n",
       "    </tr>\n",
       "  </tbody>\n",
       "</table>\n",
       "<p>336 rows × 5 columns</p>\n",
       "</div>"
      ]
     },
     "execution_count": 60,
     "metadata": {},
     "output_type": "execute_result"
    }
   ],
   "execution_count": 60
  },
  {
   "metadata": {},
   "cell_type": "markdown",
   "source": [
    "### Employee Leaving Stats\n",
    "It is going to be faster for me to complete this step manually, that is to count the number of employee who left during each period."
   ],
   "id": "d615061ff9a36149"
  },
  {
   "metadata": {
    "ExecuteTime": {
     "end_time": "2025-07-05T19:02:58.157958Z",
     "start_time": "2025-07-05T19:02:58.154146Z"
    }
   },
   "cell_type": "code",
   "source": [
    "business_employee_period_df = business_employee_summary_df[business_employee_summary_df[\"month\"].isin([6, 7])].reset_index(drop=True)\n",
    "business_employee_period_df[\"month-year\"] = business_employee_period_df[\"month\"].astype(str) + \"-\" +business_employee_period_df[\"year\"].astype(str)\n",
    "\n",
    "business_employee_period_df = business_employee_summary_df[business_employee_summary_df[\"month\"].isin([6, 7])].reset_index(drop=True)\n",
    "business_employee_period_df[\"month-year\"] = business_employee_period_df[\"month\"].astype(str) + \"-\" +business_employee_period_df[\"year\"].astype(str)\n",
    "\n",
    "businesses = [\"Ed's Barber Supplies\", 'Penguin Swim School', 'Please Bring Pizza Pronto', 'Wake Up with Coffee']\n"
   ],
   "id": "26789879c7880090",
   "outputs": [],
   "execution_count": 66
  },
  {
   "metadata": {},
   "cell_type": "markdown",
   "source": [
    "### Let's find out records of all the active employees/cashiers in each month.\n",
    "From that we will deduce when the employee left.  The month that their names stop appearing on receipts, we will consider that they have left the business."
   ],
   "id": "84cddb1630455f0"
  },
  {
   "metadata": {
    "ExecuteTime": {
     "end_time": "2025-07-05T19:08:15.390135Z",
     "start_time": "2025-07-05T19:08:15.380443Z"
    }
   },
   "cell_type": "code",
   "source": [
    "with duckdb.connect(DUCKDB_FILE) as conn:\n",
    "    ed_employee_att_records_df = conn.sql(f\"SELECT * FROM employee_attendences\").df()\n",
    "\n",
    "ed_employee_att_records_df\n"
   ],
   "id": "b0045ead6c309952",
   "outputs": [
    {
     "data": {
      "text/plain": [
       "            business_name  year  month month_name  \\\n",
       "0    Ed's Barber Supplies  2022      7       July   \n",
       "1    Ed's Barber Supplies  2022      8     August   \n",
       "2    Ed's Barber Supplies  2022      9  September   \n",
       "3    Ed's Barber Supplies  2022     10    October   \n",
       "4    Ed's Barber Supplies  2022     11   November   \n",
       "..                    ...   ...    ...        ...   \n",
       "331   Wake Up with Coffee  2029      2   February   \n",
       "332   Wake Up with Coffee  2029      3      March   \n",
       "333   Wake Up with Coffee  2029      4      April   \n",
       "334   Wake Up with Coffee  2029      5        May   \n",
       "335   Wake Up with Coffee  2029      6       June   \n",
       "\n",
       "                            unique_employees  \n",
       "0                          Anthony, Jonathon  \n",
       "1                          Anthony, Jonathon  \n",
       "2                          Anthony, Jonathon  \n",
       "3                          Anthony, Jonathon  \n",
       "4                          Anthony, Jonathon  \n",
       "..                                       ...  \n",
       "331                            Hector, Kelly  \n",
       "332                            Hector, Kelly  \n",
       "333                            Hector, Kelly  \n",
       "334                    Brian, Hector, Lauren  \n",
       "335  Andrew, Grant, Hector, Patricia, Robert  \n",
       "\n",
       "[336 rows x 5 columns]"
      ],
      "text/html": [
       "<div>\n",
       "<style scoped>\n",
       "    .dataframe tbody tr th:only-of-type {\n",
       "        vertical-align: middle;\n",
       "    }\n",
       "\n",
       "    .dataframe tbody tr th {\n",
       "        vertical-align: top;\n",
       "    }\n",
       "\n",
       "    .dataframe thead th {\n",
       "        text-align: right;\n",
       "    }\n",
       "</style>\n",
       "<table border=\"1\" class=\"dataframe\">\n",
       "  <thead>\n",
       "    <tr style=\"text-align: right;\">\n",
       "      <th></th>\n",
       "      <th>business_name</th>\n",
       "      <th>year</th>\n",
       "      <th>month</th>\n",
       "      <th>month_name</th>\n",
       "      <th>unique_employees</th>\n",
       "    </tr>\n",
       "  </thead>\n",
       "  <tbody>\n",
       "    <tr>\n",
       "      <th>0</th>\n",
       "      <td>Ed's Barber Supplies</td>\n",
       "      <td>2022</td>\n",
       "      <td>7</td>\n",
       "      <td>July</td>\n",
       "      <td>Anthony, Jonathon</td>\n",
       "    </tr>\n",
       "    <tr>\n",
       "      <th>1</th>\n",
       "      <td>Ed's Barber Supplies</td>\n",
       "      <td>2022</td>\n",
       "      <td>8</td>\n",
       "      <td>August</td>\n",
       "      <td>Anthony, Jonathon</td>\n",
       "    </tr>\n",
       "    <tr>\n",
       "      <th>2</th>\n",
       "      <td>Ed's Barber Supplies</td>\n",
       "      <td>2022</td>\n",
       "      <td>9</td>\n",
       "      <td>September</td>\n",
       "      <td>Anthony, Jonathon</td>\n",
       "    </tr>\n",
       "    <tr>\n",
       "      <th>3</th>\n",
       "      <td>Ed's Barber Supplies</td>\n",
       "      <td>2022</td>\n",
       "      <td>10</td>\n",
       "      <td>October</td>\n",
       "      <td>Anthony, Jonathon</td>\n",
       "    </tr>\n",
       "    <tr>\n",
       "      <th>4</th>\n",
       "      <td>Ed's Barber Supplies</td>\n",
       "      <td>2022</td>\n",
       "      <td>11</td>\n",
       "      <td>November</td>\n",
       "      <td>Anthony, Jonathon</td>\n",
       "    </tr>\n",
       "    <tr>\n",
       "      <th>...</th>\n",
       "      <td>...</td>\n",
       "      <td>...</td>\n",
       "      <td>...</td>\n",
       "      <td>...</td>\n",
       "      <td>...</td>\n",
       "    </tr>\n",
       "    <tr>\n",
       "      <th>331</th>\n",
       "      <td>Wake Up with Coffee</td>\n",
       "      <td>2029</td>\n",
       "      <td>2</td>\n",
       "      <td>February</td>\n",
       "      <td>Hector, Kelly</td>\n",
       "    </tr>\n",
       "    <tr>\n",
       "      <th>332</th>\n",
       "      <td>Wake Up with Coffee</td>\n",
       "      <td>2029</td>\n",
       "      <td>3</td>\n",
       "      <td>March</td>\n",
       "      <td>Hector, Kelly</td>\n",
       "    </tr>\n",
       "    <tr>\n",
       "      <th>333</th>\n",
       "      <td>Wake Up with Coffee</td>\n",
       "      <td>2029</td>\n",
       "      <td>4</td>\n",
       "      <td>April</td>\n",
       "      <td>Hector, Kelly</td>\n",
       "    </tr>\n",
       "    <tr>\n",
       "      <th>334</th>\n",
       "      <td>Wake Up with Coffee</td>\n",
       "      <td>2029</td>\n",
       "      <td>5</td>\n",
       "      <td>May</td>\n",
       "      <td>Brian, Hector, Lauren</td>\n",
       "    </tr>\n",
       "    <tr>\n",
       "      <th>335</th>\n",
       "      <td>Wake Up with Coffee</td>\n",
       "      <td>2029</td>\n",
       "      <td>6</td>\n",
       "      <td>June</td>\n",
       "      <td>Andrew, Grant, Hector, Patricia, Robert</td>\n",
       "    </tr>\n",
       "  </tbody>\n",
       "</table>\n",
       "<p>336 rows × 5 columns</p>\n",
       "</div>"
      ]
     },
     "execution_count": 70,
     "metadata": {},
     "output_type": "execute_result"
    }
   ],
   "execution_count": 70
  },
  {
   "metadata": {},
   "cell_type": "markdown",
   "source": "### Records when the employee left, based on the above table",
   "id": "3903d30d77e2d77e"
  },
  {
   "metadata": {
    "ExecuteTime": {
     "end_time": "2025-07-05T19:09:06.974368Z",
     "start_time": "2025-07-05T19:09:06.971376Z"
    }
   },
   "cell_type": "code",
   "source": [
    "# I have manually tallied the number of employees left during each period.\n",
    "employee_left_records = {\n",
    "    \"Ed's Barber Supplies\": {\n",
    "        \"July 2022 - June 2023\": 0,\n",
    "        \"July 2023 - June 2024\": 1, # Anthony\n",
    "        \"July 2024 - June 2025\": 1, # Kathryn\n",
    "        \"July 2025 - June 2026\": 1, # Jonathon\n",
    "        \"July 2026 - June 2027\": 0, #\n",
    "        \"July 2027 - June 2028\": 0, # Eric, Scott, Todd\n",
    "        \"July 2028 - June 2029\": 11 # Natasha, Justin, Jennifer, Olivia, Michael, Juan, Barbara, Carlos, Robert, Cheryl, Ebony\n",
    "        },\n",
    "    \"Penguin Swim School\": {\n",
    "        \"July 2022 - June 2023\": 0,\n",
    "        \"July 2023 - June 2024\": 1, # Theresa\n",
    "        \"July 2024 - June 2025\": 0, #\n",
    "        \"July 2025 - June 2026\": 1, # Jennifer\n",
    "        \"July 2026 - June 2027\": 0, #\n",
    "        \"July 2027 - June 2028\": 0, #\n",
    "        \"July 2028 - June 2029\": 4 # Kevin, Joseph, Mary, Patricia\n",
    "        },\n",
    "    \"Please Bring Pizza Pronto\": {\n",
    "        \"July 2022 - June 2023\": 1, # Christian\n",
    "        \"July 2023 - June 2024\": 1, # August\n",
    "        \"July 2024 - June 2025\": 1, # Tara\n",
    "        \"July 2025 - June 2026\": 0, #\n",
    "        \"July 2026 - June 2027\": 2, # Ronald, Steven\n",
    "        \"July 2027 - June 2028\": 1, # Maurice\n",
    "        \"July 2028 - June 2029\": 1 # Amber\n",
    "        },\n",
    "    \"Wake Up with Coffee\": {\n",
    "        \"July 2022 - June 2023\": 0, #\n",
    "        \"July 2023 - June 2024\": 0, #\n",
    "        \"July 2024 - June 2025\": 0, #\n",
    "        \"July 2025 - June 2026\": 2, # Leslie, Amber\n",
    "        \"July 2026 - June 2027\": 1, # Mary, Matthew\n",
    "        \"July 2027 - June 2028\": 1, # Scott\n",
    "        \"July 2028 - June 2029\": 6  # Diane, Nathaniel, Lauren, Kelly, Brian, Lauren\n",
    "        },\n",
    "    }\n"
   ],
   "id": "40951ee39330bb64",
   "outputs": [],
   "execution_count": 71
  },
  {
   "metadata": {},
   "cell_type": "markdown",
   "source": "### Calculate the Employee Turnover Rate",
   "id": "db7a5559aaa3882e"
  },
  {
   "metadata": {
    "ExecuteTime": {
     "end_time": "2025-07-05T19:10:22.938161Z",
     "start_time": "2025-07-05T19:10:22.921830Z"
    }
   },
   "cell_type": "code",
   "source": [
    "final_stat = pd.DataFrame(columns=[\"business_name\", \"avg_turnover_rate\", \"median_turnover_rate\",])\n",
    "\n",
    "for business_name in businesses:\n",
    "    ed_df = business_employee_period_df[business_employee_period_df[\"business_name\"] == business_name].reset_index(drop=True)\n",
    "    ed_df[\"period\"] = (ed_df.index // 2) + 1\n",
    "    ed_df[\"year_period\"] = ed_df[\"period\"].map(periods)\n",
    "    ed_df = ed_df.pivot(index=[\"business_name\", \"year_period\"], columns=[\"month_name\"], values=\"num_employees\")\n",
    "    ed_df.reset_index(inplace=True)\n",
    "    ed_df[\"annual_avg_employee\"] = (ed_df[\"July\"] + ed_df[\"June\"])/2\n",
    "    ed_df[\"num_employee_left\"] = 0\n",
    "\n",
    "    business_employee_attendances = ed_employee_att_records_df[ed_employee_att_records_df[\"business_name\"] == business_name]\n",
    "    # st.dataframe(business_employee_attendances)\n",
    "    ed_df[\"num_employee_left\"] = ed_df[\"year_period\"].map(employee_left_records[business_name])\n",
    "    ed_df[\"annual_turnover_rate\"] = (ed_df[\"num_employee_left\"] / ed_df[\"annual_avg_employee\"]) * 100\n",
    "\n",
    "    final_stat.loc[len(final_stat)] = [business_name, ed_df[\"annual_turnover_rate\"].mean(), ed_df[\"annual_turnover_rate\"].median()]\n",
    "    \n",
    "final_stat[\"avg_turnover_rate\"] = final_stat[\"avg_turnover_rate\"].round(2)\n",
    "final_stat"
   ],
   "id": "b192eb44057b87ce",
   "outputs": [
    {
     "data": {
      "text/plain": [
       "               business_name  avg_turnover_rate  median_turnover_rate\n",
       "0       Ed's Barber Supplies              62.04                  40.0\n",
       "1        Penguin Swim School              38.37                   0.0\n",
       "2  Please Bring Pizza Pronto              36.26                  40.0\n",
       "3        Wake Up with Coffee              46.87                  40.0"
      ],
      "text/html": [
       "<div>\n",
       "<style scoped>\n",
       "    .dataframe tbody tr th:only-of-type {\n",
       "        vertical-align: middle;\n",
       "    }\n",
       "\n",
       "    .dataframe tbody tr th {\n",
       "        vertical-align: top;\n",
       "    }\n",
       "\n",
       "    .dataframe thead th {\n",
       "        text-align: right;\n",
       "    }\n",
       "</style>\n",
       "<table border=\"1\" class=\"dataframe\">\n",
       "  <thead>\n",
       "    <tr style=\"text-align: right;\">\n",
       "      <th></th>\n",
       "      <th>business_name</th>\n",
       "      <th>avg_turnover_rate</th>\n",
       "      <th>median_turnover_rate</th>\n",
       "    </tr>\n",
       "  </thead>\n",
       "  <tbody>\n",
       "    <tr>\n",
       "      <th>0</th>\n",
       "      <td>Ed's Barber Supplies</td>\n",
       "      <td>62.04</td>\n",
       "      <td>40.0</td>\n",
       "    </tr>\n",
       "    <tr>\n",
       "      <th>1</th>\n",
       "      <td>Penguin Swim School</td>\n",
       "      <td>38.37</td>\n",
       "      <td>0.0</td>\n",
       "    </tr>\n",
       "    <tr>\n",
       "      <th>2</th>\n",
       "      <td>Please Bring Pizza Pronto</td>\n",
       "      <td>36.26</td>\n",
       "      <td>40.0</td>\n",
       "    </tr>\n",
       "    <tr>\n",
       "      <th>3</th>\n",
       "      <td>Wake Up with Coffee</td>\n",
       "      <td>46.87</td>\n",
       "      <td>40.0</td>\n",
       "    </tr>\n",
       "  </tbody>\n",
       "</table>\n",
       "</div>"
      ]
     },
     "execution_count": 73,
     "metadata": {},
     "output_type": "execute_result"
    }
   ],
   "execution_count": 73
  },
  {
   "metadata": {
    "ExecuteTime": {
     "end_time": "2025-07-05T19:11:33.230633Z",
     "start_time": "2025-07-05T19:11:33.226037Z"
    }
   },
   "cell_type": "code",
   "source": [
    "colours = [\"#fb5607\", \"#ff006e\",]\n",
    "data = [go.Bar(name=\"Avg. Turnover Rate\", x=final_stat[\"business_name\"], y=final_stat[\"avg_turnover_rate\"],\n",
    "               text=final_stat[\"avg_turnover_rate\"], marker=dict(color=colours[0])),\n",
    "        go.Bar(name=\"Med. Turnover Rate\", x=final_stat[\"business_name\"], y=final_stat[\"median_turnover_rate\"],\n",
    "               text=final_stat[\"median_turnover_rate\"], marker=dict(color=colours[1])),]\n",
    "fig = go.Figure(data=data)\n",
    "fig.update_layout(barmode=\"group\")\n",
    "fig.show()"
   ],
   "id": "8d2627f2b2028035",
   "outputs": [
    {
     "data": {
      "application/vnd.plotly.v1+json": {
       "data": [
        {
         "marker": {
          "color": "#fb5607"
         },
         "name": "Avg. Turnover Rate",
         "text": [
          62.04,
          38.37,
          36.26,
          46.87
         ],
         "x": [
          "Ed's Barber Supplies",
          "Penguin Swim School",
          "Please Bring Pizza Pronto",
          "Wake Up with Coffee"
         ],
         "y": [
          62.04,
          38.37,
          36.26,
          46.87
         ],
         "type": "bar"
        },
        {
         "marker": {
          "color": "#ff006e"
         },
         "name": "Med. Turnover Rate",
         "text": [
          40.0,
          0.0,
          40.0,
          40.0
         ],
         "x": [
          "Ed's Barber Supplies",
          "Penguin Swim School",
          "Please Bring Pizza Pronto",
          "Wake Up with Coffee"
         ],
         "y": [
          40.0,
          0.0,
          40.0,
          40.0
         ],
         "type": "bar"
        }
       ],
       "layout": {
        "template": {
         "data": {
          "histogram2dcontour": [
           {
            "type": "histogram2dcontour",
            "colorbar": {
             "outlinewidth": 0,
             "ticks": ""
            },
            "colorscale": [
             [
              0.0,
              "#0d0887"
             ],
             [
              0.1111111111111111,
              "#46039f"
             ],
             [
              0.2222222222222222,
              "#7201a8"
             ],
             [
              0.3333333333333333,
              "#9c179e"
             ],
             [
              0.4444444444444444,
              "#bd3786"
             ],
             [
              0.5555555555555556,
              "#d8576b"
             ],
             [
              0.6666666666666666,
              "#ed7953"
             ],
             [
              0.7777777777777778,
              "#fb9f3a"
             ],
             [
              0.8888888888888888,
              "#fdca26"
             ],
             [
              1.0,
              "#f0f921"
             ]
            ]
           }
          ],
          "choropleth": [
           {
            "type": "choropleth",
            "colorbar": {
             "outlinewidth": 0,
             "ticks": ""
            }
           }
          ],
          "histogram2d": [
           {
            "type": "histogram2d",
            "colorbar": {
             "outlinewidth": 0,
             "ticks": ""
            },
            "colorscale": [
             [
              0.0,
              "#0d0887"
             ],
             [
              0.1111111111111111,
              "#46039f"
             ],
             [
              0.2222222222222222,
              "#7201a8"
             ],
             [
              0.3333333333333333,
              "#9c179e"
             ],
             [
              0.4444444444444444,
              "#bd3786"
             ],
             [
              0.5555555555555556,
              "#d8576b"
             ],
             [
              0.6666666666666666,
              "#ed7953"
             ],
             [
              0.7777777777777778,
              "#fb9f3a"
             ],
             [
              0.8888888888888888,
              "#fdca26"
             ],
             [
              1.0,
              "#f0f921"
             ]
            ]
           }
          ],
          "heatmap": [
           {
            "type": "heatmap",
            "colorbar": {
             "outlinewidth": 0,
             "ticks": ""
            },
            "colorscale": [
             [
              0.0,
              "#0d0887"
             ],
             [
              0.1111111111111111,
              "#46039f"
             ],
             [
              0.2222222222222222,
              "#7201a8"
             ],
             [
              0.3333333333333333,
              "#9c179e"
             ],
             [
              0.4444444444444444,
              "#bd3786"
             ],
             [
              0.5555555555555556,
              "#d8576b"
             ],
             [
              0.6666666666666666,
              "#ed7953"
             ],
             [
              0.7777777777777778,
              "#fb9f3a"
             ],
             [
              0.8888888888888888,
              "#fdca26"
             ],
             [
              1.0,
              "#f0f921"
             ]
            ]
           }
          ],
          "heatmapgl": [
           {
            "type": "heatmapgl",
            "colorbar": {
             "outlinewidth": 0,
             "ticks": ""
            },
            "colorscale": [
             [
              0.0,
              "#0d0887"
             ],
             [
              0.1111111111111111,
              "#46039f"
             ],
             [
              0.2222222222222222,
              "#7201a8"
             ],
             [
              0.3333333333333333,
              "#9c179e"
             ],
             [
              0.4444444444444444,
              "#bd3786"
             ],
             [
              0.5555555555555556,
              "#d8576b"
             ],
             [
              0.6666666666666666,
              "#ed7953"
             ],
             [
              0.7777777777777778,
              "#fb9f3a"
             ],
             [
              0.8888888888888888,
              "#fdca26"
             ],
             [
              1.0,
              "#f0f921"
             ]
            ]
           }
          ],
          "contourcarpet": [
           {
            "type": "contourcarpet",
            "colorbar": {
             "outlinewidth": 0,
             "ticks": ""
            }
           }
          ],
          "contour": [
           {
            "type": "contour",
            "colorbar": {
             "outlinewidth": 0,
             "ticks": ""
            },
            "colorscale": [
             [
              0.0,
              "#0d0887"
             ],
             [
              0.1111111111111111,
              "#46039f"
             ],
             [
              0.2222222222222222,
              "#7201a8"
             ],
             [
              0.3333333333333333,
              "#9c179e"
             ],
             [
              0.4444444444444444,
              "#bd3786"
             ],
             [
              0.5555555555555556,
              "#d8576b"
             ],
             [
              0.6666666666666666,
              "#ed7953"
             ],
             [
              0.7777777777777778,
              "#fb9f3a"
             ],
             [
              0.8888888888888888,
              "#fdca26"
             ],
             [
              1.0,
              "#f0f921"
             ]
            ]
           }
          ],
          "surface": [
           {
            "type": "surface",
            "colorbar": {
             "outlinewidth": 0,
             "ticks": ""
            },
            "colorscale": [
             [
              0.0,
              "#0d0887"
             ],
             [
              0.1111111111111111,
              "#46039f"
             ],
             [
              0.2222222222222222,
              "#7201a8"
             ],
             [
              0.3333333333333333,
              "#9c179e"
             ],
             [
              0.4444444444444444,
              "#bd3786"
             ],
             [
              0.5555555555555556,
              "#d8576b"
             ],
             [
              0.6666666666666666,
              "#ed7953"
             ],
             [
              0.7777777777777778,
              "#fb9f3a"
             ],
             [
              0.8888888888888888,
              "#fdca26"
             ],
             [
              1.0,
              "#f0f921"
             ]
            ]
           }
          ],
          "mesh3d": [
           {
            "type": "mesh3d",
            "colorbar": {
             "outlinewidth": 0,
             "ticks": ""
            }
           }
          ],
          "scatter": [
           {
            "fillpattern": {
             "fillmode": "overlay",
             "size": 10,
             "solidity": 0.2
            },
            "type": "scatter"
           }
          ],
          "parcoords": [
           {
            "type": "parcoords",
            "line": {
             "colorbar": {
              "outlinewidth": 0,
              "ticks": ""
             }
            }
           }
          ],
          "scatterpolargl": [
           {
            "type": "scatterpolargl",
            "marker": {
             "colorbar": {
              "outlinewidth": 0,
              "ticks": ""
             }
            }
           }
          ],
          "bar": [
           {
            "error_x": {
             "color": "#2a3f5f"
            },
            "error_y": {
             "color": "#2a3f5f"
            },
            "marker": {
             "line": {
              "color": "#E5ECF6",
              "width": 0.5
             },
             "pattern": {
              "fillmode": "overlay",
              "size": 10,
              "solidity": 0.2
             }
            },
            "type": "bar"
           }
          ],
          "scattergeo": [
           {
            "type": "scattergeo",
            "marker": {
             "colorbar": {
              "outlinewidth": 0,
              "ticks": ""
             }
            }
           }
          ],
          "scatterpolar": [
           {
            "type": "scatterpolar",
            "marker": {
             "colorbar": {
              "outlinewidth": 0,
              "ticks": ""
             }
            }
           }
          ],
          "histogram": [
           {
            "marker": {
             "pattern": {
              "fillmode": "overlay",
              "size": 10,
              "solidity": 0.2
             }
            },
            "type": "histogram"
           }
          ],
          "scattergl": [
           {
            "type": "scattergl",
            "marker": {
             "colorbar": {
              "outlinewidth": 0,
              "ticks": ""
             }
            }
           }
          ],
          "scatter3d": [
           {
            "type": "scatter3d",
            "line": {
             "colorbar": {
              "outlinewidth": 0,
              "ticks": ""
             }
            },
            "marker": {
             "colorbar": {
              "outlinewidth": 0,
              "ticks": ""
             }
            }
           }
          ],
          "scattermapbox": [
           {
            "type": "scattermapbox",
            "marker": {
             "colorbar": {
              "outlinewidth": 0,
              "ticks": ""
             }
            }
           }
          ],
          "scatterternary": [
           {
            "type": "scatterternary",
            "marker": {
             "colorbar": {
              "outlinewidth": 0,
              "ticks": ""
             }
            }
           }
          ],
          "scattercarpet": [
           {
            "type": "scattercarpet",
            "marker": {
             "colorbar": {
              "outlinewidth": 0,
              "ticks": ""
             }
            }
           }
          ],
          "carpet": [
           {
            "aaxis": {
             "endlinecolor": "#2a3f5f",
             "gridcolor": "white",
             "linecolor": "white",
             "minorgridcolor": "white",
             "startlinecolor": "#2a3f5f"
            },
            "baxis": {
             "endlinecolor": "#2a3f5f",
             "gridcolor": "white",
             "linecolor": "white",
             "minorgridcolor": "white",
             "startlinecolor": "#2a3f5f"
            },
            "type": "carpet"
           }
          ],
          "table": [
           {
            "cells": {
             "fill": {
              "color": "#EBF0F8"
             },
             "line": {
              "color": "white"
             }
            },
            "header": {
             "fill": {
              "color": "#C8D4E3"
             },
             "line": {
              "color": "white"
             }
            },
            "type": "table"
           }
          ],
          "barpolar": [
           {
            "marker": {
             "line": {
              "color": "#E5ECF6",
              "width": 0.5
             },
             "pattern": {
              "fillmode": "overlay",
              "size": 10,
              "solidity": 0.2
             }
            },
            "type": "barpolar"
           }
          ],
          "pie": [
           {
            "automargin": true,
            "type": "pie"
           }
          ]
         },
         "layout": {
          "autotypenumbers": "strict",
          "colorway": [
           "#636efa",
           "#EF553B",
           "#00cc96",
           "#ab63fa",
           "#FFA15A",
           "#19d3f3",
           "#FF6692",
           "#B6E880",
           "#FF97FF",
           "#FECB52"
          ],
          "font": {
           "color": "#2a3f5f"
          },
          "hovermode": "closest",
          "hoverlabel": {
           "align": "left"
          },
          "paper_bgcolor": "white",
          "plot_bgcolor": "#E5ECF6",
          "polar": {
           "bgcolor": "#E5ECF6",
           "angularaxis": {
            "gridcolor": "white",
            "linecolor": "white",
            "ticks": ""
           },
           "radialaxis": {
            "gridcolor": "white",
            "linecolor": "white",
            "ticks": ""
           }
          },
          "ternary": {
           "bgcolor": "#E5ECF6",
           "aaxis": {
            "gridcolor": "white",
            "linecolor": "white",
            "ticks": ""
           },
           "baxis": {
            "gridcolor": "white",
            "linecolor": "white",
            "ticks": ""
           },
           "caxis": {
            "gridcolor": "white",
            "linecolor": "white",
            "ticks": ""
           }
          },
          "coloraxis": {
           "colorbar": {
            "outlinewidth": 0,
            "ticks": ""
           }
          },
          "colorscale": {
           "sequential": [
            [
             0.0,
             "#0d0887"
            ],
            [
             0.1111111111111111,
             "#46039f"
            ],
            [
             0.2222222222222222,
             "#7201a8"
            ],
            [
             0.3333333333333333,
             "#9c179e"
            ],
            [
             0.4444444444444444,
             "#bd3786"
            ],
            [
             0.5555555555555556,
             "#d8576b"
            ],
            [
             0.6666666666666666,
             "#ed7953"
            ],
            [
             0.7777777777777778,
             "#fb9f3a"
            ],
            [
             0.8888888888888888,
             "#fdca26"
            ],
            [
             1.0,
             "#f0f921"
            ]
           ],
           "sequentialminus": [
            [
             0.0,
             "#0d0887"
            ],
            [
             0.1111111111111111,
             "#46039f"
            ],
            [
             0.2222222222222222,
             "#7201a8"
            ],
            [
             0.3333333333333333,
             "#9c179e"
            ],
            [
             0.4444444444444444,
             "#bd3786"
            ],
            [
             0.5555555555555556,
             "#d8576b"
            ],
            [
             0.6666666666666666,
             "#ed7953"
            ],
            [
             0.7777777777777778,
             "#fb9f3a"
            ],
            [
             0.8888888888888888,
             "#fdca26"
            ],
            [
             1.0,
             "#f0f921"
            ]
           ],
           "diverging": [
            [
             0,
             "#8e0152"
            ],
            [
             0.1,
             "#c51b7d"
            ],
            [
             0.2,
             "#de77ae"
            ],
            [
             0.3,
             "#f1b6da"
            ],
            [
             0.4,
             "#fde0ef"
            ],
            [
             0.5,
             "#f7f7f7"
            ],
            [
             0.6,
             "#e6f5d0"
            ],
            [
             0.7,
             "#b8e186"
            ],
            [
             0.8,
             "#7fbc41"
            ],
            [
             0.9,
             "#4d9221"
            ],
            [
             1,
             "#276419"
            ]
           ]
          },
          "xaxis": {
           "gridcolor": "white",
           "linecolor": "white",
           "ticks": "",
           "title": {
            "standoff": 15
           },
           "zerolinecolor": "white",
           "automargin": true,
           "zerolinewidth": 2
          },
          "yaxis": {
           "gridcolor": "white",
           "linecolor": "white",
           "ticks": "",
           "title": {
            "standoff": 15
           },
           "zerolinecolor": "white",
           "automargin": true,
           "zerolinewidth": 2
          },
          "scene": {
           "xaxis": {
            "backgroundcolor": "#E5ECF6",
            "gridcolor": "white",
            "linecolor": "white",
            "showbackground": true,
            "ticks": "",
            "zerolinecolor": "white",
            "gridwidth": 2
           },
           "yaxis": {
            "backgroundcolor": "#E5ECF6",
            "gridcolor": "white",
            "linecolor": "white",
            "showbackground": true,
            "ticks": "",
            "zerolinecolor": "white",
            "gridwidth": 2
           },
           "zaxis": {
            "backgroundcolor": "#E5ECF6",
            "gridcolor": "white",
            "linecolor": "white",
            "showbackground": true,
            "ticks": "",
            "zerolinecolor": "white",
            "gridwidth": 2
           }
          },
          "shapedefaults": {
           "line": {
            "color": "#2a3f5f"
           }
          },
          "annotationdefaults": {
           "arrowcolor": "#2a3f5f",
           "arrowhead": 0,
           "arrowwidth": 1
          },
          "geo": {
           "bgcolor": "white",
           "landcolor": "#E5ECF6",
           "subunitcolor": "white",
           "showland": true,
           "showlakes": true,
           "lakecolor": "white"
          },
          "title": {
           "x": 0.05
          },
          "mapbox": {
           "style": "light"
          }
         }
        },
        "barmode": "group"
       },
       "config": {
        "plotlyServerURL": "https://plot.ly"
       }
      },
      "text/html": [
       "<div>                            <div id=\"b3a0132b-014e-4c2a-99e9-345f2e924778\" class=\"plotly-graph-div\" style=\"height:525px; width:100%;\"></div>            <script type=\"text/javascript\">                require([\"plotly\"], function(Plotly) {                    window.PLOTLYENV=window.PLOTLYENV || {};                                    if (document.getElementById(\"b3a0132b-014e-4c2a-99e9-345f2e924778\")) {                    Plotly.newPlot(                        \"b3a0132b-014e-4c2a-99e9-345f2e924778\",                        [{\"marker\":{\"color\":\"#fb5607\"},\"name\":\"Avg. Turnover Rate\",\"text\":[62.04,38.37,36.26,46.87],\"x\":[\"Ed's Barber Supplies\",\"Penguin Swim School\",\"Please Bring Pizza Pronto\",\"Wake Up with Coffee\"],\"y\":[62.04,38.37,36.26,46.87],\"type\":\"bar\"},{\"marker\":{\"color\":\"#ff006e\"},\"name\":\"Med. Turnover Rate\",\"text\":[40.0,0.0,40.0,40.0],\"x\":[\"Ed's Barber Supplies\",\"Penguin Swim School\",\"Please Bring Pizza Pronto\",\"Wake Up with Coffee\"],\"y\":[40.0,0.0,40.0,40.0],\"type\":\"bar\"}],                        {\"template\":{\"data\":{\"histogram2dcontour\":[{\"type\":\"histogram2dcontour\",\"colorbar\":{\"outlinewidth\":0,\"ticks\":\"\"},\"colorscale\":[[0.0,\"#0d0887\"],[0.1111111111111111,\"#46039f\"],[0.2222222222222222,\"#7201a8\"],[0.3333333333333333,\"#9c179e\"],[0.4444444444444444,\"#bd3786\"],[0.5555555555555556,\"#d8576b\"],[0.6666666666666666,\"#ed7953\"],[0.7777777777777778,\"#fb9f3a\"],[0.8888888888888888,\"#fdca26\"],[1.0,\"#f0f921\"]]}],\"choropleth\":[{\"type\":\"choropleth\",\"colorbar\":{\"outlinewidth\":0,\"ticks\":\"\"}}],\"histogram2d\":[{\"type\":\"histogram2d\",\"colorbar\":{\"outlinewidth\":0,\"ticks\":\"\"},\"colorscale\":[[0.0,\"#0d0887\"],[0.1111111111111111,\"#46039f\"],[0.2222222222222222,\"#7201a8\"],[0.3333333333333333,\"#9c179e\"],[0.4444444444444444,\"#bd3786\"],[0.5555555555555556,\"#d8576b\"],[0.6666666666666666,\"#ed7953\"],[0.7777777777777778,\"#fb9f3a\"],[0.8888888888888888,\"#fdca26\"],[1.0,\"#f0f921\"]]}],\"heatmap\":[{\"type\":\"heatmap\",\"colorbar\":{\"outlinewidth\":0,\"ticks\":\"\"},\"colorscale\":[[0.0,\"#0d0887\"],[0.1111111111111111,\"#46039f\"],[0.2222222222222222,\"#7201a8\"],[0.3333333333333333,\"#9c179e\"],[0.4444444444444444,\"#bd3786\"],[0.5555555555555556,\"#d8576b\"],[0.6666666666666666,\"#ed7953\"],[0.7777777777777778,\"#fb9f3a\"],[0.8888888888888888,\"#fdca26\"],[1.0,\"#f0f921\"]]}],\"heatmapgl\":[{\"type\":\"heatmapgl\",\"colorbar\":{\"outlinewidth\":0,\"ticks\":\"\"},\"colorscale\":[[0.0,\"#0d0887\"],[0.1111111111111111,\"#46039f\"],[0.2222222222222222,\"#7201a8\"],[0.3333333333333333,\"#9c179e\"],[0.4444444444444444,\"#bd3786\"],[0.5555555555555556,\"#d8576b\"],[0.6666666666666666,\"#ed7953\"],[0.7777777777777778,\"#fb9f3a\"],[0.8888888888888888,\"#fdca26\"],[1.0,\"#f0f921\"]]}],\"contourcarpet\":[{\"type\":\"contourcarpet\",\"colorbar\":{\"outlinewidth\":0,\"ticks\":\"\"}}],\"contour\":[{\"type\":\"contour\",\"colorbar\":{\"outlinewidth\":0,\"ticks\":\"\"},\"colorscale\":[[0.0,\"#0d0887\"],[0.1111111111111111,\"#46039f\"],[0.2222222222222222,\"#7201a8\"],[0.3333333333333333,\"#9c179e\"],[0.4444444444444444,\"#bd3786\"],[0.5555555555555556,\"#d8576b\"],[0.6666666666666666,\"#ed7953\"],[0.7777777777777778,\"#fb9f3a\"],[0.8888888888888888,\"#fdca26\"],[1.0,\"#f0f921\"]]}],\"surface\":[{\"type\":\"surface\",\"colorbar\":{\"outlinewidth\":0,\"ticks\":\"\"},\"colorscale\":[[0.0,\"#0d0887\"],[0.1111111111111111,\"#46039f\"],[0.2222222222222222,\"#7201a8\"],[0.3333333333333333,\"#9c179e\"],[0.4444444444444444,\"#bd3786\"],[0.5555555555555556,\"#d8576b\"],[0.6666666666666666,\"#ed7953\"],[0.7777777777777778,\"#fb9f3a\"],[0.8888888888888888,\"#fdca26\"],[1.0,\"#f0f921\"]]}],\"mesh3d\":[{\"type\":\"mesh3d\",\"colorbar\":{\"outlinewidth\":0,\"ticks\":\"\"}}],\"scatter\":[{\"fillpattern\":{\"fillmode\":\"overlay\",\"size\":10,\"solidity\":0.2},\"type\":\"scatter\"}],\"parcoords\":[{\"type\":\"parcoords\",\"line\":{\"colorbar\":{\"outlinewidth\":0,\"ticks\":\"\"}}}],\"scatterpolargl\":[{\"type\":\"scatterpolargl\",\"marker\":{\"colorbar\":{\"outlinewidth\":0,\"ticks\":\"\"}}}],\"bar\":[{\"error_x\":{\"color\":\"#2a3f5f\"},\"error_y\":{\"color\":\"#2a3f5f\"},\"marker\":{\"line\":{\"color\":\"#E5ECF6\",\"width\":0.5},\"pattern\":{\"fillmode\":\"overlay\",\"size\":10,\"solidity\":0.2}},\"type\":\"bar\"}],\"scattergeo\":[{\"type\":\"scattergeo\",\"marker\":{\"colorbar\":{\"outlinewidth\":0,\"ticks\":\"\"}}}],\"scatterpolar\":[{\"type\":\"scatterpolar\",\"marker\":{\"colorbar\":{\"outlinewidth\":0,\"ticks\":\"\"}}}],\"histogram\":[{\"marker\":{\"pattern\":{\"fillmode\":\"overlay\",\"size\":10,\"solidity\":0.2}},\"type\":\"histogram\"}],\"scattergl\":[{\"type\":\"scattergl\",\"marker\":{\"colorbar\":{\"outlinewidth\":0,\"ticks\":\"\"}}}],\"scatter3d\":[{\"type\":\"scatter3d\",\"line\":{\"colorbar\":{\"outlinewidth\":0,\"ticks\":\"\"}},\"marker\":{\"colorbar\":{\"outlinewidth\":0,\"ticks\":\"\"}}}],\"scattermapbox\":[{\"type\":\"scattermapbox\",\"marker\":{\"colorbar\":{\"outlinewidth\":0,\"ticks\":\"\"}}}],\"scatterternary\":[{\"type\":\"scatterternary\",\"marker\":{\"colorbar\":{\"outlinewidth\":0,\"ticks\":\"\"}}}],\"scattercarpet\":[{\"type\":\"scattercarpet\",\"marker\":{\"colorbar\":{\"outlinewidth\":0,\"ticks\":\"\"}}}],\"carpet\":[{\"aaxis\":{\"endlinecolor\":\"#2a3f5f\",\"gridcolor\":\"white\",\"linecolor\":\"white\",\"minorgridcolor\":\"white\",\"startlinecolor\":\"#2a3f5f\"},\"baxis\":{\"endlinecolor\":\"#2a3f5f\",\"gridcolor\":\"white\",\"linecolor\":\"white\",\"minorgridcolor\":\"white\",\"startlinecolor\":\"#2a3f5f\"},\"type\":\"carpet\"}],\"table\":[{\"cells\":{\"fill\":{\"color\":\"#EBF0F8\"},\"line\":{\"color\":\"white\"}},\"header\":{\"fill\":{\"color\":\"#C8D4E3\"},\"line\":{\"color\":\"white\"}},\"type\":\"table\"}],\"barpolar\":[{\"marker\":{\"line\":{\"color\":\"#E5ECF6\",\"width\":0.5},\"pattern\":{\"fillmode\":\"overlay\",\"size\":10,\"solidity\":0.2}},\"type\":\"barpolar\"}],\"pie\":[{\"automargin\":true,\"type\":\"pie\"}]},\"layout\":{\"autotypenumbers\":\"strict\",\"colorway\":[\"#636efa\",\"#EF553B\",\"#00cc96\",\"#ab63fa\",\"#FFA15A\",\"#19d3f3\",\"#FF6692\",\"#B6E880\",\"#FF97FF\",\"#FECB52\"],\"font\":{\"color\":\"#2a3f5f\"},\"hovermode\":\"closest\",\"hoverlabel\":{\"align\":\"left\"},\"paper_bgcolor\":\"white\",\"plot_bgcolor\":\"#E5ECF6\",\"polar\":{\"bgcolor\":\"#E5ECF6\",\"angularaxis\":{\"gridcolor\":\"white\",\"linecolor\":\"white\",\"ticks\":\"\"},\"radialaxis\":{\"gridcolor\":\"white\",\"linecolor\":\"white\",\"ticks\":\"\"}},\"ternary\":{\"bgcolor\":\"#E5ECF6\",\"aaxis\":{\"gridcolor\":\"white\",\"linecolor\":\"white\",\"ticks\":\"\"},\"baxis\":{\"gridcolor\":\"white\",\"linecolor\":\"white\",\"ticks\":\"\"},\"caxis\":{\"gridcolor\":\"white\",\"linecolor\":\"white\",\"ticks\":\"\"}},\"coloraxis\":{\"colorbar\":{\"outlinewidth\":0,\"ticks\":\"\"}},\"colorscale\":{\"sequential\":[[0.0,\"#0d0887\"],[0.1111111111111111,\"#46039f\"],[0.2222222222222222,\"#7201a8\"],[0.3333333333333333,\"#9c179e\"],[0.4444444444444444,\"#bd3786\"],[0.5555555555555556,\"#d8576b\"],[0.6666666666666666,\"#ed7953\"],[0.7777777777777778,\"#fb9f3a\"],[0.8888888888888888,\"#fdca26\"],[1.0,\"#f0f921\"]],\"sequentialminus\":[[0.0,\"#0d0887\"],[0.1111111111111111,\"#46039f\"],[0.2222222222222222,\"#7201a8\"],[0.3333333333333333,\"#9c179e\"],[0.4444444444444444,\"#bd3786\"],[0.5555555555555556,\"#d8576b\"],[0.6666666666666666,\"#ed7953\"],[0.7777777777777778,\"#fb9f3a\"],[0.8888888888888888,\"#fdca26\"],[1.0,\"#f0f921\"]],\"diverging\":[[0,\"#8e0152\"],[0.1,\"#c51b7d\"],[0.2,\"#de77ae\"],[0.3,\"#f1b6da\"],[0.4,\"#fde0ef\"],[0.5,\"#f7f7f7\"],[0.6,\"#e6f5d0\"],[0.7,\"#b8e186\"],[0.8,\"#7fbc41\"],[0.9,\"#4d9221\"],[1,\"#276419\"]]},\"xaxis\":{\"gridcolor\":\"white\",\"linecolor\":\"white\",\"ticks\":\"\",\"title\":{\"standoff\":15},\"zerolinecolor\":\"white\",\"automargin\":true,\"zerolinewidth\":2},\"yaxis\":{\"gridcolor\":\"white\",\"linecolor\":\"white\",\"ticks\":\"\",\"title\":{\"standoff\":15},\"zerolinecolor\":\"white\",\"automargin\":true,\"zerolinewidth\":2},\"scene\":{\"xaxis\":{\"backgroundcolor\":\"#E5ECF6\",\"gridcolor\":\"white\",\"linecolor\":\"white\",\"showbackground\":true,\"ticks\":\"\",\"zerolinecolor\":\"white\",\"gridwidth\":2},\"yaxis\":{\"backgroundcolor\":\"#E5ECF6\",\"gridcolor\":\"white\",\"linecolor\":\"white\",\"showbackground\":true,\"ticks\":\"\",\"zerolinecolor\":\"white\",\"gridwidth\":2},\"zaxis\":{\"backgroundcolor\":\"#E5ECF6\",\"gridcolor\":\"white\",\"linecolor\":\"white\",\"showbackground\":true,\"ticks\":\"\",\"zerolinecolor\":\"white\",\"gridwidth\":2}},\"shapedefaults\":{\"line\":{\"color\":\"#2a3f5f\"}},\"annotationdefaults\":{\"arrowcolor\":\"#2a3f5f\",\"arrowhead\":0,\"arrowwidth\":1},\"geo\":{\"bgcolor\":\"white\",\"landcolor\":\"#E5ECF6\",\"subunitcolor\":\"white\",\"showland\":true,\"showlakes\":true,\"lakecolor\":\"white\"},\"title\":{\"x\":0.05},\"mapbox\":{\"style\":\"light\"}}},\"barmode\":\"group\"},                        {\"responsive\": true}                    ).then(function(){\n",
       "                            \n",
       "var gd = document.getElementById('b3a0132b-014e-4c2a-99e9-345f2e924778');\n",
       "var x = new MutationObserver(function (mutations, observer) {{\n",
       "        var display = window.getComputedStyle(gd).display;\n",
       "        if (!display || display === 'none') {{\n",
       "            console.log([gd, 'removed!']);\n",
       "            Plotly.purge(gd);\n",
       "            observer.disconnect();\n",
       "        }}\n",
       "}});\n",
       "\n",
       "// Listen for the removal of the full notebook cells\n",
       "var notebookContainer = gd.closest('#notebook-container');\n",
       "if (notebookContainer) {{\n",
       "    x.observe(notebookContainer, {childList: true});\n",
       "}}\n",
       "\n",
       "// Listen for the clearing of the current output cell\n",
       "var outputEl = gd.closest('.output');\n",
       "if (outputEl) {{\n",
       "    x.observe(outputEl, {childList: true});\n",
       "}}\n",
       "\n",
       "                        })                };                });            </script>        </div>"
      ]
     },
     "metadata": {},
     "output_type": "display_data"
    }
   ],
   "execution_count": 74
  },
  {
   "cell_type": "markdown",
   "id": "981608c9-cafe-41c5-a60b-f1786c8639c6",
   "metadata": {},
   "source": [
    "### Discussion"
   ]
  },
  {
   "cell_type": "markdown",
   "id": "4e4b0b8d-a6cb-4683-830e-4fc4f7eeee21",
   "metadata": {
    "tags": []
   },
   "source": [
    "Employee turnover rate is a crucial metric for businesses to understand the stability of their workforce.\n",
    "\n",
    "It is rather depressing to look at the table above, but we have to take into consideration that these are very \n",
    "small businesses with 1-5 employees at any given time. Losing just one or two employees a year will cause the \n",
    "employee turnover rate to spike. In general, these businesses may lose 0-2 employees a year. However, for some \n",
    "reason, during the period from July 2028 to July 2029, these businesses churned through employees, which caused \n",
    "the employee turnover rate to increase suddenly and skew the result.\n",
    "\n",
    "If you look at Penguin Swim School for example, its averaged employee turnover rate is 38.37% but it's median turnover rate is 0%.  That is because most year they hardly loose any employee, but then on the last financial year, they **maybe** made some bad hiring decisions and went through a lot more number of employees and thus caused the averaged turnover rate to increase sharply.\n",
    "\n",
    "The averaged employee turnover rates of the businesses ares:\n",
    "1. Ed's Barber Supplies - 62.04%\n",
    "2. Penguin Swim School - 38.37%\n",
    "3. Please Bring Pizza Pronto - 36.26%\n",
    "4. Wake Up with Coffee - 46.87%\n",
    "\n",
    "The median employee turnover rates of the businesses are:\n",
    "1. Ed's Barber Supplies - 40%\n",
    "2. Penguin Swim School - 0%\n",
    "3. Please Bring Pizza Pronto - 40%\n",
    "4. Wake Up with Coffee - 40%"
   ]
  },
  {
   "metadata": {},
   "cell_type": "code",
   "outputs": [],
   "execution_count": null,
   "source": "",
   "id": "d38105f2d420e7de"
  }
 ],
 "metadata": {
  "kernelspec": {
   "display_name": "Python 3 (ipykernel)",
   "language": "python",
   "name": "python3"
  },
  "language_info": {
   "codemirror_mode": {
    "name": "ipython",
    "version": 3
   },
   "file_extension": ".py",
   "mimetype": "text/x-python",
   "name": "python",
   "nbconvert_exporter": "python",
   "pygments_lexer": "ipython3",
   "version": "3.9.12"
  }
 },
 "nbformat": 4,
 "nbformat_minor": 5
}
